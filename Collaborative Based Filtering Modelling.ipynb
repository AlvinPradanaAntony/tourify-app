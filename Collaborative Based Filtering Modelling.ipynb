{
 "cells": [
  {
   "cell_type": "markdown",
   "metadata": {
    "id": "XCgnRTLqYofh"
   },
   "source": [
    "#Collecting Data"
   ]
  },
  {
   "cell_type": "markdown",
   "metadata": {
    "id": "o0Gvzsn6YxR-"
   },
   "source": [
    "Data ini diambil dari kaggle https://www.kaggle.com/datasets/aprabowo/indonesia-tourism-destination"
   ]
  },
  {
   "cell_type": "markdown",
   "metadata": {
    "id": "7tWODqZdY9P3"
   },
   "source": [
    "#Preparing Dataset"
   ]
  },
  {
   "cell_type": "markdown",
   "metadata": {
    "id": "HMQuvkNOZEYK"
   },
   "source": [
    "1. Importing necessary library\n",
    "2. Filtering dataset (surabaya only)\n",
    "3. Cleaning unnecessary variable\n",
    "4. Exploratory data analysis"
   ]
  },
  {
   "cell_type": "markdown",
   "metadata": {
    "id": "tFMvkJTEZd93"
   },
   "source": [
    "#Importing necessary library\n"
   ]
  },
  {
   "cell_type": "code",
   "execution_count": 1,
   "metadata": {
    "executionInfo": {
     "elapsed": 2826,
     "status": "ok",
     "timestamp": 1685076576274,
     "user": {
      "displayName": "Faricha Ghina Nufasa",
      "userId": "16796762651901786117"
     },
     "user_tz": -420
    },
    "id": "sAt5nK6gZiih"
   },
   "outputs": [],
   "source": [
    "import csv\n",
    "import numpy as np\n",
    "import pandas as pd\n",
    "import matplotlib.pyplot as plt\n",
    "import seaborn as sns"
   ]
  },
  {
   "cell_type": "markdown",
   "metadata": {
    "id": "AnSeT4abaJJI"
   },
   "source": [
    "#Filtering Dataset (Surabaya Only)"
   ]
  },
  {
   "cell_type": "code",
   "execution_count": 3,
   "metadata": {
    "executionInfo": {
     "elapsed": 1135,
     "status": "ok",
     "timestamp": 1685076614719,
     "user": {
      "displayName": "Faricha Ghina Nufasa",
      "userId": "16796762651901786117"
     },
     "user_tz": -420
    },
    "id": "U6-pVAI-aTHH"
   },
   "outputs": [],
   "source": [
    "#Importing dataset\n",
    "place = pd.read_csv(\"D:/KULIAH/Semester 6/BANGKIT/CAPSTONE/Dataset/tourism_new.csv\", delimiter=';')\n",
    "rating = pd.read_csv(\"D:/KULIAH/Semester 6/BANGKIT/CAPSTONE/Dataset/tourism_rating.csv\")\n",
    "user = pd.read_csv(\"D:/KULIAH/Semester 6/BANGKIT/CAPSTONE/Dataset/user.csv\", delimiter=';')"
   ]
  },
  {
   "cell_type": "code",
   "execution_count": 4,
   "metadata": {
    "colab": {
     "base_uri": "https://localhost:8080/"
    },
    "executionInfo": {
     "elapsed": 5,
     "status": "ok",
     "timestamp": 1685076618296,
     "user": {
      "displayName": "Faricha Ghina Nufasa",
      "userId": "16796762651901786117"
     },
     "user_tz": -420
    },
    "id": "ruLjpyDyaAyv",
    "outputId": "4b8ae864-5f78-475d-cbfd-69ae34217318"
   },
   "outputs": [
    {
     "name": "stdout",
     "output_type": "stream",
     "text": [
      "   Place_Id             Place_Name  \\\n",
      "0       393  Taman Harmoni Keputih   \n",
      "1       394      Air Mancur Menari   \n",
      "2       395         Taman Prestasi   \n",
      "3       396    Monumen Kapal Selam   \n",
      "4       397    Taman Kunang-Kunang   \n",
      "\n",
      "                                         Description       Category      City  \\\n",
      "0  Tempat tersebut ialah Taman Hatmoni Keputih Su...     Cagar Alam  Surabaya   \n",
      "1  Jembatan Kenjeran dengan air mancur menarinya ...  Taman Hiburan  Surabaya   \n",
      "2  Taman Prestasi Surabaya merupakan salah satu t...  Taman Hiburan  Surabaya   \n",
      "3  Monumen Kapal Selam, atau disingkat Monkasel, ...         Budaya  Surabaya   \n",
      "4  Taman Kunang – Kunang di Surabaya ini mempunya...  Taman Hiburan  Surabaya   \n",
      "\n",
      "   Price  Rating  Time_Minutes                  Coordinate  \\\n",
      "0      0     4.4          60.0  {'lat': -7.308648199999999   \n",
      "1  35000     4.4          60.0          {'lat': -7.2952211   \n",
      "2      0     4.6          45.0          {'lat': -7.2356933   \n",
      "3  15000     4.4           NaN          {'lat': -7.2614722   \n",
      "4      0     4.4          30.0          {'lat': -7.2654304   \n",
      "\n",
      "                    Lat         Long          Lokasi  \n",
      "0   'lng': 112.8216622}  -73.086.482  Surabaya Timur  \n",
      "1   'lng': 112.8035603}  -72.952.211  Surabaya Utara  \n",
      "2   'lng': 112.7955234}  -72.356.933  Surabaya Pusat  \n",
      "3   'lng': 112.7428284}  -72.614.722  Surabaya Pusat  \n",
      "4   'lng': 112.7503052}  -72.654.304  Surabaya Utara  \n",
      "<class 'pandas.core.frame.DataFrame'>\n",
      "RangeIndex: 37 entries, 0 to 36\n",
      "Data columns (total 12 columns):\n",
      " #   Column        Non-Null Count  Dtype  \n",
      "---  ------        --------------  -----  \n",
      " 0   Place_Id      37 non-null     int64  \n",
      " 1   Place_Name    37 non-null     object \n",
      " 2   Description   37 non-null     object \n",
      " 3   Category      37 non-null     object \n",
      " 4   City          37 non-null     object \n",
      " 5   Price         37 non-null     int64  \n",
      " 6   Rating        37 non-null     float64\n",
      " 7   Time_Minutes  25 non-null     float64\n",
      " 8   Coordinate    37 non-null     object \n",
      " 9   Lat           37 non-null     object \n",
      " 10  Long          37 non-null     object \n",
      " 11  Lokasi        37 non-null     object \n",
      "dtypes: float64(2), int64(2), object(8)\n",
      "memory usage: 3.6+ KB\n"
     ]
    }
   ],
   "source": [
    "#Looking for data place\n",
    "print(place.head())\n",
    "place.info()"
   ]
  },
  {
   "cell_type": "code",
   "execution_count": 5,
   "metadata": {
    "colab": {
     "base_uri": "https://localhost:8080/"
    },
    "executionInfo": {
     "elapsed": 6,
     "status": "ok",
     "timestamp": 1685076622807,
     "user": {
      "displayName": "Faricha Ghina Nufasa",
      "userId": "16796762651901786117"
     },
     "user_tz": -420
    },
    "id": "F2oEIPwicKF4",
    "outputId": "5512594a-ab58-4209-ce15-4dab8b037008"
   },
   "outputs": [
    {
     "name": "stdout",
     "output_type": "stream",
     "text": [
      "   User_Id  Place_Id  Place_Ratings\n",
      "0        1       179              3\n",
      "1        1       344              2\n",
      "2        1         5              5\n",
      "3        1       373              3\n",
      "4        1       101              4\n",
      "<class 'pandas.core.frame.DataFrame'>\n",
      "RangeIndex: 10000 entries, 0 to 9999\n",
      "Data columns (total 3 columns):\n",
      " #   Column         Non-Null Count  Dtype\n",
      "---  ------         --------------  -----\n",
      " 0   User_Id        10000 non-null  int64\n",
      " 1   Place_Id       10000 non-null  int64\n",
      " 2   Place_Ratings  10000 non-null  int64\n",
      "dtypes: int64(3)\n",
      "memory usage: 234.5 KB\n"
     ]
    }
   ],
   "source": [
    "#Looking for data rating\n",
    "print(rating.head())\n",
    "rating.info()"
   ]
  },
  {
   "cell_type": "code",
   "execution_count": 6,
   "metadata": {
    "colab": {
     "base_uri": "https://localhost:8080/"
    },
    "executionInfo": {
     "elapsed": 8,
     "status": "ok",
     "timestamp": 1685076626598,
     "user": {
      "displayName": "Faricha Ghina Nufasa",
      "userId": "16796762651901786117"
     },
     "user_tz": -420
    },
    "id": "HUa67IKmcRWS",
    "outputId": "cece6441-13ff-46db-d027-1afc5ed9fd09"
   },
   "outputs": [
    {
     "name": "stdout",
     "output_type": "stream",
     "text": [
      "   User_Id                   Location  Age\n",
      "0        1      Semarang, Jawa Tengah   20\n",
      "1        2         Bekasi, Jawa Barat   21\n",
      "2        3        Cirebon, Jawa Barat   23\n",
      "3        4         Bekasi, Jawa Barat   21\n",
      "4        5  Lampung, Sumatera Selatan   20\n",
      "<class 'pandas.core.frame.DataFrame'>\n",
      "RangeIndex: 300 entries, 0 to 299\n",
      "Data columns (total 3 columns):\n",
      " #   Column    Non-Null Count  Dtype \n",
      "---  ------    --------------  ----- \n",
      " 0   User_Id   300 non-null    int64 \n",
      " 1   Location  300 non-null    object\n",
      " 2   Age       300 non-null    int64 \n",
      "dtypes: int64(2), object(1)\n",
      "memory usage: 7.2+ KB\n"
     ]
    }
   ],
   "source": [
    "#Looking for data user\n",
    "print(user.head())\n",
    "user.info()"
   ]
  },
  {
   "cell_type": "code",
   "execution_count": 7,
   "metadata": {
    "colab": {
     "base_uri": "https://localhost:8080/"
    },
    "executionInfo": {
     "elapsed": 5,
     "status": "ok",
     "timestamp": 1685076629359,
     "user": {
      "displayName": "Faricha Ghina Nufasa",
      "userId": "16796762651901786117"
     },
     "user_tz": -420
    },
    "id": "SWUacaM5caRB",
    "outputId": "677c441c-1eec-45c7-9f57-ef9adbb2c282"
   },
   "outputs": [
    {
     "name": "stdout",
     "output_type": "stream",
     "text": [
      "     User_Id  Place_Id  Place_Ratings\n",
      "832      274       436              4\n",
      "833      284       436              1\n",
      "834      290       436              3\n",
      "835      292       436              2\n",
      "836      294       436              1\n",
      "     User_Id                     Location  Age\n",
      "291      296    Lampung, Sumatera Selatan   31\n",
      "453      297  Palembang, Sumatera Selatan   39\n",
      "583      298            Bogor, Jawa Barat   38\n",
      "198      299          Sragen, Jawa Tengah   27\n",
      "97       300         Ponorogo, Jawa Timur   26\n"
     ]
    }
   ],
   "source": [
    "#Filtering data\n",
    "#1. Selecting database rating only for the city of Surabaya\n",
    "rating = pd.merge(rating, place[['Place_Id']], how ='right', on='Place_Id')\n",
    "\n",
    "#2. Selecting database users for those who only visit the city of Surabaya\n",
    "user = pd.merge(user, rating[['User_Id']], how = 'right', on='User_Id').drop_duplicates().sort_values('User_Id')\n",
    "\n",
    "print(rating.tail())\n",
    "print(user.tail())"
   ]
  },
  {
   "cell_type": "markdown",
   "metadata": {
    "id": "TAxFwLiPek6-"
   },
   "source": [
    "#Cleaning unnecessary variable"
   ]
  },
  {
   "cell_type": "code",
   "execution_count": 8,
   "metadata": {
    "executionInfo": {
     "elapsed": 8,
     "status": "ok",
     "timestamp": 1685076632945,
     "user": {
      "displayName": "Faricha Ghina Nufasa",
      "userId": "16796762651901786117"
     },
     "user_tz": -420
    },
    "id": "oEE5rOF5dGih"
   },
   "outputs": [],
   "source": [
    "\n",
    "#Removing the \"time minutes\" column in the place dataset\n",
    "place = place.drop(['Time_Minutes'], axis=1)\n",
    "\n",
    "#Changing the data \"price\" type in place dataset to float\n",
    "place[\"Price\"] = place[\"Price\"].astype(\"float\")\n",
    "\n",
    "#Changing the data \"rating\" type in rating dataset to float \n",
    "rating[\"Place_Ratings\"] = rating[\"Place_Ratings\"].astype(\"float\")"
   ]
  },
  {
   "cell_type": "code",
   "execution_count": 9,
   "metadata": {
    "colab": {
     "base_uri": "https://localhost:8080/"
    },
    "executionInfo": {
     "elapsed": 765,
     "status": "ok",
     "timestamp": 1685076636426,
     "user": {
      "displayName": "Faricha Ghina Nufasa",
      "userId": "16796762651901786117"
     },
     "user_tz": -420
    },
    "id": "cQj2pJ0udxms",
    "outputId": "98162268-0db7-4eed-e1e1-5ee1b3bb65db"
   },
   "outputs": [
    {
     "name": "stdout",
     "output_type": "stream",
     "text": [
      "   Place_Id             Place_Name  \\\n",
      "0       393  Taman Harmoni Keputih   \n",
      "1       394      Air Mancur Menari   \n",
      "2       395         Taman Prestasi   \n",
      "3       396    Monumen Kapal Selam   \n",
      "4       397    Taman Kunang-Kunang   \n",
      "\n",
      "                                         Description       Category      City  \\\n",
      "0  Tempat tersebut ialah Taman Hatmoni Keputih Su...     Cagar Alam  Surabaya   \n",
      "1  Jembatan Kenjeran dengan air mancur menarinya ...  Taman Hiburan  Surabaya   \n",
      "2  Taman Prestasi Surabaya merupakan salah satu t...  Taman Hiburan  Surabaya   \n",
      "3  Monumen Kapal Selam, atau disingkat Monkasel, ...         Budaya  Surabaya   \n",
      "4  Taman Kunang – Kunang di Surabaya ini mempunya...  Taman Hiburan  Surabaya   \n",
      "\n",
      "     Price  Rating                  Coordinate                   Lat  \\\n",
      "0      0.0     4.4  {'lat': -7.308648199999999   'lng': 112.8216622}   \n",
      "1  35000.0     4.4          {'lat': -7.2952211   'lng': 112.8035603}   \n",
      "2      0.0     4.6          {'lat': -7.2356933   'lng': 112.7955234}   \n",
      "3  15000.0     4.4          {'lat': -7.2614722   'lng': 112.7428284}   \n",
      "4      0.0     4.4          {'lat': -7.2654304   'lng': 112.7503052}   \n",
      "\n",
      "          Long          Lokasi  \n",
      "0  -73.086.482  Surabaya Timur  \n",
      "1  -72.952.211  Surabaya Utara  \n",
      "2  -72.356.933  Surabaya Pusat  \n",
      "3  -72.614.722  Surabaya Pusat  \n",
      "4  -72.654.304  Surabaya Utara  \n",
      "<class 'pandas.core.frame.DataFrame'>\n",
      "RangeIndex: 37 entries, 0 to 36\n",
      "Data columns (total 11 columns):\n",
      " #   Column       Non-Null Count  Dtype  \n",
      "---  ------       --------------  -----  \n",
      " 0   Place_Id     37 non-null     int64  \n",
      " 1   Place_Name   37 non-null     object \n",
      " 2   Description  37 non-null     object \n",
      " 3   Category     37 non-null     object \n",
      " 4   City         37 non-null     object \n",
      " 5   Price        37 non-null     float64\n",
      " 6   Rating       37 non-null     float64\n",
      " 7   Coordinate   37 non-null     object \n",
      " 8   Lat          37 non-null     object \n",
      " 9   Long         37 non-null     object \n",
      " 10  Lokasi       37 non-null     object \n",
      "dtypes: float64(2), int64(1), object(8)\n",
      "memory usage: 3.3+ KB\n",
      "None\n",
      "<class 'pandas.core.frame.DataFrame'>\n",
      "Int64Index: 837 entries, 0 to 836\n",
      "Data columns (total 3 columns):\n",
      " #   Column         Non-Null Count  Dtype  \n",
      "---  ------         --------------  -----  \n",
      " 0   User_Id        837 non-null    int64  \n",
      " 1   Place_Id       837 non-null    int64  \n",
      " 2   Place_Ratings  837 non-null    float64\n",
      "dtypes: float64(1), int64(2)\n",
      "memory usage: 26.2 KB\n",
      "None\n"
     ]
    }
   ],
   "source": [
    "print(place.head())\n",
    "print(place.info())\n",
    "print(rating.info())"
   ]
  },
  {
   "cell_type": "code",
   "execution_count": 10,
   "metadata": {
    "colab": {
     "base_uri": "https://localhost:8080/"
    },
    "executionInfo": {
     "elapsed": 6,
     "status": "ok",
     "timestamp": 1685076640134,
     "user": {
      "displayName": "Faricha Ghina Nufasa",
      "userId": "16796762651901786117"
     },
     "user_tz": -420
    },
    "id": "RXb-JM11eEm8",
    "outputId": "47cd1a8e-0643-4e1e-dba5-cf230c37a6be"
   },
   "outputs": [
    {
     "name": "stdout",
     "output_type": "stream",
     "text": [
      "(37, 11)\n",
      "(277, 3)\n",
      "(837, 3)\n"
     ]
    }
   ],
   "source": [
    "#Shape Info for place, user dan rating dataset\n",
    "print(place.shape)\n",
    "print(user.shape)\n",
    "print(rating.shape)"
   ]
  },
  {
   "cell_type": "markdown",
   "metadata": {
    "id": "jFOq2h-CeruG"
   },
   "source": [
    "#Explanatory data analysis"
   ]
  },
  {
   "cell_type": "code",
   "execution_count": 11,
   "metadata": {
    "colab": {
     "base_uri": "https://localhost:8080/"
    },
    "executionInfo": {
     "elapsed": 9,
     "status": "ok",
     "timestamp": 1685076643269,
     "user": {
      "displayName": "Faricha Ghina Nufasa",
      "userId": "16796762651901786117"
     },
     "user_tz": -420
    },
    "id": "SLQKEO1iexXZ",
    "outputId": "3c0f513c-e308-476d-dca7-d256eb084a17"
   },
   "outputs": [
    {
     "name": "stdout",
     "output_type": "stream",
     "text": [
      "    index  Place_Id_x  Place_Id_y                       Place_Name\n",
      "0     402          33         402      Food Junction Grand Pakuwon\n",
      "1     430          32         430           Atlantis Land Surabaya\n",
      "2     416          31         416                 Keraton Surabaya\n",
      "3     406          29         406             Kebun Bibit Wonorejo\n",
      "4     398          28         398              Taman Buah Surabaya\n",
      "5     427          28         427         Patung Buddha Empat Rupa\n",
      "6     405          27         405              Surabaya North Quay\n",
      "7     424          26         424              Pantai Ria Kenjeran\n",
      "8     407          26         407  Taman Ekspresi Dan Perpustakaan\n",
      "9     417          26         417          Kelenteng Sanggar Agung\n",
      "10    434          25         434                    Taman Bungkul\n",
      "11    423          24         423            Patung Sura dan Buaya\n",
      "12    428          24         428   Monumen Bambu Runcing Surabaya\n",
      "13    400          23         400              Hutan Bambu Keputih\n",
      "14    433          23         433              Museum Mpu Tantular\n"
     ]
    }
   ],
   "source": [
    "#Showing tourist attractions with the highest number of ratings\n",
    "top_15 = rating['Place_Id'].value_counts().reset_index()[0:15]\n",
    "top_15 = pd.merge(top_15, place[['Place_Id', 'Place_Name']], how='left', left_on='index', right_on='Place_Id')\n",
    "print(top_15)"
   ]
  },
  {
   "cell_type": "code",
   "execution_count": 12,
   "metadata": {
    "colab": {
     "base_uri": "https://localhost:8080/",
     "height": 674
    },
    "executionInfo": {
     "elapsed": 1420,
     "status": "ok",
     "timestamp": 1685076647538,
     "user": {
      "displayName": "Faricha Ghina Nufasa",
      "userId": "16796762651901786117"
     },
     "user_tz": -420
    },
    "id": "4cxQ5yYQfkpT",
    "outputId": "e189cb8c-668d-45c8-9e02-c5d60c3636fd"
   },
   "outputs": [
    {
     "data": {
      "image/png": "[encoded data removed]",
      "text/plain": [
       "<Figure size 1000x700 with 1 Axes>"
      ]
     },
     "metadata": {},
     "output_type": "display_data"
    }
   ],
   "source": [
    "#Displaying the plot\n",
    "plt.figure(figsize=(10, 7))\n",
    "sns.barplot(x='Place_Id_x', y='Place_Name', data=top_15)\n",
    "plt.title('Daftar Tempat Wisata dengan Jumlah Rating Terbanyak', pad=30)\n",
    "plt.xlabel('Jumlah Rating')\n",
    "plt.ylabel('Tempat Wisata')\n",
    "plt.show()"
   ]
  },
  {
   "cell_type": "code",
   "execution_count": 13,
   "metadata": {
    "colab": {
     "base_uri": "https://localhost:8080/",
     "height": 472
    },
    "executionInfo": {
     "elapsed": 1241,
     "status": "ok",
     "timestamp": 1685076655071,
     "user": {
      "displayName": "Faricha Ghina Nufasa",
      "userId": "16796762651901786117"
     },
     "user_tz": -420
    },
    "id": "ArflLyV4f4cP",
    "outputId": "86c85a56-d935-41c8-b2cd-d833a5ee8f33"
   },
   "outputs": [
    {
     "data": {
      "image/png": "[encoded data removed]",
      "text/plain": [
       "<Figure size 640x480 with 1 Axes>"
      ]
     },
     "metadata": {},
     "output_type": "display_data"
    }
   ],
   "source": [
    "#Displaying the comparison of the destination categories in the Surabaya\n",
    "sns.countplot(y='Category', data=place)\n",
    "plt.title('Perbandingan Kategori Tempat Wisata di Kota Surabaya')\n",
    "plt.show()"
   ]
  },
  {
   "cell_type": "markdown",
   "metadata": {
    "id": "Oi7autwLTHif"
   },
   "source": []
  },
  {
   "cell_type": "markdown",
   "metadata": {
    "id": "Z9kk9cqBTLhY"
   },
   "source": [
    "\n",
    "# Modelling Content Based Filtering"
   ]
  },
  {
   "cell_type": "code",
   "execution_count": 14,
   "metadata": {
    "executionInfo": {
     "elapsed": 573,
     "status": "ok",
     "timestamp": 1685076660851,
     "user": {
      "displayName": "Faricha Ghina Nufasa",
      "userId": "16796762651901786117"
     },
     "user_tz": -420
    },
    "id": "46rkuNvmTTd1"
   },
   "outputs": [],
   "source": [
    "from sklearn.feature_extraction.text import TfidfVectorizer\n",
    "from sklearn.metrics.pairwise import linear_kernel"
   ]
  },
  {
   "cell_type": "code",
   "execution_count": 15,
   "metadata": {
    "colab": {
     "base_uri": "https://localhost:8080/"
    },
    "executionInfo": {
     "elapsed": 3,
     "status": "ok",
     "timestamp": 1685076662919,
     "user": {
      "displayName": "Faricha Ghina Nufasa",
      "userId": "16796762651901786117"
     },
     "user_tz": -420
    },
    "id": "SyYaFXjFTggf",
    "outputId": "4f8b2b34-da57-4249-a383-74f257b30439"
   },
   "outputs": [
    {
     "data": {
      "text/plain": [
       "(37, 1380)"
      ]
     },
     "execution_count": 15,
     "metadata": {},
     "output_type": "execute_result"
    }
   ],
   "source": [
    "td = TfidfVectorizer(stop_words='english')\n",
    "tfidf_matrix = td.fit_transform(place['Description'])\n",
    "tfidf_matrix.shape"
   ]
  },
  {
   "cell_type": "code",
   "execution_count": 16,
   "metadata": {
    "colab": {
     "base_uri": "https://localhost:8080/"
    },
    "executionInfo": {
     "elapsed": 341,
     "status": "ok",
     "timestamp": 1685076665610,
     "user": {
      "displayName": "Faricha Ghina Nufasa",
      "userId": "16796762651901786117"
     },
     "user_tz": -420
    },
    "id": "2igqK11PTkB4",
    "outputId": "d6962e14-131d-4de1-d071-7b3dffd4c26c"
   },
   "outputs": [
    {
     "data": {
      "text/plain": [
       "array([[1.        , 0.11806254, 0.18330884, ..., 0.15911774, 0.05445854,\n",
       "        0.23736041],\n",
       "       [0.11806254, 1.        , 0.10558219, ..., 0.19926387, 0.37699536,\n",
       "        0.09402296],\n",
       "       [0.18330884, 0.10558219, 1.        , ..., 0.24934841, 0.08070536,\n",
       "        0.21838485],\n",
       "       ...,\n",
       "       [0.15911774, 0.19926387, 0.24934841, ..., 1.        , 0.15111992,\n",
       "        0.24053191],\n",
       "       [0.05445854, 0.37699536, 0.08070536, ..., 0.15111992, 1.        ,\n",
       "        0.06264978],\n",
       "       [0.23736041, 0.09402296, 0.21838485, ..., 0.24053191, 0.06264978,\n",
       "        1.        ]])"
      ]
     },
     "execution_count": 16,
     "metadata": {},
     "output_type": "execute_result"
    }
   ],
   "source": [
    "#Computing the cosine similarity matrix\n",
    "cosine_sim = linear_kernel(tfidf_matrix, tfidf_matrix)\n",
    "cosine_sim"
   ]
  },
  {
   "cell_type": "code",
   "execution_count": 17,
   "metadata": {
    "executionInfo": {
     "elapsed": 4,
     "status": "ok",
     "timestamp": 1685076673736,
     "user": {
      "displayName": "Faricha Ghina Nufasa",
      "userId": "16796762651901786117"
     },
     "user_tz": -420
    },
    "id": "6Wksf6XkTyDt"
   },
   "outputs": [],
   "source": [
    "#Construct a reverse map of indices and movie title\n",
    "indicate = pd.Series(place.index, index=place['Place_Name']).drop_duplicates()"
   ]
  },
  {
   "cell_type": "code",
   "execution_count": 18,
   "metadata": {
    "executionInfo": {
     "elapsed": 4,
     "status": "ok",
     "timestamp": 1685076675900,
     "user": {
      "displayName": "Faricha Ghina Nufasa",
      "userId": "16796762651901786117"
     },
     "user_tz": -420
    },
    "id": "VEADdzBmVILX"
   },
   "outputs": [],
   "source": [
    "#Function that takes in place name as input and outputs most similar destination\n",
    "def recommendation(Place_name, cosine_sim=cosine_sim):\n",
    "  idx = indicate[Place_name]\n",
    "  sim_scores = list(enumerate(cosine_sim[idx]))\n",
    "  sim_scores = sorted(sim_scores, key=lambda x: x[1], reverse=True)\n",
    "  sim_scores = sim_scores[1:11]\n",
    "  destination_indicate = [i[0] for i in sim_scores]\n",
    "  return place['Place_Name'].iloc[destination_indicate]"
   ]
  },
  {
   "cell_type": "code",
   "execution_count": 21,
   "metadata": {
    "colab": {
     "base_uri": "https://localhost:8080/"
    },
    "executionInfo": {
     "elapsed": 6830,
     "status": "ok",
     "timestamp": 1685076721068,
     "user": {
      "displayName": "Faricha Ghina Nufasa",
      "userId": "16796762651901786117"
     },
     "user_tz": -420
    },
    "id": "PhkXl6FqVMJR",
    "outputId": "158e26da-ead3-4f3b-a482-e51e65be013a"
   },
   "outputs": [
    {
     "name": "stdout",
     "output_type": "stream",
     "text": [
      "Keraton Surabaya\n"
     ]
    },
    {
     "data": {
      "text/plain": [
       "10                   Kenjeran Park\n",
       "27        Patung Buddha Empat Rupa\n",
       "25             Pantai Ria Kenjeran\n",
       "16                  Jembatan Merah\n",
       "34                   Taman Bungkul\n",
       "5              Taman Buah Surabaya\n",
       "36    Taman Flora Bratang Surabaya\n",
       "11             Surabaya North Quay\n",
       "2                   Taman Prestasi\n",
       "0            Taman Harmoni Keputih\n",
       "Name: Place_Name, dtype: object"
      ]
     },
     "execution_count": 21,
     "metadata": {},
     "output_type": "execute_result"
    }
   ],
   "source": [
    "# Giving destination recomendation from place that input from user\n",
    "recommendation(input())"
   ]
  },
  {
   "cell_type": "markdown",
   "metadata": {
    "id": "CBSiPjoAYnBY"
   },
   "source": [
    "\n",
    "# Collaborative Based Filtering\n"
   ]
  },
  {
   "cell_type": "code",
   "execution_count": 22,
   "metadata": {},
   "outputs": [],
   "source": [
    "import tensorflow as tf\n",
    "from tensorflow import keras"
   ]
  },
  {
   "cell_type": "code",
   "execution_count": 23,
   "metadata": {
    "colab": {
     "base_uri": "https://localhost:8080/"
    },
    "executionInfo": {
     "elapsed": 6,
     "status": "ok",
     "timestamp": 1685077096621,
     "user": {
      "displayName": "Faricha Ghina Nufasa",
      "userId": "16796762651901786117"
     },
     "user_tz": -420
    },
    "id": "K383NFuPY_QR",
    "outputId": "1136bb36-9f0d-4d91-9058-570656cbee9d"
   },
   "outputs": [
    {
     "name": "stdout",
     "output_type": "stream",
     "text": [
      "(837, 3)\n",
      "(330, 3)\n",
      "     User_Id  Place_Id  Place_Ratings\n",
      "1          6       393            2.0\n",
      "3         19       393            3.0\n",
      "8         82       393            5.0\n",
      "11       131       393            3.0\n",
      "12       131       393            4.0\n",
      "..       ...       ...            ...\n",
      "829      198       436            1.0\n",
      "830      224       436            1.0\n",
      "831      248       436            5.0\n",
      "832      274       436            4.0\n",
      "833      284       436            1.0\n",
      "\n",
      "[330 rows x 3 columns]\n"
     ]
    }
   ],
   "source": [
    "#Filtering data \n",
    "min_place_rating = 20\n",
    "filter_place = (rating[\"Place_Id\"].value_counts()>min_place_rating)\n",
    "filter_place = filter_place[filter_place].index.tolist()\n",
    "\n",
    "min_user_rating =3 \n",
    "filter_user = (rating[\"User_Id\"].value_counts()>min_user_rating)\n",
    "filter_user = filter_user[filter_user].index.tolist()\n",
    "\n",
    "filtered_data = rating[(rating[\"Place_Id\"].isin(filter_place)) & (rating[\"User_Id\"]).isin(filter_user)]\n",
    "print(rating.shape)\n",
    "print(filtered_data.shape)\n",
    "print(filtered_data)"
   ]
  },
  {
   "cell_type": "code",
   "execution_count": 24,
   "metadata": {
    "colab": {
     "base_uri": "https://localhost:8080/",
     "height": 423
    },
    "executionInfo": {
     "elapsed": 18,
     "status": "ok",
     "timestamp": 1685077099600,
     "user": {
      "displayName": "Faricha Ghina Nufasa",
      "userId": "16796762651901786117"
     },
     "user_tz": -420
    },
    "id": "adCXF4ULQdB2",
    "outputId": "4903b29c-ab94-459f-e7ff-c440cd05a27d"
   },
   "outputs": [
    {
     "data": {
      "text/html": [
       "<div>\n",
       "<style scoped>\n",
       "    .dataframe tbody tr th:only-of-type {\n",
       "        vertical-align: middle;\n",
       "    }\n",
       "\n",
       "    .dataframe tbody tr th {\n",
       "        vertical-align: top;\n",
       "    }\n",
       "\n",
       "    .dataframe thead th {\n",
       "        text-align: right;\n",
       "    }\n",
       "</style>\n",
       "<table border=\"1\" class=\"dataframe\">\n",
       "  <thead>\n",
       "    <tr style=\"text-align: right;\">\n",
       "      <th></th>\n",
       "      <th>User_Id</th>\n",
       "      <th>Place_Id</th>\n",
       "      <th>Place_Ratings</th>\n",
       "    </tr>\n",
       "  </thead>\n",
       "  <tbody>\n",
       "    <tr>\n",
       "      <th>1</th>\n",
       "      <td>6</td>\n",
       "      <td>393</td>\n",
       "      <td>2.0</td>\n",
       "    </tr>\n",
       "    <tr>\n",
       "      <th>3</th>\n",
       "      <td>19</td>\n",
       "      <td>393</td>\n",
       "      <td>3.0</td>\n",
       "    </tr>\n",
       "    <tr>\n",
       "      <th>8</th>\n",
       "      <td>82</td>\n",
       "      <td>393</td>\n",
       "      <td>5.0</td>\n",
       "    </tr>\n",
       "    <tr>\n",
       "      <th>11</th>\n",
       "      <td>131</td>\n",
       "      <td>393</td>\n",
       "      <td>3.0</td>\n",
       "    </tr>\n",
       "    <tr>\n",
       "      <th>12</th>\n",
       "      <td>131</td>\n",
       "      <td>393</td>\n",
       "      <td>4.0</td>\n",
       "    </tr>\n",
       "    <tr>\n",
       "      <th>...</th>\n",
       "      <td>...</td>\n",
       "      <td>...</td>\n",
       "      <td>...</td>\n",
       "    </tr>\n",
       "    <tr>\n",
       "      <th>829</th>\n",
       "      <td>198</td>\n",
       "      <td>436</td>\n",
       "      <td>1.0</td>\n",
       "    </tr>\n",
       "    <tr>\n",
       "      <th>830</th>\n",
       "      <td>224</td>\n",
       "      <td>436</td>\n",
       "      <td>1.0</td>\n",
       "    </tr>\n",
       "    <tr>\n",
       "      <th>831</th>\n",
       "      <td>248</td>\n",
       "      <td>436</td>\n",
       "      <td>5.0</td>\n",
       "    </tr>\n",
       "    <tr>\n",
       "      <th>832</th>\n",
       "      <td>274</td>\n",
       "      <td>436</td>\n",
       "      <td>4.0</td>\n",
       "    </tr>\n",
       "    <tr>\n",
       "      <th>833</th>\n",
       "      <td>284</td>\n",
       "      <td>436</td>\n",
       "      <td>1.0</td>\n",
       "    </tr>\n",
       "  </tbody>\n",
       "</table>\n",
       "<p>330 rows × 3 columns</p>\n",
       "</div>"
      ],
      "text/plain": [
       "     User_Id  Place_Id  Place_Ratings\n",
       "1          6       393            2.0\n",
       "3         19       393            3.0\n",
       "8         82       393            5.0\n",
       "11       131       393            3.0\n",
       "12       131       393            4.0\n",
       "..       ...       ...            ...\n",
       "829      198       436            1.0\n",
       "830      224       436            1.0\n",
       "831      248       436            5.0\n",
       "832      274       436            4.0\n",
       "833      284       436            1.0\n",
       "\n",
       "[330 rows x 3 columns]"
      ]
     },
     "execution_count": 24,
     "metadata": {},
     "output_type": "execute_result"
    }
   ],
   "source": [
    "#Copy filtered data to another dataset\n",
    "df = filtered_data.copy()\n",
    "df"
   ]
  },
  {
   "cell_type": "markdown",
   "metadata": {
    "id": "EeSPY4CQQs58"
   },
   "source": [
    "Doing the Encoding Dataset"
   ]
  },
  {
   "cell_type": "code",
   "execution_count": 25,
   "metadata": {
    "colab": {
     "base_uri": "https://localhost:8080/"
    },
    "executionInfo": {
     "elapsed": 623,
     "status": "ok",
     "timestamp": 1684974053852,
     "user": {
      "displayName": "Faricha Ghina Nufasa",
      "userId": "16796762651901786117"
     },
     "user_tz": -420
    },
    "id": "lBwUW2ljQvrm",
    "outputId": "2cf168e3-9dca-431f-b187-f06d89466b51"
   },
   "outputs": [
    {
     "name": "stdout",
     "output_type": "stream",
     "text": [
      "list User_id:  [6, 19, 82, 131, 184, 255, 261, 5, 49, 106, 178, 188, 209, 216, 220, 262, 286, 28, 40, 74, 121, 179, 202, 268, 287, 13, 17, 58, 154, 166, 191, 198, 257, 259, 285, 65, 94, 116, 118, 146, 150, 157, 167, 175, 206, 267, 283, 9, 76, 84, 173, 299, 91, 204, 228, 265, 278, 43, 55, 83, 142, 187, 210, 295, 226, 272, 124, 242, 248, 284, 149, 219, 224, 274, 282, 33, 130, 297, 123, 217, 136, 101, 227, 269, 80, 112, 93, 194, 77, 122]\n",
      "encoded user_id:  {6: 0, 19: 1, 82: 2, 131: 3, 184: 4, 255: 5, 261: 6, 5: 7, 49: 8, 106: 9, 178: 10, 188: 11, 209: 12, 216: 13, 220: 14, 262: 15, 286: 16, 28: 17, 40: 18, 74: 19, 121: 20, 179: 21, 202: 22, 268: 23, 287: 24, 13: 25, 17: 26, 58: 27, 154: 28, 166: 29, 191: 30, 198: 31, 257: 32, 259: 33, 285: 34, 65: 35, 94: 36, 116: 37, 118: 38, 146: 39, 150: 40, 157: 41, 167: 42, 175: 43, 206: 44, 267: 45, 283: 46, 9: 47, 76: 48, 84: 49, 173: 50, 299: 51, 91: 52, 204: 53, 228: 54, 265: 55, 278: 56, 43: 57, 55: 58, 83: 59, 142: 60, 187: 61, 210: 62, 295: 63, 226: 64, 272: 65, 124: 66, 242: 67, 248: 68, 284: 69, 149: 70, 219: 71, 224: 72, 274: 73, 282: 74, 33: 75, 130: 76, 297: 77, 123: 78, 217: 79, 136: 80, 101: 81, 227: 82, 269: 83, 80: 84, 112: 85, 93: 86, 194: 87, 77: 88, 122: 89}\n",
      "encoded value to User_Id:  {0: 6, 1: 19, 2: 82, 3: 131, 4: 184, 5: 255, 6: 261, 7: 5, 8: 49, 9: 106, 10: 178, 11: 188, 12: 209, 13: 216, 14: 220, 15: 262, 16: 286, 17: 28, 18: 40, 19: 74, 20: 121, 21: 179, 22: 202, 23: 268, 24: 287, 25: 13, 26: 17, 27: 58, 28: 154, 29: 166, 30: 191, 31: 198, 32: 257, 33: 259, 34: 285, 35: 65, 36: 94, 37: 116, 38: 118, 39: 146, 40: 150, 41: 157, 42: 167, 43: 175, 44: 206, 45: 267, 46: 283, 47: 9, 48: 76, 49: 84, 50: 173, 51: 299, 52: 91, 53: 204, 54: 228, 55: 265, 56: 278, 57: 43, 58: 55, 59: 83, 60: 142, 61: 187, 62: 210, 63: 295, 64: 226, 65: 272, 66: 124, 67: 242, 68: 248, 69: 284, 70: 149, 71: 219, 72: 224, 73: 274, 74: 282, 75: 33, 76: 130, 77: 297, 78: 123, 79: 217, 80: 136, 81: 101, 82: 227, 83: 269, 84: 80, 85: 112, 86: 93, 87: 194, 88: 77, 89: 122}\n"
     ]
    }
   ],
   "source": [
    "#Preprocessing to change the User_ID without the same value\n",
    "user_ids = df['User_Id'].unique().tolist()\n",
    "print('list User_id: ', user_ids)\n",
    "\n",
    "#Encoding User_Id\n",
    "user_to_user_encoded = {x: i for i, x in enumerate(user_ids)}\n",
    "print('encoded user_id: ', user_to_user_encoded)\n",
    "\n",
    "#Encoding value to User_Id\n",
    "user_encoded_to_user = {i: x for i, x in enumerate(user_ids)}\n",
    "print('encoded value to User_Id: ', user_encoded_to_user)\n"
   ]
  },
  {
   "cell_type": "code",
   "execution_count": 26,
   "metadata": {
    "colab": {
     "base_uri": "https://localhost:8080/"
    },
    "executionInfo": {
     "elapsed": 617,
     "status": "ok",
     "timestamp": 1684974267876,
     "user": {
      "displayName": "Faricha Ghina Nufasa",
      "userId": "16796762651901786117"
     },
     "user_tz": -420
    },
    "id": "mLAz9hLBR7YA",
    "outputId": "ee9f7bdf-dec0-4d02-840e-414bc19801e3"
   },
   "outputs": [
    {
     "name": "stdout",
     "output_type": "stream",
     "text": [
      "list place_id:  [393, 395, 397, 398, 400, 402, 405, 406, 407, 410, 414, 416, 417, 421, 422, 423, 424, 426, 427, 428, 429, 430, 431, 433, 434, 436]\n",
      "encoded place_id:  {393: 0, 395: 1, 397: 2, 398: 3, 400: 4, 402: 5, 405: 6, 406: 7, 407: 8, 410: 9, 414: 10, 416: 11, 417: 12, 421: 13, 422: 14, 423: 15, 424: 16, 426: 17, 427: 18, 428: 19, 429: 20, 430: 21, 431: 22, 433: 23, 434: 24, 436: 25}\n",
      "encoded value to place_id:  {0: 393, 1: 395, 2: 397, 3: 398, 4: 400, 5: 402, 6: 405, 7: 406, 8: 407, 9: 410, 10: 414, 11: 416, 12: 417, 13: 421, 14: 422, 15: 423, 16: 424, 17: 426, 18: 427, 19: 428, 20: 429, 21: 430, 22: 431, 23: 433, 24: 434, 25: 436}\n"
     ]
    }
   ],
   "source": [
    "#Changing the \"Place_Id\" to List without the same value\n",
    "place_ids = df['Place_Id'].unique().tolist()\n",
    "print('list place_id: ', place_ids)\n",
    "\n",
    "#Encoding \"Place_Id\"\n",
    "place_to_place_encoded = {x: i for i, x in enumerate(place_ids)}\n",
    "print('encoded place_id: ', place_to_place_encoded)\n",
    "\n",
    "#Encoding value to \"Place_Id\"\n",
    "place_encoded_to_place = {i: x for i, x in enumerate(place_ids)}\n",
    "print('encoded value to place_id: ', place_encoded_to_place )"
   ]
  },
  {
   "cell_type": "code",
   "execution_count": 27,
   "metadata": {
    "id": "OeQJynpHSvhT"
   },
   "outputs": [],
   "source": [
    "#Mapping User_Id to dataframe\n",
    "df['user'] =df['User_Id'].map(user_to_user_encoded)\n",
    "\n",
    "#Mapping Place_Id to dataframe\n",
    "df['place']=df['Place_Id'].map(place_to_place_encoded)"
   ]
  },
  {
   "cell_type": "code",
   "execution_count": 28,
   "metadata": {
    "id": "3wnngZ3XS-mY"
   },
   "outputs": [
    {
     "name": "stdout",
     "output_type": "stream",
     "text": [
      "90 26 1.0 5.0\n"
     ]
    }
   ],
   "source": [
    "num_users = len(user_to_user_encoded)\n",
    "num_places = len(place_to_place_encoded)\n",
    "min_rating = min(df['Place_Ratings'])\n",
    "max_rating = max(df['Place_Ratings'])\n",
    "\n",
    "df['Place_Ratings'] = df['Place_Ratings'].values.astype(np.float32)\n",
    "\n",
    "print(num_users, num_places, min_rating, max_rating)"
   ]
  },
  {
   "cell_type": "code",
   "execution_count": 29,
   "metadata": {
    "id": "NSO9LmIxTd10"
   },
   "outputs": [
    {
     "data": {
      "text/html": [
       "<div>\n",
       "<style scoped>\n",
       "    .dataframe tbody tr th:only-of-type {\n",
       "        vertical-align: middle;\n",
       "    }\n",
       "\n",
       "    .dataframe tbody tr th {\n",
       "        vertical-align: top;\n",
       "    }\n",
       "\n",
       "    .dataframe thead th {\n",
       "        text-align: right;\n",
       "    }\n",
       "</style>\n",
       "<table border=\"1\" class=\"dataframe\">\n",
       "  <thead>\n",
       "    <tr style=\"text-align: right;\">\n",
       "      <th></th>\n",
       "      <th>User_Id</th>\n",
       "      <th>Place_Id</th>\n",
       "      <th>Place_Ratings</th>\n",
       "      <th>user</th>\n",
       "      <th>place</th>\n",
       "    </tr>\n",
       "  </thead>\n",
       "  <tbody>\n",
       "    <tr>\n",
       "      <th>34</th>\n",
       "      <td>5</td>\n",
       "      <td>395</td>\n",
       "      <td>2.0</td>\n",
       "      <td>7</td>\n",
       "      <td>1</td>\n",
       "    </tr>\n",
       "    <tr>\n",
       "      <th>442</th>\n",
       "      <td>187</td>\n",
       "      <td>417</td>\n",
       "      <td>2.0</td>\n",
       "      <td>61</td>\n",
       "      <td>12</td>\n",
       "    </tr>\n",
       "    <tr>\n",
       "      <th>373</th>\n",
       "      <td>224</td>\n",
       "      <td>414</td>\n",
       "      <td>3.0</td>\n",
       "      <td>72</td>\n",
       "      <td>10</td>\n",
       "    </tr>\n",
       "    <tr>\n",
       "      <th>122</th>\n",
       "      <td>257</td>\n",
       "      <td>398</td>\n",
       "      <td>1.0</td>\n",
       "      <td>32</td>\n",
       "      <td>3</td>\n",
       "    </tr>\n",
       "    <tr>\n",
       "      <th>267</th>\n",
       "      <td>17</td>\n",
       "      <td>406</td>\n",
       "      <td>5.0</td>\n",
       "      <td>26</td>\n",
       "      <td>7</td>\n",
       "    </tr>\n",
       "    <tr>\n",
       "      <th>...</th>\n",
       "      <td>...</td>\n",
       "      <td>...</td>\n",
       "      <td>...</td>\n",
       "      <td>...</td>\n",
       "      <td>...</td>\n",
       "    </tr>\n",
       "    <tr>\n",
       "      <th>526</th>\n",
       "      <td>136</td>\n",
       "      <td>422</td>\n",
       "      <td>1.0</td>\n",
       "      <td>80</td>\n",
       "      <td>14</td>\n",
       "    </tr>\n",
       "    <tr>\n",
       "      <th>182</th>\n",
       "      <td>116</td>\n",
       "      <td>402</td>\n",
       "      <td>5.0</td>\n",
       "      <td>37</td>\n",
       "      <td>5</td>\n",
       "    </tr>\n",
       "    <tr>\n",
       "      <th>289</th>\n",
       "      <td>283</td>\n",
       "      <td>406</td>\n",
       "      <td>1.0</td>\n",
       "      <td>46</td>\n",
       "      <td>7</td>\n",
       "    </tr>\n",
       "    <tr>\n",
       "      <th>693</th>\n",
       "      <td>121</td>\n",
       "      <td>430</td>\n",
       "      <td>5.0</td>\n",
       "      <td>20</td>\n",
       "      <td>21</td>\n",
       "    </tr>\n",
       "    <tr>\n",
       "      <th>282</th>\n",
       "      <td>179</td>\n",
       "      <td>406</td>\n",
       "      <td>3.0</td>\n",
       "      <td>21</td>\n",
       "      <td>7</td>\n",
       "    </tr>\n",
       "  </tbody>\n",
       "</table>\n",
       "<p>330 rows × 5 columns</p>\n",
       "</div>"
      ],
      "text/plain": [
       "     User_Id  Place_Id  Place_Ratings  user  place\n",
       "34         5       395            2.0     7      1\n",
       "442      187       417            2.0    61     12\n",
       "373      224       414            3.0    72     10\n",
       "122      257       398            1.0    32      3\n",
       "267       17       406            5.0    26      7\n",
       "..       ...       ...            ...   ...    ...\n",
       "526      136       422            1.0    80     14\n",
       "182      116       402            5.0    37      5\n",
       "289      283       406            1.0    46      7\n",
       "693      121       430            5.0    20     21\n",
       "282      179       406            3.0    21      7\n",
       "\n",
       "[330 rows x 5 columns]"
      ]
     },
     "execution_count": 29,
     "metadata": {},
     "output_type": "execute_result"
    }
   ],
   "source": [
    "df=df.sample(frac=1, random_state=42).iloc[:1000,:]\n",
    "df"
   ]
  },
  {
   "cell_type": "code",
   "execution_count": 30,
   "metadata": {},
   "outputs": [],
   "source": [
    "#Splitting data train and test\n",
    "x = df[['user','place']].values\n",
    "y=df['Place_Ratings'].apply(lambda x:(x-min_rating)/(max_rating-min_rating)).values\n",
    "\n",
    "from sklearn.model_selection import train_test_split\n",
    "\n",
    "x_train, x_test, y_train, y_test = train_test_split(x,y, train_size=0.8, random_state=42)"
   ]
  },
  {
   "cell_type": "code",
   "execution_count": 31,
   "metadata": {},
   "outputs": [
    {
     "name": "stdout",
     "output_type": "stream",
     "text": [
      "(264, 2)\n",
      "(66, 2)\n",
      "(264,)\n",
      "(66,)\n"
     ]
    }
   ],
   "source": [
    "print(x_train.shape)\n",
    "print(x_test.shape)\n",
    "print(y_train.shape)\n",
    "print(y_test.shape)"
   ]
  },
  {
   "cell_type": "code",
   "execution_count": 32,
   "metadata": {},
   "outputs": [],
   "source": [
    "user_id_input = tf.keras.layers.Input(shape=[1], name=\"user_id_input\")\n",
    "place_id_input = tf.keras.layers.Input(shape=[1], name=\"place_id_input\")\n",
    "\n",
    "user_embedding = tf.keras.layers.Embedding(output_dim = 10,\n",
    "                                           input_dim=num_users+1, \n",
    "                                           input_length = 1,\n",
    "                                           name = \"user_embedding\")(user_id_input)\n",
    "place_embedding = tf.keras.layers.Embedding(output_dim = 20,\n",
    "                                            input_dim = num_places+1,\n",
    "                                            input_length = 1,\n",
    "                                           name = \"place_embedding\")(place_id_input)\n",
    "\n",
    "user_vec = tf.keras.layers.Flatten(name =\"flatten-user\")(user_embedding)\n",
    "place_vec = tf.keras.layers.Flatten(name =\"flatten-place\")(place_embedding)"
   ]
  },
  {
   "cell_type": "code",
   "execution_count": 33,
   "metadata": {},
   "outputs": [
    {
     "name": "stdout",
     "output_type": "stream",
     "text": [
      "Epoch 1/100\n",
      "9/9 [==============================] - 4s 72ms/step - loss: 0.3525 - root_mean_squared_error: 0.5937 - val_loss: 0.3684 - val_root_mean_squared_error: 0.6069\n",
      "Epoch 2/100\n",
      "9/9 [==============================] - 0s 13ms/step - loss: 0.3439 - root_mean_squared_error: 0.5864 - val_loss: 0.3573 - val_root_mean_squared_error: 0.5977\n",
      "Epoch 3/100\n",
      "9/9 [==============================] - 0s 12ms/step - loss: 0.3322 - root_mean_squared_error: 0.5763 - val_loss: 0.3449 - val_root_mean_squared_error: 0.5873\n",
      "Epoch 4/100\n",
      "9/9 [==============================] - 0s 12ms/step - loss: 0.3193 - root_mean_squared_error: 0.5651 - val_loss: 0.3329 - val_root_mean_squared_error: 0.5770\n",
      "Epoch 5/100\n",
      "9/9 [==============================] - 0s 14ms/step - loss: 0.3070 - root_mean_squared_error: 0.5541 - val_loss: 0.3211 - val_root_mean_squared_error: 0.5667\n",
      "Epoch 6/100\n",
      "9/9 [==============================] - 0s 14ms/step - loss: 0.2950 - root_mean_squared_error: 0.5431 - val_loss: 0.3096 - val_root_mean_squared_error: 0.5564\n",
      "Epoch 7/100\n",
      "9/9 [==============================] - 0s 10ms/step - loss: 0.2833 - root_mean_squared_error: 0.5323 - val_loss: 0.2983 - val_root_mean_squared_error: 0.5462\n",
      "Epoch 8/100\n",
      "9/9 [==============================] - 0s 12ms/step - loss: 0.2722 - root_mean_squared_error: 0.5217 - val_loss: 0.2878 - val_root_mean_squared_error: 0.5365\n",
      "Epoch 9/100\n",
      "9/9 [==============================] - 0s 12ms/step - loss: 0.2615 - root_mean_squared_error: 0.5114 - val_loss: 0.2781 - val_root_mean_squared_error: 0.5273\n",
      "Epoch 10/100\n",
      "9/9 [==============================] - 0s 14ms/step - loss: 0.2521 - root_mean_squared_error: 0.5021 - val_loss: 0.2687 - val_root_mean_squared_error: 0.5183\n",
      "Epoch 11/100\n",
      "9/9 [==============================] - 0s 14ms/step - loss: 0.2426 - root_mean_squared_error: 0.4926 - val_loss: 0.2599 - val_root_mean_squared_error: 0.5098\n",
      "Epoch 12/100\n",
      "9/9 [==============================] - 0s 14ms/step - loss: 0.2339 - root_mean_squared_error: 0.4837 - val_loss: 0.2518 - val_root_mean_squared_error: 0.5018\n",
      "Epoch 13/100\n",
      "9/9 [==============================] - 0s 12ms/step - loss: 0.2259 - root_mean_squared_error: 0.4753 - val_loss: 0.2439 - val_root_mean_squared_error: 0.4939\n",
      "Epoch 14/100\n",
      "9/9 [==============================] - 0s 12ms/step - loss: 0.2178 - root_mean_squared_error: 0.4667 - val_loss: 0.2366 - val_root_mean_squared_error: 0.4864\n",
      "Epoch 15/100\n",
      "9/9 [==============================] - 0s 12ms/step - loss: 0.2105 - root_mean_squared_error: 0.4588 - val_loss: 0.2298 - val_root_mean_squared_error: 0.4793\n",
      "Epoch 16/100\n",
      "9/9 [==============================] - 0s 12ms/step - loss: 0.2036 - root_mean_squared_error: 0.4513 - val_loss: 0.2234 - val_root_mean_squared_error: 0.4727\n",
      "Epoch 17/100\n",
      "9/9 [==============================] - 0s 12ms/step - loss: 0.1973 - root_mean_squared_error: 0.4442 - val_loss: 0.2177 - val_root_mean_squared_error: 0.4666\n",
      "Epoch 18/100\n",
      "9/9 [==============================] - 0s 12ms/step - loss: 0.1915 - root_mean_squared_error: 0.4376 - val_loss: 0.2123 - val_root_mean_squared_error: 0.4607\n",
      "Epoch 19/100\n",
      "9/9 [==============================] - 0s 13ms/step - loss: 0.1863 - root_mean_squared_error: 0.4316 - val_loss: 0.2071 - val_root_mean_squared_error: 0.4551\n",
      "Epoch 20/100\n",
      "9/9 [==============================] - 0s 14ms/step - loss: 0.1810 - root_mean_squared_error: 0.4255 - val_loss: 0.2026 - val_root_mean_squared_error: 0.4501\n",
      "Epoch 21/100\n",
      "9/9 [==============================] - 0s 14ms/step - loss: 0.1766 - root_mean_squared_error: 0.4202 - val_loss: 0.1984 - val_root_mean_squared_error: 0.4454\n",
      "Epoch 22/100\n",
      "9/9 [==============================] - 0s 14ms/step - loss: 0.1721 - root_mean_squared_error: 0.4149 - val_loss: 0.1944 - val_root_mean_squared_error: 0.4409\n",
      "Epoch 23/100\n",
      "9/9 [==============================] - 0s 13ms/step - loss: 0.1681 - root_mean_squared_error: 0.4100 - val_loss: 0.1906 - val_root_mean_squared_error: 0.4365\n",
      "Epoch 24/100\n",
      "9/9 [==============================] - 0s 13ms/step - loss: 0.1642 - root_mean_squared_error: 0.4053 - val_loss: 0.1870 - val_root_mean_squared_error: 0.4324\n",
      "Epoch 25/100\n",
      "9/9 [==============================] - 0s 14ms/step - loss: 0.1607 - root_mean_squared_error: 0.4008 - val_loss: 0.1837 - val_root_mean_squared_error: 0.4286\n",
      "Epoch 26/100\n",
      "9/9 [==============================] - 0s 14ms/step - loss: 0.1574 - root_mean_squared_error: 0.3967 - val_loss: 0.1805 - val_root_mean_squared_error: 0.4249\n",
      "Epoch 27/100\n",
      "9/9 [==============================] - 0s 13ms/step - loss: 0.1540 - root_mean_squared_error: 0.3924 - val_loss: 0.1777 - val_root_mean_squared_error: 0.4215\n",
      "Epoch 28/100\n",
      "9/9 [==============================] - 0s 14ms/step - loss: 0.1514 - root_mean_squared_error: 0.3891 - val_loss: 0.1751 - val_root_mean_squared_error: 0.4185\n",
      "Epoch 29/100\n",
      "9/9 [==============================] - 0s 12ms/step - loss: 0.1487 - root_mean_squared_error: 0.3856 - val_loss: 0.1728 - val_root_mean_squared_error: 0.4157\n",
      "Epoch 30/100\n",
      "9/9 [==============================] - 0s 12ms/step - loss: 0.1463 - root_mean_squared_error: 0.3825 - val_loss: 0.1709 - val_root_mean_squared_error: 0.4134\n",
      "Epoch 31/100\n",
      "9/9 [==============================] - 0s 11ms/step - loss: 0.1444 - root_mean_squared_error: 0.3800 - val_loss: 0.1688 - val_root_mean_squared_error: 0.4109\n",
      "Epoch 32/100\n",
      "9/9 [==============================] - 0s 12ms/step - loss: 0.1423 - root_mean_squared_error: 0.3772 - val_loss: 0.1669 - val_root_mean_squared_error: 0.4086\n",
      "Epoch 33/100\n",
      "9/9 [==============================] - 0s 11ms/step - loss: 0.1404 - root_mean_squared_error: 0.3747 - val_loss: 0.1653 - val_root_mean_squared_error: 0.4066\n",
      "Epoch 34/100\n",
      "9/9 [==============================] - 0s 11ms/step - loss: 0.1387 - root_mean_squared_error: 0.3724 - val_loss: 0.1637 - val_root_mean_squared_error: 0.4046\n",
      "Epoch 35/100\n",
      "9/9 [==============================] - 0s 12ms/step - loss: 0.1370 - root_mean_squared_error: 0.3701 - val_loss: 0.1623 - val_root_mean_squared_error: 0.4028\n",
      "Epoch 36/100\n",
      "9/9 [==============================] - 0s 10ms/step - loss: 0.1355 - root_mean_squared_error: 0.3681 - val_loss: 0.1609 - val_root_mean_squared_error: 0.4011\n",
      "Epoch 37/100\n",
      "9/9 [==============================] - 0s 12ms/step - loss: 0.1340 - root_mean_squared_error: 0.3661 - val_loss: 0.1595 - val_root_mean_squared_error: 0.3994\n",
      "Epoch 38/100\n",
      "9/9 [==============================] - 0s 12ms/step - loss: 0.1326 - root_mean_squared_error: 0.3642 - val_loss: 0.1584 - val_root_mean_squared_error: 0.3980\n",
      "Epoch 39/100\n",
      "9/9 [==============================] - 0s 12ms/step - loss: 0.1315 - root_mean_squared_error: 0.3626 - val_loss: 0.1573 - val_root_mean_squared_error: 0.3967\n",
      "Epoch 40/100\n",
      "9/9 [==============================] - 0s 11ms/step - loss: 0.1304 - root_mean_squared_error: 0.3611 - val_loss: 0.1563 - val_root_mean_squared_error: 0.3954\n",
      "Epoch 41/100\n",
      "9/9 [==============================] - 0s 12ms/step - loss: 0.1294 - root_mean_squared_error: 0.3597 - val_loss: 0.1555 - val_root_mean_squared_error: 0.3943\n",
      "Epoch 42/100\n",
      "9/9 [==============================] - 0s 11ms/step - loss: 0.1285 - root_mean_squared_error: 0.3585 - val_loss: 0.1548 - val_root_mean_squared_error: 0.3934\n",
      "Epoch 43/100\n",
      "9/9 [==============================] - 0s 12ms/step - loss: 0.1276 - root_mean_squared_error: 0.3573 - val_loss: 0.1541 - val_root_mean_squared_error: 0.3926\n",
      "Epoch 44/100\n",
      "9/9 [==============================] - 0s 16ms/step - loss: 0.1270 - root_mean_squared_error: 0.3564 - val_loss: 0.1535 - val_root_mean_squared_error: 0.3917\n",
      "Epoch 45/100\n",
      "9/9 [==============================] - 0s 14ms/step - loss: 0.1263 - root_mean_squared_error: 0.3554 - val_loss: 0.1529 - val_root_mean_squared_error: 0.3910\n",
      "Epoch 46/100\n",
      "9/9 [==============================] - 0s 12ms/step - loss: 0.1257 - root_mean_squared_error: 0.3546 - val_loss: 0.1524 - val_root_mean_squared_error: 0.3904\n",
      "Epoch 47/100\n",
      "9/9 [==============================] - 0s 12ms/step - loss: 0.1251 - root_mean_squared_error: 0.3538 - val_loss: 0.1520 - val_root_mean_squared_error: 0.3898\n",
      "Epoch 48/100\n",
      "9/9 [==============================] - 0s 12ms/step - loss: 0.1247 - root_mean_squared_error: 0.3531 - val_loss: 0.1515 - val_root_mean_squared_error: 0.3893\n",
      "Epoch 49/100\n",
      "9/9 [==============================] - 0s 13ms/step - loss: 0.1242 - root_mean_squared_error: 0.3524 - val_loss: 0.1512 - val_root_mean_squared_error: 0.3888\n",
      "Epoch 50/100\n",
      "9/9 [==============================] - 0s 12ms/step - loss: 0.1238 - root_mean_squared_error: 0.3519 - val_loss: 0.1508 - val_root_mean_squared_error: 0.3883\n",
      "Epoch 51/100\n",
      "9/9 [==============================] - 0s 12ms/step - loss: 0.1234 - root_mean_squared_error: 0.3512 - val_loss: 0.1504 - val_root_mean_squared_error: 0.3879\n",
      "Epoch 52/100\n",
      "9/9 [==============================] - 0s 12ms/step - loss: 0.1230 - root_mean_squared_error: 0.3507 - val_loss: 0.1501 - val_root_mean_squared_error: 0.3875\n",
      "Epoch 53/100\n",
      "9/9 [==============================] - 0s 12ms/step - loss: 0.1227 - root_mean_squared_error: 0.3502 - val_loss: 0.1498 - val_root_mean_squared_error: 0.3871\n",
      "Epoch 54/100\n",
      "9/9 [==============================] - 0s 14ms/step - loss: 0.1223 - root_mean_squared_error: 0.3497 - val_loss: 0.1495 - val_root_mean_squared_error: 0.3867\n",
      "Epoch 55/100\n",
      "9/9 [==============================] - 0s 12ms/step - loss: 0.1220 - root_mean_squared_error: 0.3493 - val_loss: 0.1493 - val_root_mean_squared_error: 0.3864\n",
      "Epoch 56/100\n",
      "9/9 [==============================] - 0s 12ms/step - loss: 0.1217 - root_mean_squared_error: 0.3489 - val_loss: 0.1491 - val_root_mean_squared_error: 0.3861\n",
      "Epoch 57/100\n",
      "9/9 [==============================] - 0s 12ms/step - loss: 0.1215 - root_mean_squared_error: 0.3485 - val_loss: 0.1489 - val_root_mean_squared_error: 0.3858\n",
      "Epoch 58/100\n",
      "9/9 [==============================] - 0s 12ms/step - loss: 0.1212 - root_mean_squared_error: 0.3482 - val_loss: 0.1487 - val_root_mean_squared_error: 0.3857\n",
      "Epoch 59/100\n",
      "9/9 [==============================] - 0s 12ms/step - loss: 0.1210 - root_mean_squared_error: 0.3479 - val_loss: 0.1486 - val_root_mean_squared_error: 0.3854\n",
      "Epoch 60/100\n",
      "9/9 [==============================] - 0s 12ms/step - loss: 0.1208 - root_mean_squared_error: 0.3476 - val_loss: 0.1484 - val_root_mean_squared_error: 0.3852\n",
      "Epoch 61/100\n",
      "9/9 [==============================] - 0s 11ms/step - loss: 0.1207 - root_mean_squared_error: 0.3474 - val_loss: 0.1482 - val_root_mean_squared_error: 0.3850\n",
      "Epoch 62/100\n",
      "9/9 [==============================] - 0s 11ms/step - loss: 0.1205 - root_mean_squared_error: 0.3471 - val_loss: 0.1481 - val_root_mean_squared_error: 0.3848\n",
      "Epoch 63/100\n",
      "9/9 [==============================] - 0s 13ms/step - loss: 0.1203 - root_mean_squared_error: 0.3468 - val_loss: 0.1480 - val_root_mean_squared_error: 0.3847\n",
      "Epoch 64/100\n",
      "9/9 [==============================] - 0s 11ms/step - loss: 0.1201 - root_mean_squared_error: 0.3466 - val_loss: 0.1479 - val_root_mean_squared_error: 0.3845\n",
      "Epoch 65/100\n",
      "9/9 [==============================] - 0s 12ms/step - loss: 0.1200 - root_mean_squared_error: 0.3464 - val_loss: 0.1478 - val_root_mean_squared_error: 0.3844\n",
      "Epoch 66/100\n",
      "9/9 [==============================] - 0s 12ms/step - loss: 0.1199 - root_mean_squared_error: 0.3462 - val_loss: 0.1477 - val_root_mean_squared_error: 0.3843\n",
      "Epoch 67/100\n",
      "9/9 [==============================] - 0s 12ms/step - loss: 0.1198 - root_mean_squared_error: 0.3461 - val_loss: 0.1476 - val_root_mean_squared_error: 0.3842\n",
      "Epoch 68/100\n",
      "9/9 [==============================] - 0s 11ms/step - loss: 0.1197 - root_mean_squared_error: 0.3460 - val_loss: 0.1476 - val_root_mean_squared_error: 0.3841\n",
      "Epoch 69/100\n",
      "9/9 [==============================] - 0s 13ms/step - loss: 0.1196 - root_mean_squared_error: 0.3458 - val_loss: 0.1475 - val_root_mean_squared_error: 0.3840\n",
      "Epoch 70/100\n",
      "9/9 [==============================] - 0s 12ms/step - loss: 0.1195 - root_mean_squared_error: 0.3457 - val_loss: 0.1474 - val_root_mean_squared_error: 0.3839\n",
      "Epoch 71/100\n",
      "9/9 [==============================] - 0s 12ms/step - loss: 0.1194 - root_mean_squared_error: 0.3455 - val_loss: 0.1474 - val_root_mean_squared_error: 0.3839\n",
      "Epoch 72/100\n",
      "9/9 [==============================] - 0s 12ms/step - loss: 0.1193 - root_mean_squared_error: 0.3454 - val_loss: 0.1473 - val_root_mean_squared_error: 0.3838\n",
      "Epoch 73/100\n",
      "9/9 [==============================] - 0s 12ms/step - loss: 0.1193 - root_mean_squared_error: 0.3453 - val_loss: 0.1473 - val_root_mean_squared_error: 0.3838\n",
      "Epoch 74/100\n",
      "9/9 [==============================] - 0s 10ms/step - loss: 0.1192 - root_mean_squared_error: 0.3452 - val_loss: 0.1472 - val_root_mean_squared_error: 0.3837\n",
      "Epoch 75/100\n",
      "9/9 [==============================] - 0s 11ms/step - loss: 0.1191 - root_mean_squared_error: 0.3452 - val_loss: 0.1472 - val_root_mean_squared_error: 0.3837\n",
      "Epoch 76/100\n",
      "9/9 [==============================] - 0s 13ms/step - loss: 0.1191 - root_mean_squared_error: 0.3451 - val_loss: 0.1472 - val_root_mean_squared_error: 0.3837\n",
      "Epoch 77/100\n",
      "9/9 [==============================] - 0s 14ms/step - loss: 0.1191 - root_mean_squared_error: 0.3450 - val_loss: 0.1472 - val_root_mean_squared_error: 0.3836\n",
      "Epoch 78/100\n",
      "9/9 [==============================] - 0s 11ms/step - loss: 0.1190 - root_mean_squared_error: 0.3450 - val_loss: 0.1471 - val_root_mean_squared_error: 0.3836\n",
      "Epoch 79/100\n",
      "9/9 [==============================] - 0s 6ms/step - loss: 0.1190 - root_mean_squared_error: 0.3449 - val_loss: 0.1471 - val_root_mean_squared_error: 0.3836\n",
      "Epoch 80/100\n",
      "9/9 [==============================] - 0s 4ms/step - loss: 0.1190 - root_mean_squared_error: 0.3449 - val_loss: 0.1471 - val_root_mean_squared_error: 0.3836\n",
      "Epoch 81/100\n",
      "9/9 [==============================] - 0s 6ms/step - loss: 0.1189 - root_mean_squared_error: 0.3449 - val_loss: 0.1471 - val_root_mean_squared_error: 0.3835\n",
      "Epoch 82/100\n",
      "9/9 [==============================] - 0s 6ms/step - loss: 0.1189 - root_mean_squared_error: 0.3448 - val_loss: 0.1471 - val_root_mean_squared_error: 0.3835\n",
      "Epoch 83/100\n",
      "9/9 [==============================] - 0s 5ms/step - loss: 0.1188 - root_mean_squared_error: 0.3447 - val_loss: 0.1471 - val_root_mean_squared_error: 0.3835\n",
      "Epoch 84/100\n",
      "9/9 [==============================] - 0s 6ms/step - loss: 0.1188 - root_mean_squared_error: 0.3447 - val_loss: 0.1471 - val_root_mean_squared_error: 0.3835\n",
      "Epoch 85/100\n",
      "9/9 [==============================] - 0s 4ms/step - loss: 0.1188 - root_mean_squared_error: 0.3447 - val_loss: 0.1470 - val_root_mean_squared_error: 0.3835\n",
      "Epoch 86/100\n",
      "9/9 [==============================] - 0s 6ms/step - loss: 0.1188 - root_mean_squared_error: 0.3446 - val_loss: 0.1470 - val_root_mean_squared_error: 0.3835\n",
      "Epoch 87/100\n",
      "9/9 [==============================] - 0s 6ms/step - loss: 0.1188 - root_mean_squared_error: 0.3446 - val_loss: 0.1470 - val_root_mean_squared_error: 0.3834\n",
      "Epoch 88/100\n",
      "9/9 [==============================] - 0s 9ms/step - loss: 0.1187 - root_mean_squared_error: 0.3446 - val_loss: 0.1470 - val_root_mean_squared_error: 0.3834\n",
      "Epoch 89/100\n",
      "9/9 [==============================] - 0s 12ms/step - loss: 0.1187 - root_mean_squared_error: 0.3445 - val_loss: 0.1470 - val_root_mean_squared_error: 0.3834\n",
      "Epoch 90/100\n",
      "9/9 [==============================] - 0s 13ms/step - loss: 0.1187 - root_mean_squared_error: 0.3445 - val_loss: 0.1470 - val_root_mean_squared_error: 0.3834\n",
      "Epoch 91/100\n",
      "9/9 [==============================] - 0s 12ms/step - loss: 0.1186 - root_mean_squared_error: 0.3444 - val_loss: 0.1470 - val_root_mean_squared_error: 0.3834\n",
      "Epoch 92/100\n",
      "9/9 [==============================] - 0s 12ms/step - loss: 0.1186 - root_mean_squared_error: 0.3444 - val_loss: 0.1470 - val_root_mean_squared_error: 0.3834\n",
      "Epoch 93/100\n",
      "9/9 [==============================] - 0s 12ms/step - loss: 0.1186 - root_mean_squared_error: 0.3443 - val_loss: 0.1470 - val_root_mean_squared_error: 0.3834\n",
      "Epoch 94/100\n",
      "9/9 [==============================] - 0s 12ms/step - loss: 0.1186 - root_mean_squared_error: 0.3443 - val_loss: 0.1470 - val_root_mean_squared_error: 0.3834\n",
      "Epoch 95/100\n",
      "9/9 [==============================] - 0s 11ms/step - loss: 0.1185 - root_mean_squared_error: 0.3443 - val_loss: 0.1470 - val_root_mean_squared_error: 0.3834\n",
      "Epoch 96/100\n",
      "9/9 [==============================] - 0s 13ms/step - loss: 0.1185 - root_mean_squared_error: 0.3442 - val_loss: 0.1470 - val_root_mean_squared_error: 0.3834\n",
      "Epoch 97/100\n",
      "9/9 [==============================] - 0s 12ms/step - loss: 0.1185 - root_mean_squared_error: 0.3442 - val_loss: 0.1470 - val_root_mean_squared_error: 0.3834\n",
      "Epoch 98/100\n",
      "9/9 [==============================] - 0s 12ms/step - loss: 0.1185 - root_mean_squared_error: 0.3442 - val_loss: 0.1470 - val_root_mean_squared_error: 0.3834\n",
      "Epoch 99/100\n",
      "9/9 [==============================] - 0s 13ms/step - loss: 0.1185 - root_mean_squared_error: 0.3442 - val_loss: 0.1470 - val_root_mean_squared_error: 0.3833\n",
      "Epoch 100/100\n",
      "9/9 [==============================] - 0s 11ms/step - loss: 0.1185 - root_mean_squared_error: 0.3442 - val_loss: 0.1470 - val_root_mean_squared_error: 0.3833\n"
     ]
    }
   ],
   "source": [
    "#Model\n",
    "concat = tf.keras.layers.Concatenate()([user_vec, place_vec])\n",
    "\n",
    "fc1 = tf.keras.layers.Dense(128, activation='relu')(concat)\n",
    "fc2 = tf.keras.layers.Dense(128, activation='relu')(fc1)\n",
    "fc3 = tf.keras.layers.Dense(128, activation='relu')(fc2)\n",
    "y = tf.keras.layers.Dense(1)(fc3)\n",
    "\n",
    "model = tf.keras.models.Model(inputs=[user_id_input, place_id_input], outputs=y)\n",
    "\n",
    "model.compile(optimizer = tf.keras.optimizers.SGD(learning_rate=0.0001, momentum = 0.9),\n",
    "              loss = \"mse\",\n",
    "              metrics =[tf.keras.metrics.RootMeanSquaredError()]\n",
    ")\n",
    "              #metrics = [tf.keras.metrics.RootMeanSquaredError()])\n",
    "\n",
    "history = model.fit(x = [x_train[:,0], x_train[:,1]], \n",
    "                    y = y_train,\n",
    "                    validation_data =([x_test[:,0], x_test[:,1]], y_test),\n",
    "                    epochs = 100,\n",
    "                    verbose=1)"
   ]
  },
  {
   "cell_type": "code",
   "execution_count": 34,
   "metadata": {},
   "outputs": [],
   "source": [
    " import tensorflow as tf\n",
    " from sklearn.metrics import mean_squared_error"
   ]
  },
  {
   "cell_type": "code",
   "execution_count": 35,
   "metadata": {},
   "outputs": [
    {
     "data": {
      "text/plain": [
       "<function matplotlib.pyplot.show(close=None, block=None)>"
      ]
     },
     "execution_count": 35,
     "metadata": {},
     "output_type": "execute_result"
    },
    {
     "data": {
      "image/png": "[encoded data removed]",
      "text/plain": [
       "<Figure size 640x480 with 1 Axes>"
      ]
     },
     "metadata": {},
     "output_type": "display_data"
    }
   ],
   "source": [
    "#showing the plot of residual\n",
    "plt.plot(history.history['root_mean_squared_error'])\n",
    "plt.plot(history.history['val_root_mean_squared_error'])\n",
    "plt.title('metrics of model')\n",
    "plt.ylabel('root_mean_squared_error')\n",
    "plt.xlabel('epoch')\n",
    "plt.ylim(ymin=0, ymax=1)\n",
    "plt.legend(['train','test'], loc='center left')\n",
    "plt.show"
   ]
  },
  {
   "cell_type": "code",
   "execution_count": 36,
   "metadata": {},
   "outputs": [
    {
     "name": "stdout",
     "output_type": "stream",
     "text": [
      "1/1 [==============================] - 0s 315ms/step\n"
     ]
    }
   ],
   "source": [
    "place_df = place[['Place_Id', 'Place_Name','Category', 'Rating', 'Price']]\n",
    "place_df.columns = ['id','place_name','category','rating','price']\n",
    "df=filtered_data.copy()\n",
    "\n",
    "user_id = df.User_Id.sample(1).iloc[0]\n",
    "place_visited_by_user = df[df.User_Id == user_id]\n",
    "\n",
    "place_not_visited = place_df[~place_df['id'].isin(place_visited_by_user.Place_Id.values)]['id']\n",
    "place_not_visited = list(\n",
    "    set(place_not_visited)\n",
    "    .intersection(set(place_to_place_encoded.keys()))\n",
    ")\n",
    " \n",
    "place_not_visited = [[place_to_place_encoded.get(x)] for x in place_not_visited]\n",
    "user_encoder = user_to_user_encoded.get(user_id)\n",
    "user_place_array = np.hstack(\n",
    "    ([[user_encoder]] * len(place_not_visited), place_not_visited)\n",
    ")\n",
    "ratings= model.predict([user_place_array[:,0], user_place_array[:,1]]).flatten()"
   ]
  },
  {
   "cell_type": "code",
   "execution_count": 37,
   "metadata": {},
   "outputs": [
    {
     "name": "stdout",
     "output_type": "stream",
     "text": [
      "[434, 400, 423, 405, 402, 406, 414, 431, 433, 395, 436]\n"
     ]
    }
   ],
   "source": [
    "top_ratings_indices = ratings.argsort()[-11:][::-1]\n",
    "recommended_place_ids = [\n",
    "    place_encoded_to_place.get(place_not_visited[x][0]) for x in top_ratings_indices\n",
    "]\n",
    "recommended_place_ids = list(recommended_place_ids)\n",
    "print(recommended_place_ids)"
   ]
  },
  {
   "cell_type": "code",
   "execution_count": 38,
   "metadata": {},
   "outputs": [
    {
     "name": "stdout",
     "output_type": "stream",
     "text": [
      "Daftar rekomendasi untuk: User 33\n",
      "============================================= \n",
      "\n",
      "------------------------------------------------------------\n",
      "Tempat dengan rating wisata paling tinggi dari user\n",
      "------------------------------------------------------------\n",
      "Keraton Surabaya : Budaya\n",
      "House of Sampoerna : Budaya\n",
      "\n",
      "------------------------------------------------------------\n",
      "Top 10 place recommendation\n",
      "------------------------------------------------------------\n",
      "1 . Taman Prestasi \n",
      "     Taman Hiburan , Harga Tiket Masuk  0.0 , Rating Wisata  4.6 \n",
      "\n",
      "2 . Hutan Bambu Keputih \n",
      "     Cagar Alam , Harga Tiket Masuk  0.0 , Rating Wisata  4.3 \n",
      "\n",
      "3 . Food Junction Grand Pakuwon \n",
      "     Pusat Perbelanjaan , Harga Tiket Masuk  0.0 , Rating Wisata  4.5 \n",
      "\n",
      "4 . Surabaya North Quay \n",
      "     Taman Hiburan , Harga Tiket Masuk  50000.0 , Rating Wisata  4.4 \n",
      "\n",
      "5 . Kebun Bibit Wonorejo \n",
      "     Cagar Alam , Harga Tiket Masuk  0.0 , Rating Wisata  4.4 \n",
      "\n",
      "6 . Jembatan Merah \n",
      "     Budaya , Harga Tiket Masuk  0.0 , Rating Wisata  4.5 \n",
      "\n",
      "7 . Patung Sura dan Buaya \n",
      "     Budaya , Harga Tiket Masuk  0.0 , Rating Wisata  4.6 \n",
      "\n",
      "8 . Taman Hiburan Rakyat \n",
      "     Taman Hiburan , Harga Tiket Masuk  5000.0 , Rating Wisata  4.2 \n",
      "\n",
      "9 . Museum Mpu Tantular \n",
      "     Budaya , Harga Tiket Masuk  2000.0 , Rating Wisata  4.4 \n",
      "\n",
      "10 . Taman Bungkul \n",
      "     Taman Hiburan , Harga Tiket Masuk  0.0 , Rating Wisata  4.6 \n",
      "\n",
      "=============================================\n"
     ]
    }
   ],
   "source": [
    "print('Daftar rekomendasi untuk: {}'.format('User ' + str(user_id)))\n",
    "print('===' * 15,'\\n')\n",
    "print('----' * 15)\n",
    "print('Tempat dengan rating wisata paling tinggi dari user')\n",
    "print('----' * 15)\n",
    " \n",
    "top_place_user = (\n",
    "    place_visited_by_user.sort_values(\n",
    "        by = 'Place_Ratings',\n",
    "        ascending=False\n",
    "    )\n",
    "    .head(5)\n",
    "    .Place_Id.values\n",
    ")\n",
    " \n",
    "place_df_rows = place_df[place_df['id'].isin(top_place_user)]\n",
    "for row in place_df_rows.itertuples():\n",
    "    print(row.place_name, ':', row.category)\n",
    "\n",
    "print('')\n",
    "print('----' * 15)\n",
    "print('Top 10 place recommendation')\n",
    "print('----' * 15)\n",
    " \n",
    "recommended_place = place_df[place_df['id'].isin(recommended_place_ids)]\n",
    "for row, i in zip(recommended_place.itertuples(), range(1,11)):\n",
    "    print(i,'.', row.place_name, '\\n    ', row.category, ',', 'Harga Tiket Masuk ', row.price, ',', 'Rating Wisata ', row.rating,'\\n')\n",
    "\n",
    "print('==='*15)"
   ]
  }
 ],
 "metadata": {
  "colab": {
   "provenance": []
  },
  "kernelspec": {
   "display_name": "Python 3 (ipykernel)",
   "language": "python",
   "name": "python3"
  },
  "language_info": {
   "codemirror_mode": {
    "name": "ipython",
    "version": 3
   },
   "file_extension": ".py",
   "mimetype": "text/x-python",
   "name": "python",
   "nbconvert_exporter": "python",
   "pygments_lexer": "ipython3",
   "version": "3.10.9"
  }
 },
 "nbformat": 4,
 "nbformat_minor": 1
}
