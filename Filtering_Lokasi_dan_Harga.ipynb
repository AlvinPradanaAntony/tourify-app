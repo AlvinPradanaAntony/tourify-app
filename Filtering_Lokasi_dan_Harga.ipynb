{
 "cells": [
  {
   "cell_type": "markdown",
   "metadata": {
    "id": "XCgnRTLqYofh"
   },
   "source": [
    "#Collecting Data"
   ]
  },
  {
   "cell_type": "markdown",
   "metadata": {
    "id": "o0Gvzsn6YxR-"
   },
   "source": [
    "Data ini diambil dari kaggle https://www.kaggle.com/datasets/aprabowo/indonesia-tourism-destination"
   ]
  },
  {
   "cell_type": "markdown",
   "metadata": {
    "id": "7tWODqZdY9P3"
   },
   "source": [
    "#Preparing Dataset"
   ]
  },
  {
   "cell_type": "markdown",
   "metadata": {
    "id": "HMQuvkNOZEYK"
   },
   "source": [
    "1. Importing necessary library\n",
    "2. Filtering dataset (surabaya only)\n",
    "3. Cleaning unnecessary variable\n",
    "4. Exploratory data analysis"
   ]
  },
  {
   "cell_type": "markdown",
   "metadata": {
    "id": "tFMvkJTEZd93"
   },
   "source": [
    "#Importing necessary library\n"
   ]
  },
  {
   "cell_type": "code",
   "execution_count": 1,
   "metadata": {
    "id": "sAt5nK6gZiih"
   },
   "outputs": [],
   "source": [
    "import csv\n",
    "import numpy as np\n",
    "import pandas as pd\n",
    "import matplotlib.pyplot as plt\n",
    "import seaborn as sns"
   ]
  },
  {
   "cell_type": "markdown",
   "metadata": {
    "id": "AnSeT4abaJJI"
   },
   "source": [
    "#Filtering Dataset (Surabaya Only)"
   ]
  },
  {
   "cell_type": "code",
   "execution_count": 2,
   "metadata": {
    "id": "U6-pVAI-aTHH"
   },
   "outputs": [],
   "source": [
    "#Importing dataset\n",
    "place = pd.read_csv(\"D:/KULIAH/Semester 6/BANGKIT/CAPSTONE/Dataset/tourism_new.csv\", delimiter=';')\n",
    "rating = pd.read_csv(\"D:/KULIAH/Semester 6/BANGKIT/CAPSTONE/Dataset/tourism_rating.csv\")\n",
    "user = pd.read_csv(\"D:/KULIAH/Semester 6/BANGKIT/CAPSTONE/Dataset/user.csv\", delimiter=';')"
   ]
  },
  {
   "cell_type": "code",
   "execution_count": 3,
   "metadata": {
    "colab": {
     "base_uri": "https://localhost:8080/"
    },
    "id": "ruLjpyDyaAyv",
    "outputId": "0f561d84-8d78-42d0-dc2d-442edcd4fcde"
   },
   "outputs": [
    {
     "name": "stdout",
     "output_type": "stream",
     "text": [
      "   Place_Id             Place_Name  \\\n",
      "0       393  Taman Harmoni Keputih   \n",
      "1       394      Air Mancur Menari   \n",
      "2       395         Taman Prestasi   \n",
      "3       396    Monumen Kapal Selam   \n",
      "4       397    Taman Kunang-Kunang   \n",
      "\n",
      "                                         Description       Category      City  \\\n",
      "0  Tempat tersebut ialah Taman Hatmoni Keputih Su...     Cagar Alam  Surabaya   \n",
      "1  Jembatan Kenjeran dengan air mancur menarinya ...  Taman Hiburan  Surabaya   \n",
      "2  Taman Prestasi Surabaya merupakan salah satu t...  Taman Hiburan  Surabaya   \n",
      "3  Monumen Kapal Selam, atau disingkat Monkasel, ...         Budaya  Surabaya   \n",
      "4  Taman Kunang – Kunang di Surabaya ini mempunya...  Taman Hiburan  Surabaya   \n",
      "\n",
      "   Price  Rating  Time_Minutes                  Coordinate  \\\n",
      "0      0     4.4          60.0  {'lat': -7.308648199999999   \n",
      "1  35000     4.4          60.0          {'lat': -7.2952211   \n",
      "2      0     4.6          45.0          {'lat': -7.2356933   \n",
      "3  15000     4.4           NaN          {'lat': -7.2614722   \n",
      "4      0     4.4          30.0          {'lat': -7.2654304   \n",
      "\n",
      "                    Lat         Long          Lokasi  \n",
      "0   'lng': 112.8216622}  -73.086.482  Surabaya Timur  \n",
      "1   'lng': 112.8035603}  -72.952.211  Surabaya Utara  \n",
      "2   'lng': 112.7955234}  -72.356.933  Surabaya Pusat  \n",
      "3   'lng': 112.7428284}  -72.614.722  Surabaya Pusat  \n",
      "4   'lng': 112.7503052}  -72.654.304  Surabaya Utara  \n",
      "<class 'pandas.core.frame.DataFrame'>\n",
      "RangeIndex: 37 entries, 0 to 36\n",
      "Data columns (total 12 columns):\n",
      " #   Column        Non-Null Count  Dtype  \n",
      "---  ------        --------------  -----  \n",
      " 0   Place_Id      37 non-null     int64  \n",
      " 1   Place_Name    37 non-null     object \n",
      " 2   Description   37 non-null     object \n",
      " 3   Category      37 non-null     object \n",
      " 4   City          37 non-null     object \n",
      " 5   Price         37 non-null     int64  \n",
      " 6   Rating        37 non-null     float64\n",
      " 7   Time_Minutes  25 non-null     float64\n",
      " 8   Coordinate    37 non-null     object \n",
      " 9   Lat           37 non-null     object \n",
      " 10  Long          37 non-null     object \n",
      " 11  Lokasi        37 non-null     object \n",
      "dtypes: float64(2), int64(2), object(8)\n",
      "memory usage: 3.6+ KB\n"
     ]
    }
   ],
   "source": [
    "#looking for data\n",
    "print(place.head())\n",
    "place.info()"
   ]
  },
  {
   "cell_type": "code",
   "execution_count": 4,
   "metadata": {
    "colab": {
     "base_uri": "https://localhost:8080/"
    },
    "id": "F2oEIPwicKF4",
    "outputId": "48360ca3-e7b7-4ede-e656-c784aacb60ad"
   },
   "outputs": [
    {
     "name": "stdout",
     "output_type": "stream",
     "text": [
      "   User_Id  Place_Id  Place_Ratings\n",
      "0        1       179              3\n",
      "1        1       344              2\n",
      "2        1         5              5\n",
      "3        1       373              3\n",
      "4        1       101              4\n",
      "<class 'pandas.core.frame.DataFrame'>\n",
      "RangeIndex: 10000 entries, 0 to 9999\n",
      "Data columns (total 3 columns):\n",
      " #   Column         Non-Null Count  Dtype\n",
      "---  ------         --------------  -----\n",
      " 0   User_Id        10000 non-null  int64\n",
      " 1   Place_Id       10000 non-null  int64\n",
      " 2   Place_Ratings  10000 non-null  int64\n",
      "dtypes: int64(3)\n",
      "memory usage: 234.5 KB\n"
     ]
    }
   ],
   "source": [
    "#looking for data\n",
    "print(rating.head())\n",
    "rating.info()"
   ]
  },
  {
   "cell_type": "code",
   "execution_count": 5,
   "metadata": {
    "colab": {
     "base_uri": "https://localhost:8080/"
    },
    "id": "HUa67IKmcRWS",
    "outputId": "2fe1a7ec-18fe-48fd-879a-556de4a766b9"
   },
   "outputs": [
    {
     "name": "stdout",
     "output_type": "stream",
     "text": [
      "   User_Id                   Location  Age\n",
      "0        1      Semarang, Jawa Tengah   20\n",
      "1        2         Bekasi, Jawa Barat   21\n",
      "2        3        Cirebon, Jawa Barat   23\n",
      "3        4         Bekasi, Jawa Barat   21\n",
      "4        5  Lampung, Sumatera Selatan   20\n",
      "<class 'pandas.core.frame.DataFrame'>\n",
      "RangeIndex: 300 entries, 0 to 299\n",
      "Data columns (total 3 columns):\n",
      " #   Column    Non-Null Count  Dtype \n",
      "---  ------    --------------  ----- \n",
      " 0   User_Id   300 non-null    int64 \n",
      " 1   Location  300 non-null    object\n",
      " 2   Age       300 non-null    int64 \n",
      "dtypes: int64(2), object(1)\n",
      "memory usage: 7.2+ KB\n"
     ]
    }
   ],
   "source": [
    "#looking for data\n",
    "print(user.head())\n",
    "user.info()"
   ]
  },
  {
   "cell_type": "code",
   "execution_count": 6,
   "metadata": {
    "colab": {
     "base_uri": "https://localhost:8080/"
    },
    "id": "SWUacaM5caRB",
    "outputId": "8e9450e9-301f-45da-8053-ae82f2219001"
   },
   "outputs": [
    {
     "name": "stdout",
     "output_type": "stream",
     "text": [
      "     User_Id  Place_Id  Place_Ratings\n",
      "832      274       436              4\n",
      "833      284       436              1\n",
      "834      290       436              3\n",
      "835      292       436              2\n",
      "836      294       436              1\n",
      "     User_Id                     Location  Age\n",
      "291      296    Lampung, Sumatera Selatan   31\n",
      "453      297  Palembang, Sumatera Selatan   39\n",
      "583      298            Bogor, Jawa Barat   38\n",
      "198      299          Sragen, Jawa Tengah   27\n",
      "97       300         Ponorogo, Jawa Timur   26\n"
     ]
    }
   ],
   "source": [
    "#Filtering data\n",
    "#1. Selecting database rating only for the city of Surabaya\n",
    "rating = pd.merge(rating, place[['Place_Id']], how ='right', on='Place_Id')\n",
    "\n",
    "#2. Selecting database users for those who only visit the city of Surabaya\n",
    "user = pd.merge(user, rating[['User_Id']], how = 'right', on='User_Id').drop_duplicates().sort_values('User_Id')\n",
    "\n",
    "print(rating.tail())\n",
    "print(user.tail())"
   ]
  },
  {
   "cell_type": "markdown",
   "metadata": {
    "id": "TAxFwLiPek6-"
   },
   "source": [
    "#Cleaning unnecessary variable"
   ]
  },
  {
   "cell_type": "code",
   "execution_count": 7,
   "metadata": {
    "id": "oEE5rOF5dGih"
   },
   "outputs": [],
   "source": [
    "#Removing the \"time minutes\" column in the place dataset\n",
    "place = place.drop(['Time_Minutes'], axis=1)\n",
    "\n",
    "#Changing the data \"price\" type in place dataset to float\n",
    "place[\"Price\"] = place[\"Price\"].astype(\"float\")\n",
    "\n",
    "#Changing the data \"rating\" type in rating dataset to float \n",
    "rating[\"Place_Ratings\"] = rating[\"Place_Ratings\"].astype(\"float\")"
   ]
  },
  {
   "cell_type": "code",
   "execution_count": 8,
   "metadata": {
    "colab": {
     "base_uri": "https://localhost:8080/"
    },
    "id": "cQj2pJ0udxms",
    "outputId": "7d77ccd2-afa0-4180-c63a-11bd35097fb3"
   },
   "outputs": [
    {
     "name": "stdout",
     "output_type": "stream",
     "text": [
      "   Place_Id             Place_Name  \\\n",
      "0       393  Taman Harmoni Keputih   \n",
      "1       394      Air Mancur Menari   \n",
      "2       395         Taman Prestasi   \n",
      "3       396    Monumen Kapal Selam   \n",
      "4       397    Taman Kunang-Kunang   \n",
      "\n",
      "                                         Description       Category      City  \\\n",
      "0  Tempat tersebut ialah Taman Hatmoni Keputih Su...     Cagar Alam  Surabaya   \n",
      "1  Jembatan Kenjeran dengan air mancur menarinya ...  Taman Hiburan  Surabaya   \n",
      "2  Taman Prestasi Surabaya merupakan salah satu t...  Taman Hiburan  Surabaya   \n",
      "3  Monumen Kapal Selam, atau disingkat Monkasel, ...         Budaya  Surabaya   \n",
      "4  Taman Kunang – Kunang di Surabaya ini mempunya...  Taman Hiburan  Surabaya   \n",
      "\n",
      "     Price  Rating                  Coordinate                   Lat  \\\n",
      "0      0.0     4.4  {'lat': -7.308648199999999   'lng': 112.8216622}   \n",
      "1  35000.0     4.4          {'lat': -7.2952211   'lng': 112.8035603}   \n",
      "2      0.0     4.6          {'lat': -7.2356933   'lng': 112.7955234}   \n",
      "3  15000.0     4.4          {'lat': -7.2614722   'lng': 112.7428284}   \n",
      "4      0.0     4.4          {'lat': -7.2654304   'lng': 112.7503052}   \n",
      "\n",
      "          Long          Lokasi  \n",
      "0  -73.086.482  Surabaya Timur  \n",
      "1  -72.952.211  Surabaya Utara  \n",
      "2  -72.356.933  Surabaya Pusat  \n",
      "3  -72.614.722  Surabaya Pusat  \n",
      "4  -72.654.304  Surabaya Utara  \n",
      "<class 'pandas.core.frame.DataFrame'>\n",
      "RangeIndex: 37 entries, 0 to 36\n",
      "Data columns (total 11 columns):\n",
      " #   Column       Non-Null Count  Dtype  \n",
      "---  ------       --------------  -----  \n",
      " 0   Place_Id     37 non-null     int64  \n",
      " 1   Place_Name   37 non-null     object \n",
      " 2   Description  37 non-null     object \n",
      " 3   Category     37 non-null     object \n",
      " 4   City         37 non-null     object \n",
      " 5   Price        37 non-null     float64\n",
      " 6   Rating       37 non-null     float64\n",
      " 7   Coordinate   37 non-null     object \n",
      " 8   Lat          37 non-null     object \n",
      " 9   Long         37 non-null     object \n",
      " 10  Lokasi       37 non-null     object \n",
      "dtypes: float64(2), int64(1), object(8)\n",
      "memory usage: 3.3+ KB\n",
      "None\n",
      "<class 'pandas.core.frame.DataFrame'>\n",
      "Int64Index: 837 entries, 0 to 836\n",
      "Data columns (total 3 columns):\n",
      " #   Column         Non-Null Count  Dtype  \n",
      "---  ------         --------------  -----  \n",
      " 0   User_Id        837 non-null    int64  \n",
      " 1   Place_Id       837 non-null    int64  \n",
      " 2   Place_Ratings  837 non-null    float64\n",
      "dtypes: float64(1), int64(2)\n",
      "memory usage: 26.2 KB\n",
      "None\n"
     ]
    }
   ],
   "source": [
    "print(place.head())\n",
    "print(place.info())\n",
    "print(rating.info())"
   ]
  },
  {
   "cell_type": "code",
   "execution_count": 9,
   "metadata": {
    "colab": {
     "base_uri": "https://localhost:8080/"
    },
    "id": "RXb-JM11eEm8",
    "outputId": "a520b1a2-0e02-4726-92f5-fcf5ba5ea8c0"
   },
   "outputs": [
    {
     "name": "stdout",
     "output_type": "stream",
     "text": [
      "(37, 11)\n",
      "(277, 3)\n",
      "(837, 3)\n"
     ]
    }
   ],
   "source": [
    "#Shape Info for place, user dan rating dataset\n",
    "print(place.shape)\n",
    "print(user.shape)\n",
    "print(rating.shape)"
   ]
  },
  {
   "cell_type": "markdown",
   "metadata": {
    "id": "jFOq2h-CeruG"
   },
   "source": [
    "#Exploratory data analysis"
   ]
  },
  {
   "cell_type": "code",
   "execution_count": 10,
   "metadata": {
    "colab": {
     "base_uri": "https://localhost:8080/"
    },
    "id": "SLQKEO1iexXZ",
    "outputId": "b6c743e6-41f6-4c2e-cdc0-37bf97b7af76"
   },
   "outputs": [
    {
     "name": "stdout",
     "output_type": "stream",
     "text": [
      "    index  Place_Id_x  Place_Id_y                       Place_Name\n",
      "0     402          33         402      Food Junction Grand Pakuwon\n",
      "1     430          32         430           Atlantis Land Surabaya\n",
      "2     416          31         416                 Keraton Surabaya\n",
      "3     406          29         406             Kebun Bibit Wonorejo\n",
      "4     398          28         398              Taman Buah Surabaya\n",
      "5     427          28         427         Patung Buddha Empat Rupa\n",
      "6     405          27         405              Surabaya North Quay\n",
      "7     424          26         424              Pantai Ria Kenjeran\n",
      "8     407          26         407  Taman Ekspresi Dan Perpustakaan\n",
      "9     417          26         417          Kelenteng Sanggar Agung\n",
      "10    434          25         434                    Taman Bungkul\n",
      "11    423          24         423            Patung Sura dan Buaya\n",
      "12    428          24         428   Monumen Bambu Runcing Surabaya\n",
      "13    400          23         400              Hutan Bambu Keputih\n",
      "14    433          23         433              Museum Mpu Tantular\n"
     ]
    }
   ],
   "source": [
    "#Showing tourist attractions with the highest number of ratings\n",
    "top_15 = rating['Place_Id'].value_counts().reset_index()[0:15]\n",
    "top_15 = pd.merge(top_15, place[['Place_Id', 'Place_Name']], how='left', left_on='index', right_on='Place_Id')\n",
    "print(top_15)"
   ]
  },
  {
   "cell_type": "code",
   "execution_count": 11,
   "metadata": {
    "colab": {
     "base_uri": "https://localhost:8080/",
     "height": 905
    },
    "id": "4cxQ5yYQfkpT",
    "outputId": "d6ae278f-62aa-47de-b870-aec6915590fc"
   },
   "outputs": [
    {
     "data": {
      "image/png": "[encoded data removed]",
      "text/plain": [
       "<Figure size 1000x1000 with 1 Axes>"
      ]
     },
     "metadata": {},
     "output_type": "display_data"
    }
   ],
   "source": [
    "#Displaying the plot\n",
    "plt.figure(figsize=(10, 10))\n",
    "sns.barplot(x='Place_Id_x', y='Place_Name', data=top_15)\n",
    "plt.title('Daftar Tempat Wisata dengan Jumlah Rating Terbanyak', pad=30)\n",
    "plt.xlabel('Jumlah Rating')\n",
    "plt.ylabel('Tempat Wisata')\n",
    "plt.show()"
   ]
  },
  {
   "cell_type": "code",
   "execution_count": 12,
   "metadata": {
    "colab": {
     "base_uri": "https://localhost:8080/",
     "height": 472
    },
    "id": "ArflLyV4f4cP",
    "outputId": "9a13b358-2c73-4574-d9b1-bc671c507ef7"
   },
   "outputs": [
    {
     "data": {
      "image/png": "[encoded data removed]",
      "text/plain": [
       "<Figure size 640x480 with 1 Axes>"
      ]
     },
     "metadata": {},
     "output_type": "display_data"
    }
   ],
   "source": [
    "#Displaying the comparison of the destination categories in the Surabaya\n",
    "sns.countplot(y='Category', data=place)\n",
    "plt.title('Perbandingan Kategori Tempat Wisata di Kota Surabaya')\n",
    "plt.show()"
   ]
  },
  {
   "cell_type": "markdown",
   "metadata": {
    "id": "b2C8Pk1NBRvu"
   },
   "source": [
    "#Filtering Lokasi"
   ]
  },
  {
   "cell_type": "code",
   "execution_count": 13,
   "metadata": {
    "id": "22jEniMlLzoJ"
   },
   "outputs": [],
   "source": [
    "lokasi  =  place.drop(['Place_Id', 'City', 'Coordinate', 'Lat', 'Long'], axis=1)"
   ]
  },
  {
   "cell_type": "code",
   "execution_count": 14,
   "metadata": {
    "id": "ZfKxV4J5BWIG"
   },
   "outputs": [],
   "source": [
    "sby_timur = lokasi[lokasi['Lokasi']== \"Surabaya Timur\"]\n",
    "sby_barat = lokasi[lokasi['Lokasi']== \"Surabaya Barat\"]\n",
    "sby_utara = lokasi[lokasi['Lokasi']== \"Surabaya Utara\"]\n",
    "sby_selatan = lokasi[lokasi['Lokasi']== \"Surabaya Selatan\"] \n",
    "sby_pusat = lokasi[lokasi['Lokasi']== \"Surabaya Pusat\"]"
   ]
  },
  {
   "cell_type": "code",
   "execution_count": 15,
   "metadata": {
    "colab": {
     "base_uri": "https://localhost:8080/",
     "height": 269
    },
    "id": "5tgMnB9pLTSP",
    "outputId": "b6538961-f405-488f-9695-45bc3bb0bba3"
   },
   "outputs": [
    {
     "data": {
      "text/html": [
       "<div>\n",
       "<style scoped>\n",
       "    .dataframe tbody tr th:only-of-type {\n",
       "        vertical-align: middle;\n",
       "    }\n",
       "\n",
       "    .dataframe tbody tr th {\n",
       "        vertical-align: top;\n",
       "    }\n",
       "\n",
       "    .dataframe thead th {\n",
       "        text-align: right;\n",
       "    }\n",
       "</style>\n",
       "<table border=\"1\" class=\"dataframe\">\n",
       "  <thead>\n",
       "    <tr style=\"text-align: right;\">\n",
       "      <th></th>\n",
       "      <th>Place_Name</th>\n",
       "      <th>Description</th>\n",
       "      <th>Category</th>\n",
       "      <th>Price</th>\n",
       "      <th>Rating</th>\n",
       "      <th>Lokasi</th>\n",
       "    </tr>\n",
       "  </thead>\n",
       "  <tbody>\n",
       "    <tr>\n",
       "      <th>0</th>\n",
       "      <td>Taman Harmoni Keputih</td>\n",
       "      <td>Tempat tersebut ialah Taman Hatmoni Keputih Su...</td>\n",
       "      <td>Cagar Alam</td>\n",
       "      <td>0.0</td>\n",
       "      <td>4.4</td>\n",
       "      <td>Surabaya Timur</td>\n",
       "    </tr>\n",
       "    <tr>\n",
       "      <th>6</th>\n",
       "      <td>Taman Pelangi</td>\n",
       "      <td>Kalau pelangi biasanya ada di siang hari pasca...</td>\n",
       "      <td>Taman Hiburan</td>\n",
       "      <td>0.0</td>\n",
       "      <td>4.5</td>\n",
       "      <td>Surabaya Timur</td>\n",
       "    </tr>\n",
       "    <tr>\n",
       "      <th>7</th>\n",
       "      <td>Hutan Bambu Keputih</td>\n",
       "      <td>Surabaya menjadi kota metropolitan kedua setel...</td>\n",
       "      <td>Cagar Alam</td>\n",
       "      <td>0.0</td>\n",
       "      <td>4.3</td>\n",
       "      <td>Surabaya Timur</td>\n",
       "    </tr>\n",
       "    <tr>\n",
       "      <th>25</th>\n",
       "      <td>Pantai Ria Kenjeran</td>\n",
       "      <td>Obyek wisata Pantai Ria Kenjeran Surabaya meru...</td>\n",
       "      <td>Bahari</td>\n",
       "      <td>15000.0</td>\n",
       "      <td>4.2</td>\n",
       "      <td>Surabaya Timur</td>\n",
       "    </tr>\n",
       "    <tr>\n",
       "      <th>30</th>\n",
       "      <td>Atlantis Land Surabaya</td>\n",
       "      <td>Sejak diresmikan pada bulan Desember 2017, Atl...</td>\n",
       "      <td>Taman Hiburan</td>\n",
       "      <td>125000.0</td>\n",
       "      <td>4.4</td>\n",
       "      <td>Surabaya Timur</td>\n",
       "    </tr>\n",
       "    <tr>\n",
       "      <th>35</th>\n",
       "      <td>Taman Air Mancur Menari Kenjeran</td>\n",
       "      <td>Air mancur menari atau dancing fountain juga a...</td>\n",
       "      <td>Taman Hiburan</td>\n",
       "      <td>0.0</td>\n",
       "      <td>4.4</td>\n",
       "      <td>Surabaya Timur</td>\n",
       "    </tr>\n",
       "    <tr>\n",
       "      <th>36</th>\n",
       "      <td>Taman Flora Bratang Surabaya</td>\n",
       "      <td>Taman Flora adalah salah satu taman kota di Su...</td>\n",
       "      <td>Taman Hiburan</td>\n",
       "      <td>0.0</td>\n",
       "      <td>4.6</td>\n",
       "      <td>Surabaya Timur</td>\n",
       "    </tr>\n",
       "  </tbody>\n",
       "</table>\n",
       "</div>"
      ],
      "text/plain": [
       "                          Place_Name  \\\n",
       "0              Taman Harmoni Keputih   \n",
       "6                      Taman Pelangi   \n",
       "7                Hutan Bambu Keputih   \n",
       "25               Pantai Ria Kenjeran   \n",
       "30            Atlantis Land Surabaya   \n",
       "35  Taman Air Mancur Menari Kenjeran   \n",
       "36      Taman Flora Bratang Surabaya   \n",
       "\n",
       "                                          Description       Category  \\\n",
       "0   Tempat tersebut ialah Taman Hatmoni Keputih Su...     Cagar Alam   \n",
       "6   Kalau pelangi biasanya ada di siang hari pasca...  Taman Hiburan   \n",
       "7   Surabaya menjadi kota metropolitan kedua setel...     Cagar Alam   \n",
       "25  Obyek wisata Pantai Ria Kenjeran Surabaya meru...         Bahari   \n",
       "30  Sejak diresmikan pada bulan Desember 2017, Atl...  Taman Hiburan   \n",
       "35  Air mancur menari atau dancing fountain juga a...  Taman Hiburan   \n",
       "36  Taman Flora adalah salah satu taman kota di Su...  Taman Hiburan   \n",
       "\n",
       "       Price  Rating          Lokasi  \n",
       "0        0.0     4.4  Surabaya Timur  \n",
       "6        0.0     4.5  Surabaya Timur  \n",
       "7        0.0     4.3  Surabaya Timur  \n",
       "25   15000.0     4.2  Surabaya Timur  \n",
       "30  125000.0     4.4  Surabaya Timur  \n",
       "35       0.0     4.4  Surabaya Timur  \n",
       "36       0.0     4.6  Surabaya Timur  "
      ]
     },
     "execution_count": 15,
     "metadata": {},
     "output_type": "execute_result"
    }
   ],
   "source": [
    "sby_timur"
   ]
  },
  {
   "cell_type": "markdown",
   "metadata": {
    "id": "RqxlnSWLMU7i"
   },
   "source": [
    "\n",
    "# Filtering Harga\n"
   ]
  },
  {
   "cell_type": "code",
   "execution_count": 16,
   "metadata": {
    "id": "Qx_41UemMn5C"
   },
   "outputs": [],
   "source": [
    "filter_harga  = lokasi[lokasi['Price'] != 0.0]"
   ]
  },
  {
   "cell_type": "code",
   "execution_count": 17,
   "metadata": {
    "colab": {
     "base_uri": "https://localhost:8080/",
     "height": 426
    },
    "id": "zXVPmyx0Pp-C",
    "outputId": "145ffeb2-442e-43e7-e2b9-ceceb5fbe240"
   },
   "outputs": [
    {
     "data": {
      "text/html": [
       "<div>\n",
       "<style scoped>\n",
       "    .dataframe tbody tr th:only-of-type {\n",
       "        vertical-align: middle;\n",
       "    }\n",
       "\n",
       "    .dataframe tbody tr th {\n",
       "        vertical-align: top;\n",
       "    }\n",
       "\n",
       "    .dataframe thead th {\n",
       "        text-align: right;\n",
       "    }\n",
       "</style>\n",
       "<table border=\"1\" class=\"dataframe\">\n",
       "  <thead>\n",
       "    <tr style=\"text-align: right;\">\n",
       "      <th></th>\n",
       "      <th>Place_Name</th>\n",
       "      <th>Description</th>\n",
       "      <th>Category</th>\n",
       "      <th>Price</th>\n",
       "      <th>Rating</th>\n",
       "      <th>Lokasi</th>\n",
       "    </tr>\n",
       "  </thead>\n",
       "  <tbody>\n",
       "    <tr>\n",
       "      <th>33</th>\n",
       "      <td>Museum Mpu Tantular</td>\n",
       "      <td>Museum Negeri Mpu Tantular adalah sebuah museu...</td>\n",
       "      <td>Budaya</td>\n",
       "      <td>2000.0</td>\n",
       "      <td>4.4</td>\n",
       "      <td>Surabaya Barat</td>\n",
       "    </tr>\n",
       "    <tr>\n",
       "      <th>17</th>\n",
       "      <td>Museum De Javasche Bank</td>\n",
       "      <td>Museum Bank Indonesia (Bahasa Indonesia: Museu...</td>\n",
       "      <td>Budaya</td>\n",
       "      <td>5000.0</td>\n",
       "      <td>4.6</td>\n",
       "      <td>Surabaya Utara</td>\n",
       "    </tr>\n",
       "    <tr>\n",
       "      <th>31</th>\n",
       "      <td>Taman Hiburan Rakyat</td>\n",
       "      <td>Taman Hiburan Rakyat atau THR tentunya sudah t...</td>\n",
       "      <td>Taman Hiburan</td>\n",
       "      <td>5000.0</td>\n",
       "      <td>4.2</td>\n",
       "      <td>Surabaya Utara</td>\n",
       "    </tr>\n",
       "    <tr>\n",
       "      <th>19</th>\n",
       "      <td>Kelenteng Sanggar Agung</td>\n",
       "      <td>Kelenteng Sanggar Agung atau Klenteng Hong San...</td>\n",
       "      <td>Budaya</td>\n",
       "      <td>10000.0</td>\n",
       "      <td>4.5</td>\n",
       "      <td>Surabaya Utara</td>\n",
       "    </tr>\n",
       "    <tr>\n",
       "      <th>22</th>\n",
       "      <td>Museum Kesehatan Dr. Adhyatma</td>\n",
       "      <td>Museum Kesehatan Dr. Adhyatma, MPH adalah muse...</td>\n",
       "      <td>Budaya</td>\n",
       "      <td>10000.0</td>\n",
       "      <td>4.4</td>\n",
       "      <td>Surabaya Utara</td>\n",
       "    </tr>\n",
       "    <tr>\n",
       "      <th>3</th>\n",
       "      <td>Monumen Kapal Selam</td>\n",
       "      <td>Monumen Kapal Selam, atau disingkat Monkasel, ...</td>\n",
       "      <td>Budaya</td>\n",
       "      <td>15000.0</td>\n",
       "      <td>4.4</td>\n",
       "      <td>Surabaya Pusat</td>\n",
       "    </tr>\n",
       "    <tr>\n",
       "      <th>25</th>\n",
       "      <td>Pantai Ria Kenjeran</td>\n",
       "      <td>Obyek wisata Pantai Ria Kenjeran Surabaya meru...</td>\n",
       "      <td>Bahari</td>\n",
       "      <td>15000.0</td>\n",
       "      <td>4.2</td>\n",
       "      <td>Surabaya Timur</td>\n",
       "    </tr>\n",
       "    <tr>\n",
       "      <th>1</th>\n",
       "      <td>Air Mancur Menari</td>\n",
       "      <td>Jembatan Kenjeran dengan air mancur menarinya ...</td>\n",
       "      <td>Taman Hiburan</td>\n",
       "      <td>35000.0</td>\n",
       "      <td>4.4</td>\n",
       "      <td>Surabaya Utara</td>\n",
       "    </tr>\n",
       "    <tr>\n",
       "      <th>10</th>\n",
       "      <td>Kenjeran Park</td>\n",
       "      <td>Kenjeran Park merupakan salah satu tempat wisa...</td>\n",
       "      <td>Taman Hiburan</td>\n",
       "      <td>35000.0</td>\n",
       "      <td>4.2</td>\n",
       "      <td>Surabaya Utara</td>\n",
       "    </tr>\n",
       "    <tr>\n",
       "      <th>11</th>\n",
       "      <td>Surabaya North Quay</td>\n",
       "      <td>Surabaya menjadi kota besar yang sering menjad...</td>\n",
       "      <td>Taman Hiburan</td>\n",
       "      <td>50000.0</td>\n",
       "      <td>4.4</td>\n",
       "      <td>Surabaya Utara</td>\n",
       "    </tr>\n",
       "    <tr>\n",
       "      <th>14</th>\n",
       "      <td>Ciputra Waterpark</td>\n",
       "      <td>Ciputra Waterpark Surabaya – Bermain air di wa...</td>\n",
       "      <td>Taman Hiburan</td>\n",
       "      <td>95000.0</td>\n",
       "      <td>4.3</td>\n",
       "      <td>Surabaya Barat</td>\n",
       "    </tr>\n",
       "    <tr>\n",
       "      <th>30</th>\n",
       "      <td>Atlantis Land Surabaya</td>\n",
       "      <td>Sejak diresmikan pada bulan Desember 2017, Atl...</td>\n",
       "      <td>Taman Hiburan</td>\n",
       "      <td>125000.0</td>\n",
       "      <td>4.4</td>\n",
       "      <td>Surabaya Timur</td>\n",
       "    </tr>\n",
       "  </tbody>\n",
       "</table>\n",
       "</div>"
      ],
      "text/plain": [
       "                       Place_Name  \\\n",
       "33            Museum Mpu Tantular   \n",
       "17        Museum De Javasche Bank   \n",
       "31           Taman Hiburan Rakyat   \n",
       "19        Kelenteng Sanggar Agung   \n",
       "22  Museum Kesehatan Dr. Adhyatma   \n",
       "3             Monumen Kapal Selam   \n",
       "25            Pantai Ria Kenjeran   \n",
       "1               Air Mancur Menari   \n",
       "10                  Kenjeran Park   \n",
       "11            Surabaya North Quay   \n",
       "14              Ciputra Waterpark   \n",
       "30         Atlantis Land Surabaya   \n",
       "\n",
       "                                          Description       Category  \\\n",
       "33  Museum Negeri Mpu Tantular adalah sebuah museu...         Budaya   \n",
       "17  Museum Bank Indonesia (Bahasa Indonesia: Museu...         Budaya   \n",
       "31  Taman Hiburan Rakyat atau THR tentunya sudah t...  Taman Hiburan   \n",
       "19  Kelenteng Sanggar Agung atau Klenteng Hong San...         Budaya   \n",
       "22  Museum Kesehatan Dr. Adhyatma, MPH adalah muse...         Budaya   \n",
       "3   Monumen Kapal Selam, atau disingkat Monkasel, ...         Budaya   \n",
       "25  Obyek wisata Pantai Ria Kenjeran Surabaya meru...         Bahari   \n",
       "1   Jembatan Kenjeran dengan air mancur menarinya ...  Taman Hiburan   \n",
       "10  Kenjeran Park merupakan salah satu tempat wisa...  Taman Hiburan   \n",
       "11  Surabaya menjadi kota besar yang sering menjad...  Taman Hiburan   \n",
       "14  Ciputra Waterpark Surabaya – Bermain air di wa...  Taman Hiburan   \n",
       "30  Sejak diresmikan pada bulan Desember 2017, Atl...  Taman Hiburan   \n",
       "\n",
       "       Price  Rating          Lokasi  \n",
       "33    2000.0     4.4  Surabaya Barat  \n",
       "17    5000.0     4.6  Surabaya Utara  \n",
       "31    5000.0     4.2  Surabaya Utara  \n",
       "19   10000.0     4.5  Surabaya Utara  \n",
       "22   10000.0     4.4  Surabaya Utara  \n",
       "3    15000.0     4.4  Surabaya Pusat  \n",
       "25   15000.0     4.2  Surabaya Timur  \n",
       "1    35000.0     4.4  Surabaya Utara  \n",
       "10   35000.0     4.2  Surabaya Utara  \n",
       "11   50000.0     4.4  Surabaya Utara  \n",
       "14   95000.0     4.3  Surabaya Barat  \n",
       "30  125000.0     4.4  Surabaya Timur  "
      ]
     },
     "execution_count": 17,
     "metadata": {},
     "output_type": "execute_result"
    }
   ],
   "source": [
    "Price = filter_harga.sort_values('Price', ascending=True)\n",
    "Price"
   ]
  }
 ],
 "metadata": {
  "colab": {
   "provenance": []
  },
  "kernelspec": {
   "display_name": "Python 3 (ipykernel)",
   "language": "python",
   "name": "python3"
  },
  "language_info": {
   "codemirror_mode": {
    "name": "ipython",
    "version": 3
   },
   "file_extension": ".py",
   "mimetype": "text/x-python",
   "name": "python",
   "nbconvert_exporter": "python",
   "pygments_lexer": "ipython3",
   "version": "3.10.9"
  }
 },
 "nbformat": 4,
 "nbformat_minor": 1
}
