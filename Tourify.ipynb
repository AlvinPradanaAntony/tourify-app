{
  "cells": [
    {
      "cell_type": "markdown",
      "metadata": {
        "id": "XCgnRTLqYofh"
      },
      "source": [
        "#Collecting Data"
      ]
    },
    {
      "cell_type": "markdown",
      "metadata": {
        "id": "o0Gvzsn6YxR-"
      },
      "source": [
        "Data ini diambil dari kaggle https://www.kaggle.com/datasets/aprabowo/indonesia-tourism-destination"
      ]
    },
    {
      "cell_type": "markdown",
      "metadata": {
        "id": "7tWODqZdY9P3"
      },
      "source": [
        "#Preparing Dataset"
      ]
    },
    {
      "cell_type": "markdown",
      "metadata": {
        "id": "HMQuvkNOZEYK"
      },
      "source": [
        "1. Importing necessary library\n",
        "2. Filtering dataset (surabaya only)\n",
        "3. Cleaning unnecessary variable\n",
        "4. Exploratory data analysis"
      ]
    },
    {
      "cell_type": "markdown",
      "metadata": {
        "id": "tFMvkJTEZd93"
      },
      "source": [
        "#Importing necessary library\n"
      ]
    },
    {
      "cell_type": "code",
      "execution_count": 1,
      "metadata": {
        "id": "sAt5nK6gZiih"
      },
      "outputs": [],
      "source": [
        "import csv\n",
        "import numpy as np\n",
        "import pandas as pd\n",
        "import matplotlib.pyplot as plt\n",
        "import seaborn as sns\n",
        "import requests\n",
        "import random\n",
        "import json"
      ]
    },
    {
      "cell_type": "markdown",
      "metadata": {
        "id": "AnSeT4abaJJI"
      },
      "source": [
        "#Filtering Dataset (Surabaya Only)"
      ]
    },
    {
      "cell_type": "code",
      "execution_count": 2,
      "metadata": {
        "colab": {
          "base_uri": "https://localhost:8080/"
        },
        "id": "VhHzfRAlx1lp",
        "outputId": "3582c171-5e8c-4f44-bb6c-5fca76bd37a4"
      },
      "outputs": [
        {
          "output_type": "stream",
          "name": "stdout",
          "text": [
            "    id  tour_categories_id                   name  phone  email  price  score  \\\n",
            "0  393                   1  Taman Harmoni Keputih    NaN    NaN      0    4.4   \n",
            "1  394                   2      Air Mancur Menari    NaN    NaN  35000    4.4   \n",
            "2  395                   2         Taman Prestasi    NaN    NaN      0    4.6   \n",
            "3  396                   3    Monumen Kapal Selam    NaN    NaN  15000    4.4   \n",
            "4  397                   2    Taman Kunang-Kunang    NaN    NaN      0    4.4   \n",
            "\n",
            "                                         description         address  \\\n",
            "0  Tempat tersebut ialah Taman Hatmoni Keputih Su...  Surabaya Timur   \n",
            "1  Jembatan Kenjeran dengan air mancur menarinya ...  Surabaya Utara   \n",
            "2  Taman Prestasi Surabaya merupakan salah satu t...  Surabaya Pusat   \n",
            "3  Monumen Kapal Selam, atau disingkat Monkasel, ...  Surabaya Pusat   \n",
            "4  Taman Kunang – Kunang di Surabaya ini mempunya...  Surabaya Utara   \n",
            "\n",
            "       longitude                latitude  day_open_start  day_open_end  \\\n",
            "0  1.128.035.603             -72.952.211             NaN           NaN   \n",
            "1  1.127.955.234             -72.356.933             NaN           NaN   \n",
            "2  1.127.428.284             -72.614.722             NaN           NaN   \n",
            "3  1.127.503.052             -72.654.304             NaN           NaN   \n",
            "4  1.127.842.405  -7.318.220.199.999.990             NaN           NaN   \n",
            "\n",
            "   time_open_start  time_open_end  user_id  \\\n",
            "0              NaN            NaN      NaN   \n",
            "1              NaN            NaN      NaN   \n",
            "2              NaN            NaN      NaN   \n",
            "3              NaN            NaN      NaN   \n",
            "4              NaN            NaN      NaN   \n",
            "\n",
            "                                             picture  \n",
            "0  https://getlost.id/wp-content/uploads/2021/07/...  \n",
            "1  https://lh3.googleusercontent.com/p/AF1QipO5rr...  \n",
            "2  https://tourism.surabaya.go.id/storage/tour/16...  \n",
            "3  https://travelspromo.com/wp-content/uploads/20...  \n",
            "4  https://bappedalitbang.surabaya.go.id/ecobis/u...  \n"
          ]
        }
      ],
      "source": [
        "# #importing dataset from api\n",
        "# getPlace = requests.get(\"https://newapi.thisiswasyrof.works/v1/master/get-tour-destination\").json()\n",
        "# getRating = requests.get(\"https://newapi.thisiswasyrof.works/v1/master/get-ratings\").json()\n",
        "\n",
        "# place = pd.json_normalize(getPlace['data'])\n",
        "place = pd.read_csv(\"https://thisiswasyrof.works/file/data_wisata.csv\", delimiter=';')\n",
        "rating = pd.read_csv(\"https://thisiswasyrof.works/file/new_rating.csv\")\n",
        "\n",
        "# rating = pd.json_normalize(getRating['data'])\n",
        "\n",
        "print(place.head())\n"
      ]
    },
    {
      "cell_type": "code",
      "execution_count": 3,
      "metadata": {
        "colab": {
          "base_uri": "https://localhost:8080/"
        },
        "id": "DNTDbPGJyIuq",
        "outputId": "4e981391-0985-43ad-dc58-460014cb24b5"
      },
      "outputs": [
        {
          "output_type": "stream",
          "name": "stdout",
          "text": [
            "   user_id  tourist_destination_id  score  review\n",
            "0        1                     393      5     NaN\n",
            "1        6                     393      2     NaN\n",
            "2        8                     393      5     NaN\n",
            "3       19                     393      3     NaN\n",
            "4       27                     393      3     NaN\n"
          ]
        }
      ],
      "source": [
        "print(rating.head())"
      ]
    },
    {
      "cell_type": "markdown",
      "metadata": {
        "id": "jFOq2h-CeruG"
      },
      "source": [
        "#Explanatory data analysis"
      ]
    },
    {
      "cell_type": "code",
      "execution_count": 4,
      "metadata": {
        "colab": {
          "base_uri": "https://localhost:8080/"
        },
        "id": "SLQKEO1iexXZ",
        "outputId": "877f7fc5-983b-4fe1-d84c-a1a757b86082"
      },
      "outputs": [
        {
          "output_type": "stream",
          "name": "stdout",
          "text": [
            "    index  tourist_destination_id   id                             name\n",
            "0     402                      33  402      Food Junction Grand Pakuwon\n",
            "1     430                      32  430           Atlantis Land Surabaya\n",
            "2     416                      31  416                 Keraton Surabaya\n",
            "3     406                      29  406             Kebun Bibit Wonorejo\n",
            "4     427                      28  427         Patung Buddha Empat Rupa\n",
            "5     398                      28  398              Taman Buah Surabaya\n",
            "6     405                      27  405              Surabaya North Quay\n",
            "7     424                      26  424              Pantai Ria Kenjeran\n",
            "8     407                      26  407  Taman Ekspresi Dan Perpustakaan\n",
            "9     417                      26  417          Kelenteng Sanggar Agung\n",
            "10    434                      25  434                    Taman Bungkul\n",
            "11    423                      24  423            Patung Sura dan Buaya\n",
            "12    428                      24  428   Monumen Bambu Runcing Surabaya\n",
            "13    395                      23  395                   Taman Prestasi\n",
            "14    433                      23  433              Museum Mpu Tantular\n"
          ]
        }
      ],
      "source": [
        "top_15 = rating['tourist_destination_id'].value_counts().reset_index()[0:15]\n",
        "top_15 = pd.merge(top_15, place[['id', 'name']], how='left', left_on='index', right_on='id')\n",
        "print(top_15)"
      ]
    },
    {
      "cell_type": "code",
      "execution_count": 5,
      "metadata": {
        "colab": {
          "base_uri": "https://localhost:8080/",
          "height": 674
        },
        "id": "4cxQ5yYQfkpT",
        "outputId": "e4cda8fc-8200-404d-e82b-791d5c20fd0e"
      },
      "outputs": [
        {
          "output_type": "display_data",
          "data": {
            "text/plain": [
              "<Figure size 1000x700 with 1 Axes>"
            ],
            "image/png": "[encoded data removed]"
          },
          "metadata": {}
        }
      ],
      "source": [
        "#Displaying the plot\n",
        "plt.figure(figsize=(10, 7))\n",
        "sns.barplot(x='tourist_destination_id', y='name', data=top_15)\n",
        "plt.title('Daftar Tempat Wisata dengan Jumlah Rating Terbanyak', pad=30)\n",
        "plt.xlabel('Jumlah Rating')\n",
        "plt.ylabel('Tempat Wisata')\n",
        "plt.show()"
      ]
    },
    {
      "cell_type": "code",
      "execution_count": 6,
      "metadata": {
        "colab": {
          "base_uri": "https://localhost:8080/",
          "height": 472
        },
        "id": "ArflLyV4f4cP",
        "outputId": "b2f01f8d-0c85-423f-f554-c6d82acf4b9f"
      },
      "outputs": [
        {
          "output_type": "display_data",
          "data": {
            "text/plain": [
              "<Figure size 640x480 with 1 Axes>"
            ],
            "image/png": "[encoded data removed]"
          },
          "metadata": {}
        }
      ],
      "source": [
        "#Displaying the comparison of the destination categories in the Surabaya\n",
        "sns.countplot(y='tour_categories_id', data=place)\n",
        "plt.title('Perbandingan Kategori Tempat Wisata di Kota Surabaya')\n",
        "plt.show()"
      ]
    },
    {
      "cell_type": "markdown",
      "metadata": {
        "id": "Oi7autwLTHif"
      },
      "source": []
    },
    {
      "cell_type": "markdown",
      "metadata": {
        "id": "Z9kk9cqBTLhY"
      },
      "source": [
        "\n",
        "# Modelling Content Based Filtering"
      ]
    },
    {
      "cell_type": "code",
      "execution_count": 7,
      "metadata": {
        "id": "46rkuNvmTTd1"
      },
      "outputs": [],
      "source": [
        "from sklearn.feature_extraction.text import TfidfVectorizer\n",
        "from sklearn.metrics.pairwise import linear_kernel"
      ]
    },
    {
      "cell_type": "code",
      "execution_count": 8,
      "metadata": {
        "colab": {
          "base_uri": "https://localhost:8080/"
        },
        "id": "SyYaFXjFTggf",
        "outputId": "05465c20-f57a-42e4-c498-be06fff0143a"
      },
      "outputs": [
        {
          "output_type": "execute_result",
          "data": {
            "text/plain": [
              "(37, 1379)"
            ]
          },
          "metadata": {},
          "execution_count": 8
        }
      ],
      "source": [
        "td = TfidfVectorizer(stop_words='english')\n",
        "tfidf_matrix = td.fit_transform(place['description'])\n",
        "tfidf_matrix.shape"
      ]
    },
    {
      "cell_type": "code",
      "execution_count": 9,
      "metadata": {
        "colab": {
          "base_uri": "https://localhost:8080/"
        },
        "id": "2igqK11PTkB4",
        "outputId": "5219ab77-19e3-433e-98d7-b45b604ad206"
      },
      "outputs": [
        {
          "output_type": "execute_result",
          "data": {
            "text/plain": [
              "array([[1.        , 0.11145777, 0.18330884, ..., 0.15911774, 0.05445854,\n",
              "        0.23736041],\n",
              "       [0.11145777, 1.        , 0.09358847, ..., 0.18887063, 0.37824286,\n",
              "        0.08520019],\n",
              "       [0.18330884, 0.09358847, 1.        , ..., 0.24934841, 0.08070536,\n",
              "        0.21838485],\n",
              "       ...,\n",
              "       [0.15911774, 0.18887063, 0.24934841, ..., 1.        , 0.15111992,\n",
              "        0.24053191],\n",
              "       [0.05445854, 0.37824286, 0.08070536, ..., 0.15111992, 1.        ,\n",
              "        0.06264978],\n",
              "       [0.23736041, 0.08520019, 0.21838485, ..., 0.24053191, 0.06264978,\n",
              "        1.        ]])"
            ]
          },
          "metadata": {},
          "execution_count": 9
        }
      ],
      "source": [
        "#Computing the cosine similarity matrix\n",
        "cosine_sim = linear_kernel(tfidf_matrix, tfidf_matrix)\n",
        "cosine_sim"
      ]
    },
    {
      "cell_type": "code",
      "execution_count": 10,
      "metadata": {
        "id": "6Wksf6XkTyDt"
      },
      "outputs": [],
      "source": [
        "#Construct a reverse map of indices and movie title\n",
        "indicate = pd.Series(place.index, index=place['name']).drop_duplicates()"
      ]
    },
    {
      "cell_type": "code",
      "execution_count": 11,
      "metadata": {
        "id": "VEADdzBmVILX"
      },
      "outputs": [],
      "source": [
        "#Function that takes in place name as input and outputs most similar destination\n",
        "def recommendation(Place_name, cosine_sim=cosine_sim):\n",
        "  idx = indicate[Place_name]\n",
        "  sim_scores = list(enumerate(cosine_sim[idx]))\n",
        "  sim_scores = sorted(sim_scores, key=lambda x: x[1], reverse=True)\n",
        "  sim_scores = sim_scores[1:11]\n",
        "  destination_indicate = [i[0] for i in sim_scores]\n",
        "  return place['name'].iloc[destination_indicate]"
      ]
    },
    {
      "cell_type": "code",
      "execution_count": 12,
      "metadata": {
        "colab": {
          "base_uri": "https://localhost:8080/"
        },
        "id": "PhkXl6FqVMJR",
        "outputId": "4e1bce51-5392-4948-983d-71f3454720c3"
      },
      "outputs": [
        {
          "output_type": "stream",
          "name": "stdout",
          "text": [
            "Taman Pelangi\n"
          ]
        }
      ],
      "source": [
        "#randoming place\n",
        "placeName = random.choice(place['name'])\n",
        "print(placeName)\n",
        "# Giving destination recomendation from place that input from user\n",
        "modelc=recommendation(placeName)"
      ]
    },
    {
      "cell_type": "code",
      "execution_count": 13,
      "metadata": {
        "colab": {
          "base_uri": "https://localhost:8080/"
        },
        "id": "tec3WC56L9q8",
        "outputId": "bd0eef7b-7706-4463-82d3-8cffa238ce27"
      },
      "outputs": [
        {
          "output_type": "execute_result",
          "data": {
            "text/plain": [
              "36      Taman Flora Bratang Surabaya\n",
              "12              Kebun Bibit Wonorejo\n",
              "2                     Taman Prestasi\n",
              "9                   Taman Barunawati\n",
              "34                     Taman Bungkul\n",
              "5                Taman Buah Surabaya\n",
              "0              Taman Harmoni Keputih\n",
              "32                       Taman Mundu\n",
              "31                          2 Rakyat\n",
              "21    Surabaya Museum (Gedung Siola)\n",
              "Name: name, dtype: object"
            ]
          },
          "metadata": {},
          "execution_count": 13
        }
      ],
      "source": [
        "modelc"
      ]
    },
    {
      "cell_type": "markdown",
      "metadata": {
        "id": "CBSiPjoAYnBY"
      },
      "source": [
        "\n",
        "# Collaborative Based Filtering\n"
      ]
    },
    {
      "cell_type": "code",
      "execution_count": 14,
      "metadata": {
        "id": "8fYLm8uax1lt"
      },
      "outputs": [],
      "source": [
        "import tensorflow as tf\n",
        "from tensorflow import keras\n",
        "from keras import optimizers"
      ]
    },
    {
      "cell_type": "code",
      "execution_count": 15,
      "metadata": {
        "colab": {
          "base_uri": "https://localhost:8080/"
        },
        "id": "K383NFuPY_QR",
        "outputId": "359b1c76-0357-447a-b672-f8de73eb8cff"
      },
      "outputs": [
        {
          "output_type": "stream",
          "name": "stdout",
          "text": [
            "(837, 4)\n",
            "(330, 4)\n",
            "     user_id  tourist_destination_id  score  review\n",
            "1          6                     393      2     NaN\n",
            "3         19                     393      3     NaN\n",
            "8         82                     393      5     NaN\n",
            "11       131                     393      3     NaN\n",
            "12       131                     393      4     NaN\n",
            "..       ...                     ...    ...     ...\n",
            "811      219                     424      1     NaN\n",
            "813      265                     424      3     NaN\n",
            "814      272                     424      3     NaN\n",
            "815      284                     424      2     NaN\n",
            "816      297                     424      2     NaN\n",
            "\n",
            "[330 rows x 4 columns]\n"
          ]
        }
      ],
      "source": [
        "#Filtering data\n",
        "min_place_rating = 20\n",
        "filter_place = (rating[\"tourist_destination_id\"].value_counts()>min_place_rating)\n",
        "filter_place = filter_place[filter_place].index.tolist()\n",
        "\n",
        "min_user_rating =3\n",
        "filter_user = (rating[\"user_id\"].value_counts()>min_user_rating)\n",
        "filter_user = filter_user[filter_user].index.tolist()\n",
        "\n",
        "filtered_data = rating[(rating[\"tourist_destination_id\"].isin(filter_place)) & (rating[\"user_id\"]).isin(filter_user)]\n",
        "print(rating.shape)\n",
        "print(filtered_data.shape)\n",
        "print(filtered_data)"
      ]
    },
    {
      "cell_type": "code",
      "execution_count": 16,
      "metadata": {
        "colab": {
          "base_uri": "https://localhost:8080/",
          "height": 423
        },
        "id": "adCXF4ULQdB2",
        "outputId": "24c88de4-7936-48dd-eaf6-8a563eb2815e"
      },
      "outputs": [
        {
          "output_type": "execute_result",
          "data": {
            "text/plain": [
              "     user_id  tourist_destination_id  score  review\n",
              "1          6                     393      2     NaN\n",
              "3         19                     393      3     NaN\n",
              "8         82                     393      5     NaN\n",
              "11       131                     393      3     NaN\n",
              "12       131                     393      4     NaN\n",
              "..       ...                     ...    ...     ...\n",
              "811      219                     424      1     NaN\n",
              "813      265                     424      3     NaN\n",
              "814      272                     424      3     NaN\n",
              "815      284                     424      2     NaN\n",
              "816      297                     424      2     NaN\n",
              "\n",
              "[330 rows x 4 columns]"
            ],
            "text/html": [
              "\n",
              "  <div id=\"df-424f23aa-893d-4e82-9847-fb95ac8c7703\">\n",
              "    <div class=\"colab-df-container\">\n",
              "      <div>\n",
              "<style scoped>\n",
              "    .dataframe tbody tr th:only-of-type {\n",
              "        vertical-align: middle;\n",
              "    }\n",
              "\n",
              "    .dataframe tbody tr th {\n",
              "        vertical-align: top;\n",
              "    }\n",
              "\n",
              "    .dataframe thead th {\n",
              "        text-align: right;\n",
              "    }\n",
              "</style>\n",
              "<table border=\"1\" class=\"dataframe\">\n",
              "  <thead>\n",
              "    <tr style=\"text-align: right;\">\n",
              "      <th></th>\n",
              "      <th>user_id</th>\n",
              "      <th>tourist_destination_id</th>\n",
              "      <th>score</th>\n",
              "      <th>review</th>\n",
              "    </tr>\n",
              "  </thead>\n",
              "  <tbody>\n",
              "    <tr>\n",
              "      <th>1</th>\n",
              "      <td>6</td>\n",
              "      <td>393</td>\n",
              "      <td>2</td>\n",
              "      <td>NaN</td>\n",
              "    </tr>\n",
              "    <tr>\n",
              "      <th>3</th>\n",
              "      <td>19</td>\n",
              "      <td>393</td>\n",
              "      <td>3</td>\n",
              "      <td>NaN</td>\n",
              "    </tr>\n",
              "    <tr>\n",
              "      <th>8</th>\n",
              "      <td>82</td>\n",
              "      <td>393</td>\n",
              "      <td>5</td>\n",
              "      <td>NaN</td>\n",
              "    </tr>\n",
              "    <tr>\n",
              "      <th>11</th>\n",
              "      <td>131</td>\n",
              "      <td>393</td>\n",
              "      <td>3</td>\n",
              "      <td>NaN</td>\n",
              "    </tr>\n",
              "    <tr>\n",
              "      <th>12</th>\n",
              "      <td>131</td>\n",
              "      <td>393</td>\n",
              "      <td>4</td>\n",
              "      <td>NaN</td>\n",
              "    </tr>\n",
              "    <tr>\n",
              "      <th>...</th>\n",
              "      <td>...</td>\n",
              "      <td>...</td>\n",
              "      <td>...</td>\n",
              "      <td>...</td>\n",
              "    </tr>\n",
              "    <tr>\n",
              "      <th>811</th>\n",
              "      <td>219</td>\n",
              "      <td>424</td>\n",
              "      <td>1</td>\n",
              "      <td>NaN</td>\n",
              "    </tr>\n",
              "    <tr>\n",
              "      <th>813</th>\n",
              "      <td>265</td>\n",
              "      <td>424</td>\n",
              "      <td>3</td>\n",
              "      <td>NaN</td>\n",
              "    </tr>\n",
              "    <tr>\n",
              "      <th>814</th>\n",
              "      <td>272</td>\n",
              "      <td>424</td>\n",
              "      <td>3</td>\n",
              "      <td>NaN</td>\n",
              "    </tr>\n",
              "    <tr>\n",
              "      <th>815</th>\n",
              "      <td>284</td>\n",
              "      <td>424</td>\n",
              "      <td>2</td>\n",
              "      <td>NaN</td>\n",
              "    </tr>\n",
              "    <tr>\n",
              "      <th>816</th>\n",
              "      <td>297</td>\n",
              "      <td>424</td>\n",
              "      <td>2</td>\n",
              "      <td>NaN</td>\n",
              "    </tr>\n",
              "  </tbody>\n",
              "</table>\n",
              "<p>330 rows × 4 columns</p>\n",
              "</div>\n",
              "      <button class=\"colab-df-convert\" onclick=\"convertToInteractive('df-424f23aa-893d-4e82-9847-fb95ac8c7703')\"\n",
              "              title=\"Convert this dataframe to an interactive table.\"\n",
              "              style=\"display:none;\">\n",
              "        \n",
              "  <svg xmlns=\"http://www.w3.org/2000/svg\" height=\"24px\"viewBox=\"0 0 24 24\"\n",
              "       width=\"24px\">\n",
              "    <path d=\"M0 0h24v24H0V0z\" fill=\"none\"/>\n",
              "    <path d=\"M18.56 5.44l.94 2.06.94-2.06 2.06-.94-2.06-.94-.94-2.06-.94 2.06-2.06.94zm-11 1L8.5 8.5l.94-2.06 2.06-.94-2.06-.94L8.5 2.5l-.94 2.06-2.06.94zm10 10l.94 2.06.94-2.06 2.06-.94-2.06-.94-.94-2.06-.94 2.06-2.06.94z\"/><path d=\"M17.41 7.96l-1.37-1.37c-.4-.4-.92-.59-1.43-.59-.52 0-1.04.2-1.43.59L10.3 9.45l-7.72 7.72c-.78.78-.78 2.05 0 2.83L4 21.41c.39.39.9.59 1.41.59.51 0 1.02-.2 1.41-.59l7.78-7.78 2.81-2.81c.8-.78.8-2.07 0-2.86zM5.41 20L4 18.59l7.72-7.72 1.47 1.35L5.41 20z\"/>\n",
              "  </svg>\n",
              "      </button>\n",
              "      \n",
              "  <style>\n",
              "    .colab-df-container {\n",
              "      display:flex;\n",
              "      flex-wrap:wrap;\n",
              "      gap: 12px;\n",
              "    }\n",
              "\n",
              "    .colab-df-convert {\n",
              "      background-color: #E8F0FE;\n",
              "      border: none;\n",
              "      border-radius: 50%;\n",
              "      cursor: pointer;\n",
              "      display: none;\n",
              "      fill: #1967D2;\n",
              "      height: 32px;\n",
              "      padding: 0 0 0 0;\n",
              "      width: 32px;\n",
              "    }\n",
              "\n",
              "    .colab-df-convert:hover {\n",
              "      background-color: #E2EBFA;\n",
              "      box-shadow: 0px 1px 2px rgba(60, 64, 67, 0.3), 0px 1px 3px 1px rgba(60, 64, 67, 0.15);\n",
              "      fill: #174EA6;\n",
              "    }\n",
              "\n",
              "    [theme=dark] .colab-df-convert {\n",
              "      background-color: #3B4455;\n",
              "      fill: #D2E3FC;\n",
              "    }\n",
              "\n",
              "    [theme=dark] .colab-df-convert:hover {\n",
              "      background-color: #434B5C;\n",
              "      box-shadow: 0px 1px 3px 1px rgba(0, 0, 0, 0.15);\n",
              "      filter: drop-shadow(0px 1px 2px rgba(0, 0, 0, 0.3));\n",
              "      fill: #FFFFFF;\n",
              "    }\n",
              "  </style>\n",
              "\n",
              "      <script>\n",
              "        const buttonEl =\n",
              "          document.querySelector('#df-424f23aa-893d-4e82-9847-fb95ac8c7703 button.colab-df-convert');\n",
              "        buttonEl.style.display =\n",
              "          google.colab.kernel.accessAllowed ? 'block' : 'none';\n",
              "\n",
              "        async function convertToInteractive(key) {\n",
              "          const element = document.querySelector('#df-424f23aa-893d-4e82-9847-fb95ac8c7703');\n",
              "          const dataTable =\n",
              "            await google.colab.kernel.invokeFunction('convertToInteractive',\n",
              "                                                     [key], {});\n",
              "          if (!dataTable) return;\n",
              "\n",
              "          const docLinkHtml = 'Like what you see? Visit the ' +\n",
              "            '<a target=\"_blank\" href=https://colab.research.google.com/notebooks/data_table.ipynb>data table notebook</a>'\n",
              "            + ' to learn more about interactive tables.';\n",
              "          element.innerHTML = '';\n",
              "          dataTable['output_type'] = 'display_data';\n",
              "          await google.colab.output.renderOutput(dataTable, element);\n",
              "          const docLink = document.createElement('div');\n",
              "          docLink.innerHTML = docLinkHtml;\n",
              "          element.appendChild(docLink);\n",
              "        }\n",
              "      </script>\n",
              "    </div>\n",
              "  </div>\n",
              "  "
            ]
          },
          "metadata": {},
          "execution_count": 16
        }
      ],
      "source": [
        "#Copy filtered data to another dataset\n",
        "df = filtered_data.copy()\n",
        "df"
      ]
    },
    {
      "cell_type": "markdown",
      "metadata": {
        "id": "EeSPY4CQQs58"
      },
      "source": [
        "Doing the Encoding Dataset"
      ]
    },
    {
      "cell_type": "code",
      "execution_count": 17,
      "metadata": {
        "colab": {
          "base_uri": "https://localhost:8080/"
        },
        "id": "lBwUW2ljQvrm",
        "outputId": "700d4ce3-4afe-4b05-f458-6ea458ddd2f4"
      },
      "outputs": [
        {
          "output_type": "stream",
          "name": "stdout",
          "text": [
            "list User_id:  [6, 19, 82, 131, 184, 255, 261, 58, 84, 91, 146, 157, 167, 204, 228, 265, 278, 123, 179, 227, 242, 282, 283, 5, 210, 226, 259, 268, 272, 285, 299, 93, 112, 118, 166, 187, 194, 83, 94, 217, 224, 9, 13, 17, 43, 55, 116, 142, 175, 262, 295, 76, 80, 101, 173, 198, 248, 274, 284, 49, 106, 178, 188, 209, 216, 220, 286, 40, 74, 130, 150, 28, 121, 202, 287, 77, 122, 136, 257, 269, 154, 191, 124, 65, 297, 33, 206, 267, 149, 219]\n",
            "encoded user_id:  {6: 0, 19: 1, 82: 2, 131: 3, 184: 4, 255: 5, 261: 6, 58: 7, 84: 8, 91: 9, 146: 10, 157: 11, 167: 12, 204: 13, 228: 14, 265: 15, 278: 16, 123: 17, 179: 18, 227: 19, 242: 20, 282: 21, 283: 22, 5: 23, 210: 24, 226: 25, 259: 26, 268: 27, 272: 28, 285: 29, 299: 30, 93: 31, 112: 32, 118: 33, 166: 34, 187: 35, 194: 36, 83: 37, 94: 38, 217: 39, 224: 40, 9: 41, 13: 42, 17: 43, 43: 44, 55: 45, 116: 46, 142: 47, 175: 48, 262: 49, 295: 50, 76: 51, 80: 52, 101: 53, 173: 54, 198: 55, 248: 56, 274: 57, 284: 58, 49: 59, 106: 60, 178: 61, 188: 62, 209: 63, 216: 64, 220: 65, 286: 66, 40: 67, 74: 68, 130: 69, 150: 70, 28: 71, 121: 72, 202: 73, 287: 74, 77: 75, 122: 76, 136: 77, 257: 78, 269: 79, 154: 80, 191: 81, 124: 82, 65: 83, 297: 84, 33: 85, 206: 86, 267: 87, 149: 88, 219: 89}\n",
            "encoded value to User_Id:  {0: 6, 1: 19, 2: 82, 3: 131, 4: 184, 5: 255, 6: 261, 7: 58, 8: 84, 9: 91, 10: 146, 11: 157, 12: 167, 13: 204, 14: 228, 15: 265, 16: 278, 17: 123, 18: 179, 19: 227, 20: 242, 21: 282, 22: 283, 23: 5, 24: 210, 25: 226, 26: 259, 27: 268, 28: 272, 29: 285, 30: 299, 31: 93, 32: 112, 33: 118, 34: 166, 35: 187, 36: 194, 37: 83, 38: 94, 39: 217, 40: 224, 41: 9, 42: 13, 43: 17, 44: 43, 45: 55, 46: 116, 47: 142, 48: 175, 49: 262, 50: 295, 51: 76, 52: 80, 53: 101, 54: 173, 55: 198, 56: 248, 57: 274, 58: 284, 59: 49, 60: 106, 61: 178, 62: 188, 63: 209, 64: 216, 65: 220, 66: 286, 67: 40, 68: 74, 69: 130, 70: 150, 71: 28, 72: 121, 73: 202, 74: 287, 75: 77, 76: 122, 77: 136, 78: 257, 79: 269, 80: 154, 81: 191, 82: 124, 83: 65, 84: 297, 85: 33, 86: 206, 87: 267, 88: 149, 89: 219}\n"
          ]
        }
      ],
      "source": [
        "#Preprocessing to change the User_ID without the same value\n",
        "user_ids = df['user_id'].unique().tolist()\n",
        "print('list User_id: ', user_ids)\n",
        "\n",
        "#Encoding User_Id\n",
        "user_to_user_encoded = {x: i for i, x in enumerate(user_ids)}\n",
        "print('encoded user_id: ', user_to_user_encoded)\n",
        "\n",
        "#Encoding value to User_Id\n",
        "user_encoded_to_user = {i: x for i, x in enumerate(user_ids)}\n",
        "print('encoded value to User_Id: ', user_encoded_to_user)\n"
      ]
    },
    {
      "cell_type": "code",
      "execution_count": 18,
      "metadata": {
        "colab": {
          "base_uri": "https://localhost:8080/"
        },
        "id": "mLAz9hLBR7YA",
        "outputId": "80a6b50c-1c89-46b6-e15f-18d455758b60"
      },
      "outputs": [
        {
          "output_type": "stream",
          "name": "stdout",
          "text": [
            "list place_id:  [393, 405, 428, 407, 426, 421, 406, 436, 395, 434, 397, 433, 398, 410, 402, 417, 416, 430, 429, 422, 414, 400, 427, 423, 431, 424]\n",
            "encoded place_id:  {393: 0, 405: 1, 428: 2, 407: 3, 426: 4, 421: 5, 406: 6, 436: 7, 395: 8, 434: 9, 397: 10, 433: 11, 398: 12, 410: 13, 402: 14, 417: 15, 416: 16, 430: 17, 429: 18, 422: 19, 414: 20, 400: 21, 427: 22, 423: 23, 431: 24, 424: 25}\n",
            "encoded value to place_id:  {0: 393, 1: 405, 2: 428, 3: 407, 4: 426, 5: 421, 6: 406, 7: 436, 8: 395, 9: 434, 10: 397, 11: 433, 12: 398, 13: 410, 14: 402, 15: 417, 16: 416, 17: 430, 18: 429, 19: 422, 20: 414, 21: 400, 22: 427, 23: 423, 24: 431, 25: 424}\n"
          ]
        }
      ],
      "source": [
        "#Changing the \"Place_Id\" to List without the same value\n",
        "place_ids = df['tourist_destination_id'].unique().tolist()\n",
        "print('list place_id: ', place_ids)\n",
        "\n",
        "#Encoding \"Place_Id\"\n",
        "place_to_place_encoded = {x: i for i, x in enumerate(place_ids)}\n",
        "print('encoded place_id: ', place_to_place_encoded)\n",
        "\n",
        "#Encoding value to \"Place_Id\"\n",
        "place_encoded_to_place = {i: x for i, x in enumerate(place_ids)}\n",
        "print('encoded value to place_id: ', place_encoded_to_place )"
      ]
    },
    {
      "cell_type": "code",
      "execution_count": 19,
      "metadata": {
        "id": "OeQJynpHSvhT"
      },
      "outputs": [],
      "source": [
        "#Mapping User_Id to dataframe\n",
        "df['user'] =df['user_id'].map(user_to_user_encoded)\n",
        "\n",
        "#Mapping Place_Id to dataframe\n",
        "df['place']=df['tourist_destination_id'].map(place_to_place_encoded)"
      ]
    },
    {
      "cell_type": "code",
      "execution_count": 20,
      "metadata": {
        "colab": {
          "base_uri": "https://localhost:8080/"
        },
        "id": "3wnngZ3XS-mY",
        "outputId": "0921717f-1901-4a31-fb46-651022c12849"
      },
      "outputs": [
        {
          "output_type": "stream",
          "name": "stdout",
          "text": [
            "90 26 1 5\n"
          ]
        }
      ],
      "source": [
        "num_users = len(user_to_user_encoded)\n",
        "num_places = len(place_to_place_encoded)\n",
        "min_rating = min(df['score'])\n",
        "max_rating = max(df['score'])\n",
        "\n",
        "df['score'] = df['score'].values.astype(np.float32)\n",
        "\n",
        "print(num_users, num_places, min_rating, max_rating)"
      ]
    },
    {
      "cell_type": "code",
      "execution_count": 21,
      "metadata": {
        "colab": {
          "base_uri": "https://localhost:8080/",
          "height": 423
        },
        "id": "NSO9LmIxTd10",
        "outputId": "d179e72f-8fbc-4562-e458-a209fe43e95a"
      },
      "outputs": [
        {
          "output_type": "execute_result",
          "data": {
            "text/plain": [
              "     user_id  tourist_destination_id  score  review  user  place\n",
              "25        58                     405    2.0     NaN     7      1\n",
              "330        6                     410    2.0     NaN     0     13\n",
              "273      136                     433    2.0     NaN    77     11\n",
              "104      112                     426    5.0     NaN    32      4\n",
              "187      274                     436    4.0     NaN    57      7\n",
              "..       ...                     ...    ...     ...   ...    ...\n",
              "379      259                     402    3.0     NaN    26     14\n",
              "154      116                     406    2.0     NaN    46      6\n",
              "210      220                     395    2.0     NaN    65      8\n",
              "614      116                     400    4.0     NaN    46     21\n",
              "205      188                     395    3.0     NaN    62      8\n",
              "\n",
              "[330 rows x 6 columns]"
            ],
            "text/html": [
              "\n",
              "  <div id=\"df-945d4a3f-7d29-4288-a0db-bfc17c160987\">\n",
              "    <div class=\"colab-df-container\">\n",
              "      <div>\n",
              "<style scoped>\n",
              "    .dataframe tbody tr th:only-of-type {\n",
              "        vertical-align: middle;\n",
              "    }\n",
              "\n",
              "    .dataframe tbody tr th {\n",
              "        vertical-align: top;\n",
              "    }\n",
              "\n",
              "    .dataframe thead th {\n",
              "        text-align: right;\n",
              "    }\n",
              "</style>\n",
              "<table border=\"1\" class=\"dataframe\">\n",
              "  <thead>\n",
              "    <tr style=\"text-align: right;\">\n",
              "      <th></th>\n",
              "      <th>user_id</th>\n",
              "      <th>tourist_destination_id</th>\n",
              "      <th>score</th>\n",
              "      <th>review</th>\n",
              "      <th>user</th>\n",
              "      <th>place</th>\n",
              "    </tr>\n",
              "  </thead>\n",
              "  <tbody>\n",
              "    <tr>\n",
              "      <th>25</th>\n",
              "      <td>58</td>\n",
              "      <td>405</td>\n",
              "      <td>2.0</td>\n",
              "      <td>NaN</td>\n",
              "      <td>7</td>\n",
              "      <td>1</td>\n",
              "    </tr>\n",
              "    <tr>\n",
              "      <th>330</th>\n",
              "      <td>6</td>\n",
              "      <td>410</td>\n",
              "      <td>2.0</td>\n",
              "      <td>NaN</td>\n",
              "      <td>0</td>\n",
              "      <td>13</td>\n",
              "    </tr>\n",
              "    <tr>\n",
              "      <th>273</th>\n",
              "      <td>136</td>\n",
              "      <td>433</td>\n",
              "      <td>2.0</td>\n",
              "      <td>NaN</td>\n",
              "      <td>77</td>\n",
              "      <td>11</td>\n",
              "    </tr>\n",
              "    <tr>\n",
              "      <th>104</th>\n",
              "      <td>112</td>\n",
              "      <td>426</td>\n",
              "      <td>5.0</td>\n",
              "      <td>NaN</td>\n",
              "      <td>32</td>\n",
              "      <td>4</td>\n",
              "    </tr>\n",
              "    <tr>\n",
              "      <th>187</th>\n",
              "      <td>274</td>\n",
              "      <td>436</td>\n",
              "      <td>4.0</td>\n",
              "      <td>NaN</td>\n",
              "      <td>57</td>\n",
              "      <td>7</td>\n",
              "    </tr>\n",
              "    <tr>\n",
              "      <th>...</th>\n",
              "      <td>...</td>\n",
              "      <td>...</td>\n",
              "      <td>...</td>\n",
              "      <td>...</td>\n",
              "      <td>...</td>\n",
              "      <td>...</td>\n",
              "    </tr>\n",
              "    <tr>\n",
              "      <th>379</th>\n",
              "      <td>259</td>\n",
              "      <td>402</td>\n",
              "      <td>3.0</td>\n",
              "      <td>NaN</td>\n",
              "      <td>26</td>\n",
              "      <td>14</td>\n",
              "    </tr>\n",
              "    <tr>\n",
              "      <th>154</th>\n",
              "      <td>116</td>\n",
              "      <td>406</td>\n",
              "      <td>2.0</td>\n",
              "      <td>NaN</td>\n",
              "      <td>46</td>\n",
              "      <td>6</td>\n",
              "    </tr>\n",
              "    <tr>\n",
              "      <th>210</th>\n",
              "      <td>220</td>\n",
              "      <td>395</td>\n",
              "      <td>2.0</td>\n",
              "      <td>NaN</td>\n",
              "      <td>65</td>\n",
              "      <td>8</td>\n",
              "    </tr>\n",
              "    <tr>\n",
              "      <th>614</th>\n",
              "      <td>116</td>\n",
              "      <td>400</td>\n",
              "      <td>4.0</td>\n",
              "      <td>NaN</td>\n",
              "      <td>46</td>\n",
              "      <td>21</td>\n",
              "    </tr>\n",
              "    <tr>\n",
              "      <th>205</th>\n",
              "      <td>188</td>\n",
              "      <td>395</td>\n",
              "      <td>3.0</td>\n",
              "      <td>NaN</td>\n",
              "      <td>62</td>\n",
              "      <td>8</td>\n",
              "    </tr>\n",
              "  </tbody>\n",
              "</table>\n",
              "<p>330 rows × 6 columns</p>\n",
              "</div>\n",
              "      <button class=\"colab-df-convert\" onclick=\"convertToInteractive('df-945d4a3f-7d29-4288-a0db-bfc17c160987')\"\n",
              "              title=\"Convert this dataframe to an interactive table.\"\n",
              "              style=\"display:none;\">\n",
              "        \n",
              "  <svg xmlns=\"http://www.w3.org/2000/svg\" height=\"24px\"viewBox=\"0 0 24 24\"\n",
              "       width=\"24px\">\n",
              "    <path d=\"M0 0h24v24H0V0z\" fill=\"none\"/>\n",
              "    <path d=\"M18.56 5.44l.94 2.06.94-2.06 2.06-.94-2.06-.94-.94-2.06-.94 2.06-2.06.94zm-11 1L8.5 8.5l.94-2.06 2.06-.94-2.06-.94L8.5 2.5l-.94 2.06-2.06.94zm10 10l.94 2.06.94-2.06 2.06-.94-2.06-.94-.94-2.06-.94 2.06-2.06.94z\"/><path d=\"M17.41 7.96l-1.37-1.37c-.4-.4-.92-.59-1.43-.59-.52 0-1.04.2-1.43.59L10.3 9.45l-7.72 7.72c-.78.78-.78 2.05 0 2.83L4 21.41c.39.39.9.59 1.41.59.51 0 1.02-.2 1.41-.59l7.78-7.78 2.81-2.81c.8-.78.8-2.07 0-2.86zM5.41 20L4 18.59l7.72-7.72 1.47 1.35L5.41 20z\"/>\n",
              "  </svg>\n",
              "      </button>\n",
              "      \n",
              "  <style>\n",
              "    .colab-df-container {\n",
              "      display:flex;\n",
              "      flex-wrap:wrap;\n",
              "      gap: 12px;\n",
              "    }\n",
              "\n",
              "    .colab-df-convert {\n",
              "      background-color: #E8F0FE;\n",
              "      border: none;\n",
              "      border-radius: 50%;\n",
              "      cursor: pointer;\n",
              "      display: none;\n",
              "      fill: #1967D2;\n",
              "      height: 32px;\n",
              "      padding: 0 0 0 0;\n",
              "      width: 32px;\n",
              "    }\n",
              "\n",
              "    .colab-df-convert:hover {\n",
              "      background-color: #E2EBFA;\n",
              "      box-shadow: 0px 1px 2px rgba(60, 64, 67, 0.3), 0px 1px 3px 1px rgba(60, 64, 67, 0.15);\n",
              "      fill: #174EA6;\n",
              "    }\n",
              "\n",
              "    [theme=dark] .colab-df-convert {\n",
              "      background-color: #3B4455;\n",
              "      fill: #D2E3FC;\n",
              "    }\n",
              "\n",
              "    [theme=dark] .colab-df-convert:hover {\n",
              "      background-color: #434B5C;\n",
              "      box-shadow: 0px 1px 3px 1px rgba(0, 0, 0, 0.15);\n",
              "      filter: drop-shadow(0px 1px 2px rgba(0, 0, 0, 0.3));\n",
              "      fill: #FFFFFF;\n",
              "    }\n",
              "  </style>\n",
              "\n",
              "      <script>\n",
              "        const buttonEl =\n",
              "          document.querySelector('#df-945d4a3f-7d29-4288-a0db-bfc17c160987 button.colab-df-convert');\n",
              "        buttonEl.style.display =\n",
              "          google.colab.kernel.accessAllowed ? 'block' : 'none';\n",
              "\n",
              "        async function convertToInteractive(key) {\n",
              "          const element = document.querySelector('#df-945d4a3f-7d29-4288-a0db-bfc17c160987');\n",
              "          const dataTable =\n",
              "            await google.colab.kernel.invokeFunction('convertToInteractive',\n",
              "                                                     [key], {});\n",
              "          if (!dataTable) return;\n",
              "\n",
              "          const docLinkHtml = 'Like what you see? Visit the ' +\n",
              "            '<a target=\"_blank\" href=https://colab.research.google.com/notebooks/data_table.ipynb>data table notebook</a>'\n",
              "            + ' to learn more about interactive tables.';\n",
              "          element.innerHTML = '';\n",
              "          dataTable['output_type'] = 'display_data';\n",
              "          await google.colab.output.renderOutput(dataTable, element);\n",
              "          const docLink = document.createElement('div');\n",
              "          docLink.innerHTML = docLinkHtml;\n",
              "          element.appendChild(docLink);\n",
              "        }\n",
              "      </script>\n",
              "    </div>\n",
              "  </div>\n",
              "  "
            ]
          },
          "metadata": {},
          "execution_count": 21
        }
      ],
      "source": [
        "df=df.sample(frac=1, random_state=42).iloc[:1000,:]\n",
        "df"
      ]
    },
    {
      "cell_type": "code",
      "execution_count": 22,
      "metadata": {
        "id": "-5N3jBb8x1lv"
      },
      "outputs": [],
      "source": [
        "#Splitting data train and test\n",
        "x = df[['user','place']].values\n",
        "y=df['score'].apply(lambda x:(x-min_rating)/(max_rating-min_rating)).values\n",
        "\n",
        "from sklearn.model_selection import train_test_split\n",
        "\n",
        "x_train, x_test, y_train, y_test = train_test_split(x,y, train_size=0.8, random_state=42)"
      ]
    },
    {
      "cell_type": "code",
      "execution_count": 23,
      "metadata": {
        "colab": {
          "base_uri": "https://localhost:8080/"
        },
        "id": "-obvDwKLx1lv",
        "outputId": "13781080-cebb-4c05-989e-9e069cde1c44"
      },
      "outputs": [
        {
          "output_type": "stream",
          "name": "stdout",
          "text": [
            "(264, 2)\n",
            "(66, 2)\n",
            "(264,)\n",
            "(66,)\n"
          ]
        }
      ],
      "source": [
        "print(x_train.shape)\n",
        "print(x_test.shape)\n",
        "print(y_train.shape)\n",
        "print(y_test.shape)"
      ]
    },
    {
      "cell_type": "code",
      "execution_count": 24,
      "metadata": {
        "id": "r6JGs27sx1lv"
      },
      "outputs": [],
      "source": [
        "user_id_input = tf.keras.layers.Input(shape=[1], name=\"user_id_input\")\n",
        "place_id_input = tf.keras.layers.Input(shape=[1], name=\"place_id_input\")\n",
        "\n",
        "user_embedding = tf.keras.layers.Embedding(output_dim = 10,\n",
        "                                           input_dim=num_users+1,\n",
        "                                           input_length = 1,\n",
        "                                           name = \"user_embedding\")(user_id_input)\n",
        "place_embedding = tf.keras.layers.Embedding(output_dim = 20,\n",
        "                                            input_dim = num_places+1,\n",
        "                                            input_length = 1,\n",
        "                                           name = \"place_embedding\")(place_id_input)\n",
        "\n",
        "user_vec = tf.keras.layers.Flatten(name =\"flatten-user\")(user_embedding)\n",
        "place_vec = tf.keras.layers.Flatten(name =\"flatten-place\")(place_embedding)"
      ]
    },
    {
      "cell_type": "code",
      "execution_count": 25,
      "metadata": {
        "colab": {
          "base_uri": "https://localhost:8080/"
        },
        "id": "z3C816kux1lv",
        "outputId": "8515fce7-1f7f-4934-b8d6-c4a73335da77"
      },
      "outputs": [
        {
          "output_type": "stream",
          "name": "stdout",
          "text": [
            "Epoch 1/100\n",
            "9/9 [==============================] - 1s 36ms/step - loss: 0.3442 - root_mean_squared_error: 0.5867 - val_loss: 0.3373 - val_root_mean_squared_error: 0.5807\n",
            "Epoch 2/100\n",
            "9/9 [==============================] - 0s 9ms/step - loss: 0.2725 - root_mean_squared_error: 0.5220 - val_loss: 0.2465 - val_root_mean_squared_error: 0.4965\n",
            "Epoch 3/100\n",
            "9/9 [==============================] - 0s 8ms/step - loss: 0.1918 - root_mean_squared_error: 0.4379 - val_loss: 0.1758 - val_root_mean_squared_error: 0.4193\n",
            "Epoch 4/100\n",
            "9/9 [==============================] - 0s 9ms/step - loss: 0.1448 - root_mean_squared_error: 0.3805 - val_loss: 0.1426 - val_root_mean_squared_error: 0.3776\n",
            "Epoch 5/100\n",
            "9/9 [==============================] - 0s 8ms/step - loss: 0.1263 - root_mean_squared_error: 0.3554 - val_loss: 0.1322 - val_root_mean_squared_error: 0.3636\n",
            "Epoch 6/100\n",
            "9/9 [==============================] - 0s 6ms/step - loss: 0.1231 - root_mean_squared_error: 0.3509 - val_loss: 0.1292 - val_root_mean_squared_error: 0.3595\n",
            "Epoch 7/100\n",
            "9/9 [==============================] - 0s 8ms/step - loss: 0.1227 - root_mean_squared_error: 0.3503 - val_loss: 0.1286 - val_root_mean_squared_error: 0.3586\n",
            "Epoch 8/100\n",
            "9/9 [==============================] - 0s 8ms/step - loss: 0.1228 - root_mean_squared_error: 0.3504 - val_loss: 0.1285 - val_root_mean_squared_error: 0.3585\n",
            "Epoch 9/100\n",
            "9/9 [==============================] - 0s 9ms/step - loss: 0.1228 - root_mean_squared_error: 0.3505 - val_loss: 0.1285 - val_root_mean_squared_error: 0.3585\n",
            "Epoch 10/100\n",
            "9/9 [==============================] - 0s 14ms/step - loss: 0.1228 - root_mean_squared_error: 0.3504 - val_loss: 0.1290 - val_root_mean_squared_error: 0.3592\n",
            "Epoch 11/100\n",
            "9/9 [==============================] - 0s 12ms/step - loss: 0.1223 - root_mean_squared_error: 0.3497 - val_loss: 0.1292 - val_root_mean_squared_error: 0.3594\n",
            "Epoch 12/100\n",
            "9/9 [==============================] - 0s 12ms/step - loss: 0.1225 - root_mean_squared_error: 0.3500 - val_loss: 0.1297 - val_root_mean_squared_error: 0.3601\n",
            "Epoch 13/100\n",
            "9/9 [==============================] - 0s 12ms/step - loss: 0.1222 - root_mean_squared_error: 0.3496 - val_loss: 0.1293 - val_root_mean_squared_error: 0.3596\n",
            "Epoch 14/100\n",
            "9/9 [==============================] - 0s 13ms/step - loss: 0.1222 - root_mean_squared_error: 0.3495 - val_loss: 0.1292 - val_root_mean_squared_error: 0.3595\n",
            "Epoch 15/100\n",
            "9/9 [==============================] - 0s 10ms/step - loss: 0.1221 - root_mean_squared_error: 0.3494 - val_loss: 0.1292 - val_root_mean_squared_error: 0.3595\n",
            "Epoch 16/100\n",
            "9/9 [==============================] - 0s 11ms/step - loss: 0.1220 - root_mean_squared_error: 0.3493 - val_loss: 0.1295 - val_root_mean_squared_error: 0.3598\n",
            "Epoch 17/100\n",
            "9/9 [==============================] - 0s 11ms/step - loss: 0.1220 - root_mean_squared_error: 0.3492 - val_loss: 0.1295 - val_root_mean_squared_error: 0.3598\n",
            "Epoch 18/100\n",
            "9/9 [==============================] - 0s 20ms/step - loss: 0.1219 - root_mean_squared_error: 0.3492 - val_loss: 0.1294 - val_root_mean_squared_error: 0.3597\n",
            "Epoch 19/100\n",
            "9/9 [==============================] - 0s 17ms/step - loss: 0.1218 - root_mean_squared_error: 0.3490 - val_loss: 0.1296 - val_root_mean_squared_error: 0.3600\n",
            "Epoch 20/100\n",
            "9/9 [==============================] - 0s 18ms/step - loss: 0.1219 - root_mean_squared_error: 0.3491 - val_loss: 0.1299 - val_root_mean_squared_error: 0.3604\n",
            "Epoch 21/100\n",
            "9/9 [==============================] - 0s 17ms/step - loss: 0.1219 - root_mean_squared_error: 0.3492 - val_loss: 0.1300 - val_root_mean_squared_error: 0.3606\n",
            "Epoch 22/100\n",
            "9/9 [==============================] - 0s 11ms/step - loss: 0.1218 - root_mean_squared_error: 0.3490 - val_loss: 0.1301 - val_root_mean_squared_error: 0.3607\n",
            "Epoch 23/100\n",
            "9/9 [==============================] - 0s 9ms/step - loss: 0.1218 - root_mean_squared_error: 0.3490 - val_loss: 0.1299 - val_root_mean_squared_error: 0.3604\n",
            "Epoch 24/100\n",
            "9/9 [==============================] - 0s 18ms/step - loss: 0.1217 - root_mean_squared_error: 0.3489 - val_loss: 0.1299 - val_root_mean_squared_error: 0.3604\n",
            "Epoch 25/100\n",
            "9/9 [==============================] - 0s 11ms/step - loss: 0.1218 - root_mean_squared_error: 0.3490 - val_loss: 0.1294 - val_root_mean_squared_error: 0.3597\n",
            "Epoch 26/100\n",
            "9/9 [==============================] - 0s 11ms/step - loss: 0.1215 - root_mean_squared_error: 0.3486 - val_loss: 0.1295 - val_root_mean_squared_error: 0.3598\n",
            "Epoch 27/100\n",
            "9/9 [==============================] - 0s 11ms/step - loss: 0.1215 - root_mean_squared_error: 0.3485 - val_loss: 0.1296 - val_root_mean_squared_error: 0.3600\n",
            "Epoch 28/100\n",
            "9/9 [==============================] - 0s 23ms/step - loss: 0.1215 - root_mean_squared_error: 0.3485 - val_loss: 0.1296 - val_root_mean_squared_error: 0.3600\n",
            "Epoch 29/100\n",
            "9/9 [==============================] - 0s 13ms/step - loss: 0.1214 - root_mean_squared_error: 0.3485 - val_loss: 0.1294 - val_root_mean_squared_error: 0.3597\n",
            "Epoch 30/100\n",
            "9/9 [==============================] - 0s 11ms/step - loss: 0.1215 - root_mean_squared_error: 0.3485 - val_loss: 0.1290 - val_root_mean_squared_error: 0.3592\n",
            "Epoch 31/100\n",
            "9/9 [==============================] - 0s 16ms/step - loss: 0.1214 - root_mean_squared_error: 0.3484 - val_loss: 0.1291 - val_root_mean_squared_error: 0.3594\n",
            "Epoch 32/100\n",
            "9/9 [==============================] - 0s 25ms/step - loss: 0.1214 - root_mean_squared_error: 0.3484 - val_loss: 0.1295 - val_root_mean_squared_error: 0.3599\n",
            "Epoch 33/100\n",
            "9/9 [==============================] - 0s 12ms/step - loss: 0.1212 - root_mean_squared_error: 0.3482 - val_loss: 0.1294 - val_root_mean_squared_error: 0.3597\n",
            "Epoch 34/100\n",
            "9/9 [==============================] - 0s 12ms/step - loss: 0.1212 - root_mean_squared_error: 0.3481 - val_loss: 0.1293 - val_root_mean_squared_error: 0.3596\n",
            "Epoch 35/100\n",
            "9/9 [==============================] - 0s 18ms/step - loss: 0.1210 - root_mean_squared_error: 0.3479 - val_loss: 0.1299 - val_root_mean_squared_error: 0.3605\n",
            "Epoch 36/100\n",
            "9/9 [==============================] - 0s 11ms/step - loss: 0.1212 - root_mean_squared_error: 0.3481 - val_loss: 0.1303 - val_root_mean_squared_error: 0.3609\n",
            "Epoch 37/100\n",
            "9/9 [==============================] - 0s 12ms/step - loss: 0.1211 - root_mean_squared_error: 0.3480 - val_loss: 0.1302 - val_root_mean_squared_error: 0.3608\n",
            "Epoch 38/100\n",
            "9/9 [==============================] - 0s 14ms/step - loss: 0.1209 - root_mean_squared_error: 0.3478 - val_loss: 0.1295 - val_root_mean_squared_error: 0.3599\n",
            "Epoch 39/100\n",
            "9/9 [==============================] - 0s 10ms/step - loss: 0.1209 - root_mean_squared_error: 0.3477 - val_loss: 0.1293 - val_root_mean_squared_error: 0.3596\n",
            "Epoch 40/100\n",
            "9/9 [==============================] - 0s 12ms/step - loss: 0.1210 - root_mean_squared_error: 0.3478 - val_loss: 0.1292 - val_root_mean_squared_error: 0.3594\n",
            "Epoch 41/100\n",
            "9/9 [==============================] - 0s 12ms/step - loss: 0.1209 - root_mean_squared_error: 0.3478 - val_loss: 0.1297 - val_root_mean_squared_error: 0.3601\n",
            "Epoch 42/100\n",
            "9/9 [==============================] - 0s 11ms/step - loss: 0.1208 - root_mean_squared_error: 0.3476 - val_loss: 0.1298 - val_root_mean_squared_error: 0.3603\n",
            "Epoch 43/100\n",
            "9/9 [==============================] - 0s 12ms/step - loss: 0.1207 - root_mean_squared_error: 0.3474 - val_loss: 0.1298 - val_root_mean_squared_error: 0.3603\n",
            "Epoch 44/100\n",
            "9/9 [==============================] - 0s 15ms/step - loss: 0.1206 - root_mean_squared_error: 0.3473 - val_loss: 0.1297 - val_root_mean_squared_error: 0.3602\n",
            "Epoch 45/100\n",
            "9/9 [==============================] - 0s 22ms/step - loss: 0.1205 - root_mean_squared_error: 0.3472 - val_loss: 0.1296 - val_root_mean_squared_error: 0.3600\n",
            "Epoch 46/100\n",
            "9/9 [==============================] - 0s 18ms/step - loss: 0.1205 - root_mean_squared_error: 0.3472 - val_loss: 0.1293 - val_root_mean_squared_error: 0.3596\n",
            "Epoch 47/100\n",
            "9/9 [==============================] - 0s 14ms/step - loss: 0.1206 - root_mean_squared_error: 0.3472 - val_loss: 0.1291 - val_root_mean_squared_error: 0.3593\n",
            "Epoch 48/100\n",
            "9/9 [==============================] - 0s 19ms/step - loss: 0.1205 - root_mean_squared_error: 0.3471 - val_loss: 0.1292 - val_root_mean_squared_error: 0.3594\n",
            "Epoch 49/100\n",
            "9/9 [==============================] - 0s 11ms/step - loss: 0.1204 - root_mean_squared_error: 0.3470 - val_loss: 0.1294 - val_root_mean_squared_error: 0.3598\n",
            "Epoch 50/100\n",
            "9/9 [==============================] - 0s 13ms/step - loss: 0.1202 - root_mean_squared_error: 0.3468 - val_loss: 0.1297 - val_root_mean_squared_error: 0.3602\n",
            "Epoch 51/100\n",
            "9/9 [==============================] - 0s 27ms/step - loss: 0.1204 - root_mean_squared_error: 0.3470 - val_loss: 0.1303 - val_root_mean_squared_error: 0.3610\n",
            "Epoch 52/100\n",
            "9/9 [==============================] - 0s 14ms/step - loss: 0.1203 - root_mean_squared_error: 0.3468 - val_loss: 0.1302 - val_root_mean_squared_error: 0.3608\n",
            "Epoch 53/100\n",
            "9/9 [==============================] - 0s 12ms/step - loss: 0.1201 - root_mean_squared_error: 0.3466 - val_loss: 0.1297 - val_root_mean_squared_error: 0.3602\n",
            "Epoch 54/100\n",
            "9/9 [==============================] - 0s 14ms/step - loss: 0.1201 - root_mean_squared_error: 0.3465 - val_loss: 0.1296 - val_root_mean_squared_error: 0.3599\n",
            "Epoch 55/100\n",
            "9/9 [==============================] - 0s 13ms/step - loss: 0.1201 - root_mean_squared_error: 0.3465 - val_loss: 0.1296 - val_root_mean_squared_error: 0.3600\n",
            "Epoch 56/100\n",
            "9/9 [==============================] - 0s 28ms/step - loss: 0.1200 - root_mean_squared_error: 0.3464 - val_loss: 0.1296 - val_root_mean_squared_error: 0.3600\n",
            "Epoch 57/100\n",
            "9/9 [==============================] - 0s 24ms/step - loss: 0.1199 - root_mean_squared_error: 0.3463 - val_loss: 0.1296 - val_root_mean_squared_error: 0.3600\n",
            "Epoch 58/100\n",
            "9/9 [==============================] - 0s 19ms/step - loss: 0.1199 - root_mean_squared_error: 0.3462 - val_loss: 0.1295 - val_root_mean_squared_error: 0.3598\n",
            "Epoch 59/100\n",
            "9/9 [==============================] - 0s 19ms/step - loss: 0.1199 - root_mean_squared_error: 0.3462 - val_loss: 0.1294 - val_root_mean_squared_error: 0.3598\n",
            "Epoch 60/100\n",
            "9/9 [==============================] - 0s 20ms/step - loss: 0.1198 - root_mean_squared_error: 0.3461 - val_loss: 0.1297 - val_root_mean_squared_error: 0.3601\n",
            "Epoch 61/100\n",
            "9/9 [==============================] - 0s 21ms/step - loss: 0.1197 - root_mean_squared_error: 0.3459 - val_loss: 0.1300 - val_root_mean_squared_error: 0.3606\n",
            "Epoch 62/100\n",
            "9/9 [==============================] - 0s 18ms/step - loss: 0.1197 - root_mean_squared_error: 0.3460 - val_loss: 0.1303 - val_root_mean_squared_error: 0.3609\n",
            "Epoch 63/100\n",
            "9/9 [==============================] - 0s 12ms/step - loss: 0.1196 - root_mean_squared_error: 0.3458 - val_loss: 0.1299 - val_root_mean_squared_error: 0.3604\n",
            "Epoch 64/100\n",
            "9/9 [==============================] - 0s 18ms/step - loss: 0.1196 - root_mean_squared_error: 0.3458 - val_loss: 0.1295 - val_root_mean_squared_error: 0.3598\n",
            "Epoch 65/100\n",
            "9/9 [==============================] - 0s 22ms/step - loss: 0.1196 - root_mean_squared_error: 0.3458 - val_loss: 0.1294 - val_root_mean_squared_error: 0.3598\n",
            "Epoch 66/100\n",
            "9/9 [==============================] - 0s 30ms/step - loss: 0.1195 - root_mean_squared_error: 0.3456 - val_loss: 0.1296 - val_root_mean_squared_error: 0.3600\n",
            "Epoch 67/100\n",
            "9/9 [==============================] - 0s 30ms/step - loss: 0.1194 - root_mean_squared_error: 0.3455 - val_loss: 0.1298 - val_root_mean_squared_error: 0.3603\n",
            "Epoch 68/100\n",
            "9/9 [==============================] - 0s 27ms/step - loss: 0.1193 - root_mean_squared_error: 0.3455 - val_loss: 0.1298 - val_root_mean_squared_error: 0.3602\n",
            "Epoch 69/100\n",
            "9/9 [==============================] - 0s 27ms/step - loss: 0.1193 - root_mean_squared_error: 0.3454 - val_loss: 0.1298 - val_root_mean_squared_error: 0.3603\n",
            "Epoch 70/100\n",
            "9/9 [==============================] - 0s 17ms/step - loss: 0.1192 - root_mean_squared_error: 0.3453 - val_loss: 0.1298 - val_root_mean_squared_error: 0.3603\n",
            "Epoch 71/100\n",
            "9/9 [==============================] - 0s 28ms/step - loss: 0.1192 - root_mean_squared_error: 0.3453 - val_loss: 0.1300 - val_root_mean_squared_error: 0.3605\n",
            "Epoch 72/100\n",
            "9/9 [==============================] - 0s 10ms/step - loss: 0.1191 - root_mean_squared_error: 0.3451 - val_loss: 0.1299 - val_root_mean_squared_error: 0.3605\n",
            "Epoch 73/100\n",
            "9/9 [==============================] - 0s 11ms/step - loss: 0.1192 - root_mean_squared_error: 0.3452 - val_loss: 0.1305 - val_root_mean_squared_error: 0.3612\n",
            "Epoch 74/100\n",
            "9/9 [==============================] - 0s 21ms/step - loss: 0.1190 - root_mean_squared_error: 0.3450 - val_loss: 0.1304 - val_root_mean_squared_error: 0.3612\n",
            "Epoch 75/100\n",
            "9/9 [==============================] - 0s 24ms/step - loss: 0.1189 - root_mean_squared_error: 0.3449 - val_loss: 0.1302 - val_root_mean_squared_error: 0.3608\n",
            "Epoch 76/100\n",
            "9/9 [==============================] - 0s 19ms/step - loss: 0.1189 - root_mean_squared_error: 0.3448 - val_loss: 0.1300 - val_root_mean_squared_error: 0.3605\n",
            "Epoch 77/100\n",
            "9/9 [==============================] - 0s 8ms/step - loss: 0.1188 - root_mean_squared_error: 0.3447 - val_loss: 0.1299 - val_root_mean_squared_error: 0.3604\n",
            "Epoch 78/100\n",
            "9/9 [==============================] - 0s 10ms/step - loss: 0.1188 - root_mean_squared_error: 0.3447 - val_loss: 0.1299 - val_root_mean_squared_error: 0.3604\n",
            "Epoch 79/100\n",
            "9/9 [==============================] - 0s 10ms/step - loss: 0.1187 - root_mean_squared_error: 0.3446 - val_loss: 0.1300 - val_root_mean_squared_error: 0.3605\n",
            "Epoch 80/100\n",
            "9/9 [==============================] - 0s 12ms/step - loss: 0.1187 - root_mean_squared_error: 0.3445 - val_loss: 0.1300 - val_root_mean_squared_error: 0.3605\n",
            "Epoch 81/100\n",
            "9/9 [==============================] - 0s 9ms/step - loss: 0.1187 - root_mean_squared_error: 0.3445 - val_loss: 0.1299 - val_root_mean_squared_error: 0.3604\n",
            "Epoch 82/100\n",
            "9/9 [==============================] - 0s 14ms/step - loss: 0.1187 - root_mean_squared_error: 0.3446 - val_loss: 0.1302 - val_root_mean_squared_error: 0.3609\n",
            "Epoch 83/100\n",
            "9/9 [==============================] - 0s 13ms/step - loss: 0.1185 - root_mean_squared_error: 0.3442 - val_loss: 0.1300 - val_root_mean_squared_error: 0.3606\n",
            "Epoch 84/100\n",
            "9/9 [==============================] - 0s 12ms/step - loss: 0.1185 - root_mean_squared_error: 0.3443 - val_loss: 0.1300 - val_root_mean_squared_error: 0.3605\n",
            "Epoch 85/100\n",
            "9/9 [==============================] - 0s 21ms/step - loss: 0.1184 - root_mean_squared_error: 0.3440 - val_loss: 0.1302 - val_root_mean_squared_error: 0.3608\n",
            "Epoch 86/100\n",
            "9/9 [==============================] - 0s 19ms/step - loss: 0.1183 - root_mean_squared_error: 0.3439 - val_loss: 0.1303 - val_root_mean_squared_error: 0.3609\n",
            "Epoch 87/100\n",
            "9/9 [==============================] - 0s 12ms/step - loss: 0.1182 - root_mean_squared_error: 0.3439 - val_loss: 0.1305 - val_root_mean_squared_error: 0.3612\n",
            "Epoch 88/100\n",
            "9/9 [==============================] - 0s 10ms/step - loss: 0.1182 - root_mean_squared_error: 0.3438 - val_loss: 0.1303 - val_root_mean_squared_error: 0.3609\n",
            "Epoch 89/100\n",
            "9/9 [==============================] - 0s 19ms/step - loss: 0.1181 - root_mean_squared_error: 0.3437 - val_loss: 0.1304 - val_root_mean_squared_error: 0.3611\n",
            "Epoch 90/100\n",
            "9/9 [==============================] - 0s 11ms/step - loss: 0.1181 - root_mean_squared_error: 0.3436 - val_loss: 0.1302 - val_root_mean_squared_error: 0.3609\n",
            "Epoch 91/100\n",
            "9/9 [==============================] - 0s 12ms/step - loss: 0.1180 - root_mean_squared_error: 0.3435 - val_loss: 0.1303 - val_root_mean_squared_error: 0.3609\n",
            "Epoch 92/100\n",
            "9/9 [==============================] - 0s 17ms/step - loss: 0.1180 - root_mean_squared_error: 0.3435 - val_loss: 0.1304 - val_root_mean_squared_error: 0.3612\n",
            "Epoch 93/100\n",
            "9/9 [==============================] - 0s 15ms/step - loss: 0.1178 - root_mean_squared_error: 0.3433 - val_loss: 0.1305 - val_root_mean_squared_error: 0.3613\n",
            "Epoch 94/100\n",
            "9/9 [==============================] - 0s 11ms/step - loss: 0.1179 - root_mean_squared_error: 0.3433 - val_loss: 0.1307 - val_root_mean_squared_error: 0.3616\n",
            "Epoch 95/100\n",
            "9/9 [==============================] - 0s 10ms/step - loss: 0.1178 - root_mean_squared_error: 0.3432 - val_loss: 0.1308 - val_root_mean_squared_error: 0.3617\n",
            "Epoch 96/100\n",
            "9/9 [==============================] - 0s 10ms/step - loss: 0.1177 - root_mean_squared_error: 0.3430 - val_loss: 0.1306 - val_root_mean_squared_error: 0.3614\n",
            "Epoch 97/100\n",
            "9/9 [==============================] - 0s 13ms/step - loss: 0.1176 - root_mean_squared_error: 0.3430 - val_loss: 0.1303 - val_root_mean_squared_error: 0.3610\n",
            "Epoch 98/100\n",
            "9/9 [==============================] - 0s 17ms/step - loss: 0.1176 - root_mean_squared_error: 0.3429 - val_loss: 0.1302 - val_root_mean_squared_error: 0.3609\n",
            "Epoch 99/100\n",
            "9/9 [==============================] - 0s 11ms/step - loss: 0.1176 - root_mean_squared_error: 0.3430 - val_loss: 0.1306 - val_root_mean_squared_error: 0.3614\n",
            "Epoch 100/100\n",
            "9/9 [==============================] - 0s 11ms/step - loss: 0.1175 - root_mean_squared_error: 0.3428 - val_loss: 0.1307 - val_root_mean_squared_error: 0.3615\n"
          ]
        }
      ],
      "source": [
        "#Model\n",
        "concat = tf.keras.layers.Concatenate()([user_vec, place_vec])\n",
        "\n",
        "fc1 = tf.keras.layers.Dense(128, activation='relu')(concat)\n",
        "fc2 = tf.keras.layers.Dense(64, activation='relu')(fc1)\n",
        "fc3 = tf.keras.layers.Dense(16, activation='relu')(fc2)\n",
        "y = tf.keras.layers.Dense(1)(fc3)\n",
        "\n",
        "model = tf.keras.models.Model(inputs=[user_id_input, place_id_input], outputs=y)\n",
        "\n",
        "model.compile(optimizer = tf.keras.optimizers.SGD(learning_rate=0.001, momentum = 0.9),\n",
        "              loss = tf.losses.mean_squared_error,\n",
        "              metrics =[tf.keras.metrics.RootMeanSquaredError()]\n",
        ")\n",
        "\n",
        "history = model.fit(x = [x_train[:,0], x_train[:,1]],\n",
        "                    y = y_train,\n",
        "                    validation_data =([x_test[:,0], x_test[:,1]], y_test),\n",
        "                    epochs = 100,\n",
        "                    verbose=1)"
      ]
    },
    {
      "cell_type": "code",
      "source": [
        "model.summary()"
      ],
      "metadata": {
        "id": "tq734c9JsuPF",
        "outputId": "dd404075-0a34-47d6-cf9b-102320d2c50e",
        "colab": {
          "base_uri": "https://localhost:8080/"
        }
      },
      "execution_count": 26,
      "outputs": [
        {
          "output_type": "stream",
          "name": "stdout",
          "text": [
            "Model: \"model\"\n",
            "__________________________________________________________________________________________________\n",
            " Layer (type)                   Output Shape         Param #     Connected to                     \n",
            "==================================================================================================\n",
            " user_id_input (InputLayer)     [(None, 1)]          0           []                               \n",
            "                                                                                                  \n",
            " place_id_input (InputLayer)    [(None, 1)]          0           []                               \n",
            "                                                                                                  \n",
            " user_embedding (Embedding)     (None, 1, 10)        910         ['user_id_input[0][0]']          \n",
            "                                                                                                  \n",
            " place_embedding (Embedding)    (None, 1, 20)        540         ['place_id_input[0][0]']         \n",
            "                                                                                                  \n",
            " flatten-user (Flatten)         (None, 10)           0           ['user_embedding[0][0]']         \n",
            "                                                                                                  \n",
            " flatten-place (Flatten)        (None, 20)           0           ['place_embedding[0][0]']        \n",
            "                                                                                                  \n",
            " concatenate (Concatenate)      (None, 30)           0           ['flatten-user[0][0]',           \n",
            "                                                                  'flatten-place[0][0]']          \n",
            "                                                                                                  \n",
            " dense (Dense)                  (None, 128)          3968        ['concatenate[0][0]']            \n",
            "                                                                                                  \n",
            " dense_1 (Dense)                (None, 64)           8256        ['dense[0][0]']                  \n",
            "                                                                                                  \n",
            " dense_2 (Dense)                (None, 16)           1040        ['dense_1[0][0]']                \n",
            "                                                                                                  \n",
            " dense_3 (Dense)                (None, 1)            17          ['dense_2[0][0]']                \n",
            "                                                                                                  \n",
            "==================================================================================================\n",
            "Total params: 14,731\n",
            "Trainable params: 14,731\n",
            "Non-trainable params: 0\n",
            "__________________________________________________________________________________________________\n"
          ]
        }
      ]
    },
    {
      "cell_type": "code",
      "execution_count": 27,
      "metadata": {
        "id": "ZlHpPB58x1lw"
      },
      "outputs": [],
      "source": [
        "import tensorflow as tf\n",
        "from sklearn.metrics import mean_squared_error"
      ]
    },
    {
      "cell_type": "code",
      "execution_count": 28,
      "metadata": {
        "colab": {
          "base_uri": "https://localhost:8080/",
          "height": 489
        },
        "id": "Nw8QzK04x1lw",
        "outputId": "1acf3407-5b5d-4914-8e26-0132f8cea7e0"
      },
      "outputs": [
        {
          "output_type": "execute_result",
          "data": {
            "text/plain": [
              "<function matplotlib.pyplot.show(close=None, block=None)>"
            ]
          },
          "metadata": {},
          "execution_count": 28
        },
        {
          "output_type": "display_data",
          "data": {
            "text/plain": [
              "<Figure size 640x480 with 1 Axes>"
            ],
            "image/png": "[encoded data removed]"
          },
          "metadata": {}
        }
      ],
      "source": [
        "#showing the plot of residual\n",
        "plt.plot(history.history['root_mean_squared_error'])\n",
        "plt.plot(history.history['val_root_mean_squared_error'])\n",
        "plt.title('metrics of model')\n",
        "plt.ylabel('root_mean_squared_error')\n",
        "plt.xlabel('epoch')\n",
        "plt.ylim(ymin=0, ymax=1)\n",
        "plt.legend(['train','test'], loc='center left')\n",
        "plt.show"
      ]
    },
    {
      "cell_type": "code",
      "execution_count": 29,
      "metadata": {
        "colab": {
          "base_uri": "https://localhost:8080/"
        },
        "id": "QuuycOwox1lw",
        "outputId": "02c2b881-1158-4388-ac46-c21f04bde563"
      },
      "outputs": [
        {
          "output_type": "stream",
          "name": "stdout",
          "text": [
            "(23, 2)\n",
            "1/1 [==============================] - 0s 228ms/step\n"
          ]
        }
      ],
      "source": [
        "place_df = place[['id', 'name','tour_categories_id', 'score', 'price']]\n",
        "place_df.columns = ['id','place_name','category','rating','price']\n",
        "df=filtered_data.copy()\n",
        "\n",
        "user_id = df.user_id.sample(1).iloc[0]\n",
        "place_visited_by_user = df[df.user_id == user_id]\n",
        "\n",
        "place_not_visited = place_df[~place_df['id'].isin(place_visited_by_user.tourist_destination_id.values)]['id']\n",
        "place_not_visited = list(\n",
        "    set(place_not_visited)\n",
        "    .intersection(set(place_to_place_encoded.keys()))\n",
        ")\n",
        "\n",
        "place_not_visited = [[place_to_place_encoded.get(x)] for x in place_not_visited]\n",
        "user_encoder = user_to_user_encoded.get(user_id)\n",
        "user_place_array = np.hstack(\n",
        "    ([[user_encoder]] * len(place_not_visited), place_not_visited)\n",
        ")\n",
        "\n",
        "print(user_place_array.shape)\n",
        "ratings= model.predict([user_place_array[:,0], user_place_array[:,1]]).flatten()"
      ]
    },
    {
      "cell_type": "code",
      "execution_count": 30,
      "metadata": {
        "colab": {
          "base_uri": "https://localhost:8080/"
        },
        "id": "3lo6OnlCx1lw",
        "outputId": "036472ee-06a9-44a4-f680-e15c557bb89b"
      },
      "outputs": [
        {
          "output_type": "stream",
          "name": "stdout",
          "text": [
            "[416, 421, 398, 395, 414, 429, 433, 430, 431, 407, 405]\n"
          ]
        }
      ],
      "source": [
        "top_ratings_indices = ratings.argsort()[-11:][::-1]\n",
        "recommended_place_ids = [\n",
        "    place_encoded_to_place.get(place_not_visited[x][0]) for x in top_ratings_indices\n",
        "]\n",
        "recommended_place_ids = list(recommended_place_ids)\n",
        "print(recommended_place_ids)"
      ]
    },
    {
      "cell_type": "code",
      "execution_count": 31,
      "metadata": {
        "colab": {
          "base_uri": "https://localhost:8080/"
        },
        "id": "2HV8Cr0ux1lw",
        "outputId": "2f30f4d4-eefe-4da6-fb3e-733dab11483e"
      },
      "outputs": [
        {
          "output_type": "stream",
          "name": "stdout",
          "text": [
            "Daftar rekomendasi untuk: User 255\n",
            "============================================= \n",
            "\n",
            "------------------------------------------------------------\n",
            "Tempat dengan rating wisata paling tinggi dari user\n",
            "------------------------------------------------------------\n",
            "Taman Harmoni Keputih : 1\n",
            "Patung Sura dan Buaya : 3\n",
            "Patung Buddha Empat Rupa : 3\n",
            "\n",
            "------------------------------------------------------------\n",
            "Top 10 place recommendation\n",
            "------------------------------------------------------------\n",
            "1 . Taman Prestasi \n",
            "     2 , Harga Tiket Masuk  0 , Rating Wisata  4.6 \n",
            "\n",
            "2 . Taman Buah Surabaya \n",
            "     2 , Harga Tiket Masuk  0 , Rating Wisata  4.1 \n",
            "\n",
            "3 . Surabaya North Quay \n",
            "     2 , Harga Tiket Masuk  50000 , Rating Wisata  4.4 \n",
            "\n",
            "4 . Taman Ekspresi Dan Perpustakaan \n",
            "     2 , Harga Tiket Masuk  0 , Rating Wisata  4.5 \n",
            "\n",
            "5 . Jembatan Merah \n",
            "     3 , Harga Tiket Masuk  0 , Rating Wisata  4.5 \n",
            "\n",
            "6 . Keraton Surabaya \n",
            "     3 , Harga Tiket Masuk  0 , Rating Wisata  4.4 \n",
            "\n",
            "7 . Museum Kesehatan Dr. Adhyatma \n",
            "     3 , Harga Tiket Masuk  10000 , Rating Wisata  4.4 \n",
            "\n",
            "8 . House of Sampoerna \n",
            "     3 , Harga Tiket Masuk  0 , Rating Wisata  4.6 \n",
            "\n",
            "9 . Atlantis Land Surabaya \n",
            "     2 , Harga Tiket Masuk  125000 , Rating Wisata  4.4 \n",
            "\n",
            "10 . 2 Rakyat \n",
            "     2 , Harga Tiket Masuk  5000 , Rating Wisata  4.2 \n",
            "\n",
            "=============================================\n",
            "{\n",
            "    \"data\": [\n",
            "        {\n",
            "            \"nama\": \"Taman Prestasi\",\n",
            "            \"harga\": 0,\n",
            "            \"rating\": 4.6\n",
            "        },\n",
            "        {\n",
            "            \"nama\": \"Taman Buah Surabaya\",\n",
            "            \"harga\": 0,\n",
            "            \"rating\": 4.1\n",
            "        },\n",
            "        {\n",
            "            \"nama\": \"Surabaya North Quay\",\n",
            "            \"harga\": 50000,\n",
            "            \"rating\": 4.4\n",
            "        },\n",
            "        {\n",
            "            \"nama\": \"Taman Ekspresi Dan Perpustakaan\",\n",
            "            \"harga\": 0,\n",
            "            \"rating\": 4.5\n",
            "        },\n",
            "        {\n",
            "            \"nama\": \"Jembatan Merah\",\n",
            "            \"harga\": 0,\n",
            "            \"rating\": 4.5\n",
            "        },\n",
            "        {\n",
            "            \"nama\": \"Keraton Surabaya\",\n",
            "            \"harga\": 0,\n",
            "            \"rating\": 4.4\n",
            "        },\n",
            "        {\n",
            "            \"nama\": \"Museum Kesehatan Dr. Adhyatma\",\n",
            "            \"harga\": 10000,\n",
            "            \"rating\": 4.4\n",
            "        },\n",
            "        {\n",
            "            \"nama\": \"House of Sampoerna\",\n",
            "            \"harga\": 0,\n",
            "            \"rating\": 4.6\n",
            "        },\n",
            "        {\n",
            "            \"nama\": \"Atlantis Land Surabaya\",\n",
            "            \"harga\": 125000,\n",
            "            \"rating\": 4.4\n",
            "        },\n",
            "        {\n",
            "            \"nama\": \"2 Rakyat\",\n",
            "            \"harga\": 5000,\n",
            "            \"rating\": 4.2\n",
            "        }\n",
            "    ]\n",
            "}\n"
          ]
        }
      ],
      "source": [
        "print('Daftar rekomendasi untuk: {}'.format('User ' + str(user_id)))\n",
        "print('===' * 15,'\\n')\n",
        "print('----' * 15)\n",
        "print('Tempat dengan rating wisata paling tinggi dari user')\n",
        "print('----' * 15)\n",
        "\n",
        "top_place_user = (\n",
        "    place_visited_by_user.sort_values(\n",
        "        by = 'score',\n",
        "        ascending=False\n",
        "    )\n",
        "    .head(5)\n",
        "    .tourist_destination_id.values\n",
        ")\n",
        "\n",
        "place_df_rows = place_df[place_df['id'].isin(top_place_user)]\n",
        "for row in place_df_rows.itertuples():\n",
        "    print(row.place_name, ':', row.category)\n",
        "\n",
        "print('')\n",
        "print('----' * 15)\n",
        "print('Top 10 place recommendation')\n",
        "print('----' * 15)\n",
        "\n",
        "recommended_place = place_df[place_df['id'].isin(recommended_place_ids)]\n",
        "for row, i in zip(recommended_place.itertuples(), range(1,11)):\n",
        "    print(i,'.', row.place_name, '\\n    ', row.category, ',', 'Harga Tiket Masuk ', row.price, ',', 'Rating Wisata ', row.rating,'\\n')\n",
        "\n",
        "print('==='*15)\n",
        "\n",
        "jsonData = []\n",
        "for row, i in zip(recommended_place.itertuples(), range(1,11)):\n",
        "  jsonData.append({\n",
        "      \"nama\": row.place_name,\n",
        "      \"harga\": row.price,\n",
        "      \"rating\": row.rating\n",
        "  })\n",
        "\n",
        "finalJsonData = {\n",
        "    \"data\": jsonData\n",
        "}\n",
        "y = json.dumps(finalJsonData, indent=4)\n",
        "print(y)\n"
      ]
    },
    {
      "cell_type": "code",
      "execution_count": 32,
      "metadata": {
        "id": "-nQ-bL66L9rD"
      },
      "outputs": [],
      "source": [
        "#Deploy"
      ]
    },
    {
      "cell_type": "code",
      "execution_count": 33,
      "metadata": {
        "colab": {
          "base_uri": "https://localhost:8080/"
        },
        "id": "GCRKjxEML9rE",
        "outputId": "8c91c831-deb6-4aba-ca60-541db5980b2b"
      },
      "outputs": [
        {
          "output_type": "stream",
          "name": "stderr",
          "text": [
            "WARNING:absl:Found untraced functions such as _update_step_xla while saving (showing 1 of 1). These functions will not be directly callable after loading.\n"
          ]
        }
      ],
      "source": [
        "saved_model='saved_model/1'\n",
        "tf.saved_model.save(model, export_dir=saved_model)"
      ]
    },
    {
      "cell_type": "code",
      "execution_count": 34,
      "metadata": {
        "id": "RLo6Fo97L9rE"
      },
      "outputs": [],
      "source": [
        "#Select mode of optimization\n",
        "mode=\"Speed\"\n",
        "if mode == 'Storage':\n",
        "    optimization = tf.lite.Optimize.OPTIMIZE_FOR_SIZE\n",
        "else:\n",
        "    optimization = tf.lite.Optimize.DEFAULT"
      ]
    },
    {
      "cell_type": "code",
      "execution_count": 35,
      "metadata": {
        "id": "oqUKn8cIL9rE"
      },
      "outputs": [],
      "source": [
        "converter = tf.lite.TFLiteConverter.from_saved_model(saved_model)\n",
        "converter.optimizations=[optimization]\n",
        "tflite_model=converter.convert();"
      ]
    },
    {
      "cell_type": "code",
      "execution_count": 36,
      "metadata": {
        "id": "ZGuxDGO0L9rE"
      },
      "outputs": [],
      "source": [
        "import pathlib"
      ]
    },
    {
      "cell_type": "code",
      "execution_count": 37,
      "metadata": {
        "colab": {
          "base_uri": "https://localhost:8080/"
        },
        "id": "cO2E7AM-L9rE",
        "outputId": "cb108f00-e449-410e-de8a-b797517c3008"
      },
      "outputs": [
        {
          "output_type": "execute_result",
          "data": {
            "text/plain": [
              "23896"
            ]
          },
          "metadata": {},
          "execution_count": 37
        }
      ],
      "source": [
        "tflite_model_file = pathlib.Path('./model.tflite')\n",
        "tflite_model_file.write_bytes(tflite_model)\n"
      ]
    },
    {
      "cell_type": "code",
      "source": [
        "import joblib\n",
        "\n",
        "joblib.dump(modelc, \"model.joblib\")\n"
      ],
      "metadata": {
        "id": "Jlh2mVhnMXAT",
        "outputId": "db0ddfc9-11e5-412b-ee0e-375aa2c1a7f8",
        "colab": {
          "base_uri": "https://localhost:8080/"
        }
      },
      "execution_count": 38,
      "outputs": [
        {
          "output_type": "execute_result",
          "data": {
            "text/plain": [
              "['model.joblib']"
            ]
          },
          "metadata": {},
          "execution_count": 38
        }
      ]
    }
  ],
  "metadata": {
    "colab": {
      "provenance": []
    },
    "kernelspec": {
      "display_name": "Python 3 (ipykernel)",
      "language": "python",
      "name": "python3"
    },
    "language_info": {
      "codemirror_mode": {
        "name": "ipython",
        "version": 3
      },
      "file_extension": ".py",
      "mimetype": "text/x-python",
      "name": "python",
      "nbconvert_exporter": "python",
      "pygments_lexer": "ipython3",
      "version": "3.10.9"
    }
  },
  "nbformat": 4,
  "nbformat_minor": 0
}