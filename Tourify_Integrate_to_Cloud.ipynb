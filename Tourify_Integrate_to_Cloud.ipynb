{
  "cells": [
    {
      "cell_type": "markdown",
      "metadata": {
        "id": "XCgnRTLqYofh"
      },
      "source": [
        "#Collecting Data"
      ]
    },
    {
      "cell_type": "markdown",
      "metadata": {
        "id": "o0Gvzsn6YxR-"
      },
      "source": [
        "Data ini diambil dari kaggle https://www.kaggle.com/datasets/aprabowo/indonesia-tourism-destination"
      ]
    },
    {
      "cell_type": "markdown",
      "metadata": {
        "id": "7tWODqZdY9P3"
      },
      "source": [
        "#Preparing Dataset"
      ]
    },
    {
      "cell_type": "markdown",
      "metadata": {
        "id": "HMQuvkNOZEYK"
      },
      "source": [
        "1. Importing necessary library\n",
        "2. Filtering dataset (surabaya only)\n",
        "3. Cleaning unnecessary variable\n",
        "4. Exploratory data analysis"
      ]
    },
    {
      "cell_type": "markdown",
      "metadata": {
        "id": "tFMvkJTEZd93"
      },
      "source": [
        "#Importing necessary library\n"
      ]
    },
    {
      "cell_type": "code",
      "execution_count": 1,
      "metadata": {
        "id": "sAt5nK6gZiih"
      },
      "outputs": [],
      "source": [
        "import csv\n",
        "import numpy as np\n",
        "import pandas as pd\n",
        "import matplotlib.pyplot as plt\n",
        "import seaborn as sns\n",
        "import requests\n",
        "import random\n",
        "import json"
      ]
    },
    {
      "cell_type": "markdown",
      "metadata": {
        "id": "AnSeT4abaJJI"
      },
      "source": [
        "#Filtering Dataset (Surabaya Only)"
      ]
    },
    {
      "cell_type": "code",
      "execution_count": 2,
      "metadata": {
        "colab": {
          "base_uri": "https://localhost:8080/"
        },
        "id": "VhHzfRAlx1lp",
        "outputId": "b01ff984-fca4-4cad-c0e3-0f67852f7282"
      },
      "outputs": [
        {
          "output_type": "stream",
          "name": "stdout",
          "text": [
            "   id                      tour_category_id                            name  \\\n",
            "0   1  8c359fa2-d576-44f4-a2d3-ed9e6574bc63                   Kenjeran Park   \n",
            "1   2  e13348f5-233e-44df-9c55-a821cd969b52            Taman Hiburan Rakyat   \n",
            "2   3  e1004438-0b73-4c9e-8b64-5f36285c711c  Surabaya Museum (Gedung Siola)   \n",
            "3   4  7890e53f-bece-438f-a82a-32a067faf8fb               Air Mancur Menari   \n",
            "4   5  e13348f5-233e-44df-9c55-a821cd969b52             Balai Kota Surabaya   \n",
            "\n",
            "  phone email  price                                        description  \\\n",
            "0              35000  Kenjeran Park merupakan salah satu tempat wisa...   \n",
            "1               5000  Taman Hiburan Rakyat atau THR tentunya sudah t...   \n",
            "2                  0  Saat ini Museum Surabaya Siola menjelma menjad...   \n",
            "3              35000  Jembatan Kenjeran dengan air mancur menarinya ...   \n",
            "4                  0  Surabaya sebagai Resort Gemeente (Haminte) sec...   \n",
            "\n",
            "          address longitude  latitude  ... day_open_end time_open_start  \\\n",
            "0  Surabaya Utara    61.085  -145.783  ...          Sun           08.00   \n",
            "1  Surabaya Utara   117.909    60.196  ...          Sun           08.00   \n",
            "2  Surabaya Pusat  -121.856    36.959  ...          Sun           08.00   \n",
            "3  Surabaya Utara       121    32.082  ...          Sun           08.00   \n",
            "4  Surabaya Pusat    96.947   112.078  ...          Sun           08.00   \n",
            "\n",
            "  time_open_end                                            picture  \\\n",
            "0         16.00  https://tourism.surabaya.go.id/storage/tour/16...   \n",
            "1         16.00                                                      \n",
            "2         16.00                                                      \n",
            "3         16.00                                                      \n",
            "4         16.00                                                      \n",
            "\n",
            "                                user_id                 createdAt  \\\n",
            "0  a73naa79-18w8-4c89-8003-71yhs88293e3  2023-06-16T09:26:22.000Z   \n",
            "1  a73naa79-18w8-4c89-8003-43330b1a99o3  2023-06-16T09:26:22.000Z   \n",
            "2  a73naa79-18w8-4c89-8003-71yhs88293e3  2023-06-16T09:26:22.000Z   \n",
            "3  bd4faa79-04b8-1827-8003-28817b1a9fc2  2023-06-16T09:26:22.000Z   \n",
            "4  bd4faa79-04b8-1827-8003-28817b1a9fc2  2023-06-16T09:26:22.000Z   \n",
            "\n",
            "                  updatedAt rating_score  \\\n",
            "0  2023-06-16T09:26:22.000Z            3   \n",
            "1  2023-06-16T09:26:22.000Z            5   \n",
            "2  2023-06-16T09:26:22.000Z            4   \n",
            "3  2023-06-16T09:26:22.000Z            0   \n",
            "4  2023-06-16T09:26:22.000Z            1   \n",
            "\n",
            "                                        TourCategory  \\\n",
            "0  {'id': '8c359fa2-d576-44f4-a2d3-ed9e6574bc63',...   \n",
            "1  {'id': 'e13348f5-233e-44df-9c55-a821cd969b52',...   \n",
            "2  {'id': 'e1004438-0b73-4c9e-8b64-5f36285c711c',...   \n",
            "3  {'id': '7890e53f-bece-438f-a82a-32a067faf8fb',...   \n",
            "4  {'id': 'e13348f5-233e-44df-9c55-a821cd969b52',...   \n",
            "\n",
            "                                                User  \n",
            "0  {'id': 'a73naa79-18w8-4c89-8003-71yhs88293e3',...  \n",
            "1  {'id': 'a73naa79-18w8-4c89-8003-43330b1a99o3',...  \n",
            "2  {'id': 'a73naa79-18w8-4c89-8003-71yhs88293e3',...  \n",
            "3  {'id': 'bd4faa79-04b8-1827-8003-28817b1a9fc2',...  \n",
            "4  {'id': 'bd4faa79-04b8-1827-8003-28817b1a9fc2',...  \n",
            "\n",
            "[5 rows x 21 columns]\n"
          ]
        }
      ],
      "source": [
        "# #importing dataset from api\n",
        "# getPlace = requests.get(\"https://newapi.thisiswasyrof.works/v1/master/get-tour-destination\").json()\n",
        "# getRating = requests.get(\"https://newapi.thisiswasyrof.works/v1/master/get-ratings\").json()\n",
        "\n",
        "# place = pd.json_normalize(getPlace['data'])\n",
        "#place = pd.read_csv(\"https://thisiswasyrof.works/file/data_wisata.csv\", delimiter=';')\n",
        "#rating = pd.read_csv(\"https://thisiswasyrof.works/file/new_rating.csv\")\n",
        "\n",
        "place = requests.get('http://34.173.0.159:3000/v1/master/get-tour-destination').json()\n",
        "place = pd.DataFrame(place['data'])\n",
        "rating = requests.get('http://34.173.0.159:3000/v1/master/get-ratings').json()\n",
        "rating = pd.DataFrame(rating['data'])\n",
        "\n",
        "# rating = pd.json_normalize(getRating['data'])\n",
        "\n",
        "print(place.head())\n"
      ]
    },
    {
      "cell_type": "code",
      "execution_count": 3,
      "metadata": {
        "colab": {
          "base_uri": "https://localhost:8080/"
        },
        "id": "DNTDbPGJyIuq",
        "outputId": "ec7134cb-6b47-43ec-ac16-dee2063fe6dc"
      },
      "outputs": [
        {
          "output_type": "stream",
          "name": "stdout",
          "text": [
            "   id                               user_id  tourist_destination_id  score  \\\n",
            "0   1  a73naa79-18w8-4c89-8003-43330b1a99o3                      18      2   \n",
            "1   2  bd4faa79-04b8-4c89-8003-43330b1a9fc2                       5      1   \n",
            "2   3  a73n89sa-18w8-4c89-8003-43330b1a99o3                      21      2   \n",
            "3   4  a73naa79-18w8-4c89-8003-43330b1a99o3                      14      1   \n",
            "4   5  bd4faa79-04b8-4c89-8003-43330b1a9fc2                       8      0   \n",
            "\n",
            "                       review                 createdAt  \\\n",
            "0  Lorem ipsum dolor sit amet  2023-06-16T09:26:22.000Z   \n",
            "1  Lorem ipsum dolor sit amet  2023-06-16T09:26:22.000Z   \n",
            "2  Lorem ipsum dolor sit amet  2023-06-16T09:26:22.000Z   \n",
            "3  Lorem ipsum dolor sit amet  2023-06-16T09:26:22.000Z   \n",
            "4  Lorem ipsum dolor sit amet  2023-06-16T09:26:22.000Z   \n",
            "\n",
            "                  updatedAt  \n",
            "0  2023-06-16T09:26:22.000Z  \n",
            "1  2023-06-16T09:26:22.000Z  \n",
            "2  2023-06-16T09:26:22.000Z  \n",
            "3  2023-06-16T09:26:22.000Z  \n",
            "4  2023-06-16T09:26:22.000Z  \n"
          ]
        }
      ],
      "source": [
        "print(rating.head())"
      ]
    },
    {
      "cell_type": "code",
      "source": [
        "place.info()"
      ],
      "metadata": {
        "id": "IAGa_-aOkBP_",
        "outputId": "cd9e445f-46c7-447a-84d0-90f989ba5460",
        "colab": {
          "base_uri": "https://localhost:8080/"
        }
      },
      "execution_count": 4,
      "outputs": [
        {
          "output_type": "stream",
          "name": "stdout",
          "text": [
            "<class 'pandas.core.frame.DataFrame'>\n",
            "RangeIndex: 36 entries, 0 to 35\n",
            "Data columns (total 21 columns):\n",
            " #   Column            Non-Null Count  Dtype \n",
            "---  ------            --------------  ----- \n",
            " 0   id                36 non-null     int64 \n",
            " 1   tour_category_id  36 non-null     object\n",
            " 2   name              36 non-null     object\n",
            " 3   phone             36 non-null     object\n",
            " 4   email             36 non-null     object\n",
            " 5   price             36 non-null     object\n",
            " 6   description       36 non-null     object\n",
            " 7   address           36 non-null     object\n",
            " 8   longitude         36 non-null     object\n",
            " 9   latitude          36 non-null     object\n",
            " 10  day_open_start    36 non-null     object\n",
            " 11  day_open_end      36 non-null     object\n",
            " 12  time_open_start   36 non-null     object\n",
            " 13  time_open_end     36 non-null     object\n",
            " 14  picture           36 non-null     object\n",
            " 15  user_id           36 non-null     object\n",
            " 16  createdAt         36 non-null     object\n",
            " 17  updatedAt         36 non-null     object\n",
            " 18  rating_score      36 non-null     int64 \n",
            " 19  TourCategory      36 non-null     object\n",
            " 20  User              36 non-null     object\n",
            "dtypes: int64(2), object(19)\n",
            "memory usage: 6.0+ KB\n"
          ]
        }
      ]
    },
    {
      "cell_type": "code",
      "source": [
        "rating.info()"
      ],
      "metadata": {
        "colab": {
          "base_uri": "https://localhost:8080/"
        },
        "id": "JGZSryt4nzWW",
        "outputId": "d948d3ef-271f-4b06-eb10-a85668963a19"
      },
      "execution_count": 5,
      "outputs": [
        {
          "output_type": "stream",
          "name": "stdout",
          "text": [
            "<class 'pandas.core.frame.DataFrame'>\n",
            "RangeIndex: 5001 entries, 0 to 5000\n",
            "Data columns (total 7 columns):\n",
            " #   Column                  Non-Null Count  Dtype \n",
            "---  ------                  --------------  ----- \n",
            " 0   id                      5001 non-null   int64 \n",
            " 1   user_id                 5001 non-null   object\n",
            " 2   tourist_destination_id  5001 non-null   int64 \n",
            " 3   score                   5001 non-null   int64 \n",
            " 4   review                  5001 non-null   object\n",
            " 5   createdAt               5001 non-null   object\n",
            " 6   updatedAt               5001 non-null   object\n",
            "dtypes: int64(3), object(4)\n",
            "memory usage: 273.6+ KB\n"
          ]
        }
      ]
    },
    {
      "cell_type": "markdown",
      "metadata": {
        "id": "jFOq2h-CeruG"
      },
      "source": [
        "#Explanatory data analysis"
      ]
    },
    {
      "cell_type": "code",
      "execution_count": 6,
      "metadata": {
        "colab": {
          "base_uri": "https://localhost:8080/"
        },
        "id": "SLQKEO1iexXZ",
        "outputId": "869c8250-3882-4cd1-dda8-c2f12de0c5fe"
      },
      "outputs": [
        {
          "output_type": "stream",
          "name": "stdout",
          "text": [
            "    index  tourist_destination_id  id                              name\n",
            "0      17                     172  17      Taman Flora Bratang Surabaya\n",
            "1      34                     166  34                  Taman Barunawati\n",
            "2      35                     165  35               Hutan Bambu Keputih\n",
            "3      36                     156  36               Taman Kunang-Kunang\n",
            "4      27                     154  27                    Taman Prestasi\n",
            "5      26                     153  26       Food Junction Grand Pakuwon\n",
            "6       3                     151   3    Surabaya Museum (Gedung Siola)\n",
            "7      10                     150  10     Museum Kesehatan Dr. Adhyatma\n",
            "8       5                     147   5               Balai Kota Surabaya\n",
            "9      22                     144  22  Taman Air Mancur Menari Kenjeran\n",
            "10     25                     143  25          Masjid Cheng Ho Surabaya\n",
            "11     29                     143  29    Monumen Bambu Runcing Surabaya\n",
            "12      7                     142   7             Taman Harmoni Keputih\n",
            "13     21                     142  21               Monumen Kapal Selam\n",
            "14     31                     140  31               Surabaya North Quay\n"
          ]
        }
      ],
      "source": [
        "top_15 = rating['tourist_destination_id'].value_counts().reset_index()[0:15]\n",
        "top_15 = pd.merge(top_15, place[['id', 'name']], how='left', left_on='index', right_on='id')\n",
        "print(top_15)"
      ]
    },
    {
      "cell_type": "code",
      "execution_count": 7,
      "metadata": {
        "colab": {
          "base_uri": "https://localhost:8080/",
          "height": 674
        },
        "id": "4cxQ5yYQfkpT",
        "outputId": "509309f7-4d68-4a93-cf34-3001067ed660"
      },
      "outputs": [
        {
          "output_type": "display_data",
          "data": {
            "text/plain": [
              "<Figure size 1000x700 with 1 Axes>"
            ],
            "image/png": "[encoded data removed]"
          },
          "metadata": {}
        }
      ],
      "source": [
        "#Displaying the plot\n",
        "plt.figure(figsize=(10, 7))\n",
        "sns.barplot(x='tourist_destination_id', y='name', data=top_15)\n",
        "plt.title('Daftar Tempat Wisata dengan Jumlah Rating Terbanyak', pad=30)\n",
        "plt.xlabel('Jumlah Rating')\n",
        "plt.ylabel('Tempat Wisata')\n",
        "plt.show()"
      ]
    },
    {
      "cell_type": "code",
      "execution_count": 8,
      "metadata": {
        "id": "ArflLyV4f4cP"
      },
      "outputs": [],
      "source": [
        "#Displaying the comparison of the destination categories in the Surabaya\n",
        "#sns.countplot(y='tour_categories_id', data=place)\n",
        "#plt.title('Perbandingan Kategori Tempat Wisata di Kota Surabaya')\n",
        "#plt.show()"
      ]
    },
    {
      "cell_type": "markdown",
      "metadata": {
        "id": "Oi7autwLTHif"
      },
      "source": []
    },
    {
      "cell_type": "markdown",
      "metadata": {
        "id": "Z9kk9cqBTLhY"
      },
      "source": [
        "\n",
        "# Modelling Content Based Filtering"
      ]
    },
    {
      "cell_type": "code",
      "execution_count": 9,
      "metadata": {
        "id": "46rkuNvmTTd1"
      },
      "outputs": [],
      "source": [
        "from sklearn.feature_extraction.text import TfidfVectorizer\n",
        "from sklearn.metrics.pairwise import linear_kernel"
      ]
    },
    {
      "cell_type": "code",
      "execution_count": 10,
      "metadata": {
        "colab": {
          "base_uri": "https://localhost:8080/"
        },
        "id": "SyYaFXjFTggf",
        "outputId": "16e511a7-2650-4267-de26-f85b5d419b30"
      },
      "outputs": [
        {
          "output_type": "execute_result",
          "data": {
            "text/plain": [
              "(36, 1353)"
            ]
          },
          "metadata": {},
          "execution_count": 10
        }
      ],
      "source": [
        "td = TfidfVectorizer(stop_words='english')\n",
        "tfidf_matrix = td.fit_transform(place['description'])\n",
        "tfidf_matrix.shape"
      ]
    },
    {
      "cell_type": "code",
      "execution_count": 11,
      "metadata": {
        "colab": {
          "base_uri": "https://localhost:8080/"
        },
        "id": "2igqK11PTkB4",
        "outputId": "230d498d-c055-409a-ceb0-9ea4444f5e0a"
      },
      "outputs": [
        {
          "output_type": "execute_result",
          "data": {
            "text/plain": [
              "array([[1.        , 0.05172548, 0.13267492, ..., 0.16167096, 0.14430957,\n",
              "        0.06407432],\n",
              "       [0.05172548, 1.        , 0.08673272, ..., 0.19315903, 0.09941906,\n",
              "        0.12934845],\n",
              "       [0.13267492, 0.08673272, 1.        , ..., 0.17301347, 0.09550717,\n",
              "        0.08424167],\n",
              "       ...,\n",
              "       [0.16167096, 0.19315903, 0.17301347, ..., 1.        , 0.23843206,\n",
              "        0.13771358],\n",
              "       [0.14430957, 0.09941906, 0.09550717, ..., 0.23843206, 1.        ,\n",
              "        0.08271473],\n",
              "       [0.06407432, 0.12934845, 0.08424167, ..., 0.13771358, 0.08271473,\n",
              "        1.        ]])"
            ]
          },
          "metadata": {},
          "execution_count": 11
        }
      ],
      "source": [
        "#Computing the cosine similarity matrix\n",
        "cosine_sim = linear_kernel(tfidf_matrix, tfidf_matrix)\n",
        "cosine_sim"
      ]
    },
    {
      "cell_type": "code",
      "execution_count": 12,
      "metadata": {
        "id": "6Wksf6XkTyDt"
      },
      "outputs": [],
      "source": [
        "#Construct a reverse map of indices and movie title\n",
        "indicate = pd.Series(place.index, index=place['name']).drop_duplicates()"
      ]
    },
    {
      "cell_type": "code",
      "execution_count": 13,
      "metadata": {
        "id": "VEADdzBmVILX"
      },
      "outputs": [],
      "source": [
        "#Function that takes in place name as input and outputs most similar destination\n",
        "def recommendation(Place_name, cosine_sim=cosine_sim):\n",
        "  idx = indicate[Place_name]\n",
        "  sim_scores = list(enumerate(cosine_sim[idx]))\n",
        "  sim_scores = sorted(sim_scores, key=lambda x: x[1], reverse=True)\n",
        "  sim_scores = sim_scores[1:11]\n",
        "  destination_indicate = [i[0] for i in sim_scores]\n",
        "  return place['name'].iloc[destination_indicate]"
      ]
    },
    {
      "cell_type": "code",
      "execution_count": 14,
      "metadata": {
        "colab": {
          "base_uri": "https://localhost:8080/"
        },
        "id": "PhkXl6FqVMJR",
        "outputId": "ee86b898-5231-4467-8415-b89265835beb"
      },
      "outputs": [
        {
          "output_type": "stream",
          "name": "stdout",
          "text": [
            "Taman Harmoni Keputih\n"
          ]
        }
      ],
      "source": [
        "#randoming place\n",
        "placeName = random.choice(place['name'])\n",
        "print(placeName)\n",
        "# Giving destination recomendation from place that input from user\n",
        "modelc=recommendation(placeName)"
      ]
    },
    {
      "cell_type": "code",
      "execution_count": 15,
      "metadata": {
        "colab": {
          "base_uri": "https://localhost:8080/"
        },
        "id": "tec3WC56L9q8",
        "outputId": "68baf693-8557-4058-dcda-ab4268ef8c51"
      },
      "outputs": [
        {
          "output_type": "execute_result",
          "data": {
            "text/plain": [
              "16      Taman Flora Bratang Surabaya\n",
              "33                  Taman Barunawati\n",
              "15               Taman Buah Surabaya\n",
              "19                       Taman Mundu\n",
              "7                      Taman Bungkul\n",
              "2     Surabaya Museum (Gedung Siola)\n",
              "32                     Taman Pelangi\n",
              "26                    Taman Prestasi\n",
              "1               Taman Hiburan Rakyat\n",
              "30               Surabaya North Quay\n",
              "Name: name, dtype: object"
            ]
          },
          "metadata": {},
          "execution_count": 15
        }
      ],
      "source": [
        "modelc"
      ]
    },
    {
      "cell_type": "markdown",
      "metadata": {
        "id": "CBSiPjoAYnBY"
      },
      "source": [
        "\n",
        "# Collaborative Based Filtering\n"
      ]
    },
    {
      "cell_type": "code",
      "execution_count": 16,
      "metadata": {
        "id": "8fYLm8uax1lt"
      },
      "outputs": [],
      "source": [
        "import tensorflow as tf\n",
        "from tensorflow import keras\n",
        "from keras import optimizers"
      ]
    },
    {
      "cell_type": "code",
      "execution_count": 17,
      "metadata": {
        "colab": {
          "base_uri": "https://localhost:8080/"
        },
        "id": "K383NFuPY_QR",
        "outputId": "9c3fe1d6-69d1-49df-fda5-b2ec8ecbc16e"
      },
      "outputs": [
        {
          "output_type": "stream",
          "name": "stdout",
          "text": [
            "(5001, 7)\n",
            "(5001, 7)\n",
            "        id                               user_id  tourist_destination_id  \\\n",
            "0        1  a73naa79-18w8-4c89-8003-43330b1a99o3                      18   \n",
            "1        2  bd4faa79-04b8-4c89-8003-43330b1a9fc2                       5   \n",
            "2        3  a73n89sa-18w8-4c89-8003-43330b1a99o3                      21   \n",
            "3        4  a73naa79-18w8-4c89-8003-43330b1a99o3                      14   \n",
            "4        5  bd4faa79-04b8-4c89-8003-43330b1a9fc2                       8   \n",
            "...    ...                                   ...                     ...   \n",
            "4996  4997  a73naa79-18w8-4c89-8003-71yhs88293e3                      11   \n",
            "4997  4998  bd4faa79-04b8-4c89-8003-43330b1a9fc2                      31   \n",
            "4998  4999  bd4faa79-04b8-4c89-8003-772ujhu27717                      33   \n",
            "4999  5000  a73naa79-18w8-4c89-8003-71yhs88293e3                       9   \n",
            "5000  5001  bd4faa79-04b8-1827-8003-28817b1a9fc2                      25   \n",
            "\n",
            "      score                      review                 createdAt  \\\n",
            "0         2  Lorem ipsum dolor sit amet  2023-06-16T09:26:22.000Z   \n",
            "1         1  Lorem ipsum dolor sit amet  2023-06-16T09:26:22.000Z   \n",
            "2         2  Lorem ipsum dolor sit amet  2023-06-16T09:26:22.000Z   \n",
            "3         1  Lorem ipsum dolor sit amet  2023-06-16T09:26:22.000Z   \n",
            "4         0  Lorem ipsum dolor sit amet  2023-06-16T09:26:22.000Z   \n",
            "...     ...                         ...                       ...   \n",
            "4996      0  Lorem ipsum dolor sit amet  2023-06-16T09:26:22.000Z   \n",
            "4997      0  Lorem ipsum dolor sit amet  2023-06-16T09:26:22.000Z   \n",
            "4998      0  Lorem ipsum dolor sit amet  2023-06-16T09:26:22.000Z   \n",
            "4999      2  Lorem ipsum dolor sit amet  2023-06-16T09:26:22.000Z   \n",
            "5000      1  Lorem ipsum dolor sit amet  2023-06-16T09:26:22.000Z   \n",
            "\n",
            "                     updatedAt  \n",
            "0     2023-06-16T09:26:22.000Z  \n",
            "1     2023-06-16T09:26:22.000Z  \n",
            "2     2023-06-16T09:26:22.000Z  \n",
            "3     2023-06-16T09:26:22.000Z  \n",
            "4     2023-06-16T09:26:22.000Z  \n",
            "...                        ...  \n",
            "4996  2023-06-16T09:26:22.000Z  \n",
            "4997  2023-06-16T09:26:22.000Z  \n",
            "4998  2023-06-16T09:26:22.000Z  \n",
            "4999  2023-06-16T09:26:22.000Z  \n",
            "5000  2023-06-16T09:26:22.000Z  \n",
            "\n",
            "[5001 rows x 7 columns]\n"
          ]
        }
      ],
      "source": [
        "#Filtering data\n",
        "min_place_rating = 20\n",
        "filter_place = (rating[\"tourist_destination_id\"].value_counts()>min_place_rating)\n",
        "filter_place = filter_place[filter_place].index.tolist()\n",
        "\n",
        "min_user_rating =3\n",
        "filter_user = (rating[\"user_id\"].value_counts()>min_user_rating)\n",
        "filter_user = filter_user[filter_user].index.tolist()\n",
        "\n",
        "filtered_data = rating[(rating[\"tourist_destination_id\"].isin(filter_place)) & (rating[\"user_id\"]).isin(filter_user)]\n",
        "print(rating.shape)\n",
        "print(filtered_data.shape)\n",
        "print(filtered_data)"
      ]
    },
    {
      "cell_type": "code",
      "execution_count": 18,
      "metadata": {
        "colab": {
          "base_uri": "https://localhost:8080/",
          "height": 424
        },
        "id": "adCXF4ULQdB2",
        "outputId": "678de0c3-5465-4059-a024-f8c879b94cd9"
      },
      "outputs": [
        {
          "output_type": "execute_result",
          "data": {
            "text/plain": [
              "        id                               user_id  tourist_destination_id  \\\n",
              "0        1  a73naa79-18w8-4c89-8003-43330b1a99o3                      18   \n",
              "1        2  bd4faa79-04b8-4c89-8003-43330b1a9fc2                       5   \n",
              "2        3  a73n89sa-18w8-4c89-8003-43330b1a99o3                      21   \n",
              "3        4  a73naa79-18w8-4c89-8003-43330b1a99o3                      14   \n",
              "4        5  bd4faa79-04b8-4c89-8003-43330b1a9fc2                       8   \n",
              "...    ...                                   ...                     ...   \n",
              "4996  4997  a73naa79-18w8-4c89-8003-71yhs88293e3                      11   \n",
              "4997  4998  bd4faa79-04b8-4c89-8003-43330b1a9fc2                      31   \n",
              "4998  4999  bd4faa79-04b8-4c89-8003-772ujhu27717                      33   \n",
              "4999  5000  a73naa79-18w8-4c89-8003-71yhs88293e3                       9   \n",
              "5000  5001  bd4faa79-04b8-1827-8003-28817b1a9fc2                      25   \n",
              "\n",
              "      score                      review                 createdAt  \\\n",
              "0         2  Lorem ipsum dolor sit amet  2023-06-16T09:26:22.000Z   \n",
              "1         1  Lorem ipsum dolor sit amet  2023-06-16T09:26:22.000Z   \n",
              "2         2  Lorem ipsum dolor sit amet  2023-06-16T09:26:22.000Z   \n",
              "3         1  Lorem ipsum dolor sit amet  2023-06-16T09:26:22.000Z   \n",
              "4         0  Lorem ipsum dolor sit amet  2023-06-16T09:26:22.000Z   \n",
              "...     ...                         ...                       ...   \n",
              "4996      0  Lorem ipsum dolor sit amet  2023-06-16T09:26:22.000Z   \n",
              "4997      0  Lorem ipsum dolor sit amet  2023-06-16T09:26:22.000Z   \n",
              "4998      0  Lorem ipsum dolor sit amet  2023-06-16T09:26:22.000Z   \n",
              "4999      2  Lorem ipsum dolor sit amet  2023-06-16T09:26:22.000Z   \n",
              "5000      1  Lorem ipsum dolor sit amet  2023-06-16T09:26:22.000Z   \n",
              "\n",
              "                     updatedAt  \n",
              "0     2023-06-16T09:26:22.000Z  \n",
              "1     2023-06-16T09:26:22.000Z  \n",
              "2     2023-06-16T09:26:22.000Z  \n",
              "3     2023-06-16T09:26:22.000Z  \n",
              "4     2023-06-16T09:26:22.000Z  \n",
              "...                        ...  \n",
              "4996  2023-06-16T09:26:22.000Z  \n",
              "4997  2023-06-16T09:26:22.000Z  \n",
              "4998  2023-06-16T09:26:22.000Z  \n",
              "4999  2023-06-16T09:26:22.000Z  \n",
              "5000  2023-06-16T09:26:22.000Z  \n",
              "\n",
              "[5001 rows x 7 columns]"
            ],
            "text/html": [
              "\n",
              "  <div id=\"df-da48421c-f8f4-4d49-bbcc-3f8314413285\">\n",
              "    <div class=\"colab-df-container\">\n",
              "      <div>\n",
              "<style scoped>\n",
              "    .dataframe tbody tr th:only-of-type {\n",
              "        vertical-align: middle;\n",
              "    }\n",
              "\n",
              "    .dataframe tbody tr th {\n",
              "        vertical-align: top;\n",
              "    }\n",
              "\n",
              "    .dataframe thead th {\n",
              "        text-align: right;\n",
              "    }\n",
              "</style>\n",
              "<table border=\"1\" class=\"dataframe\">\n",
              "  <thead>\n",
              "    <tr style=\"text-align: right;\">\n",
              "      <th></th>\n",
              "      <th>id</th>\n",
              "      <th>user_id</th>\n",
              "      <th>tourist_destination_id</th>\n",
              "      <th>score</th>\n",
              "      <th>review</th>\n",
              "      <th>createdAt</th>\n",
              "      <th>updatedAt</th>\n",
              "    </tr>\n",
              "  </thead>\n",
              "  <tbody>\n",
              "    <tr>\n",
              "      <th>0</th>\n",
              "      <td>1</td>\n",
              "      <td>a73naa79-18w8-4c89-8003-43330b1a99o3</td>\n",
              "      <td>18</td>\n",
              "      <td>2</td>\n",
              "      <td>Lorem ipsum dolor sit amet</td>\n",
              "      <td>2023-06-16T09:26:22.000Z</td>\n",
              "      <td>2023-06-16T09:26:22.000Z</td>\n",
              "    </tr>\n",
              "    <tr>\n",
              "      <th>1</th>\n",
              "      <td>2</td>\n",
              "      <td>bd4faa79-04b8-4c89-8003-43330b1a9fc2</td>\n",
              "      <td>5</td>\n",
              "      <td>1</td>\n",
              "      <td>Lorem ipsum dolor sit amet</td>\n",
              "      <td>2023-06-16T09:26:22.000Z</td>\n",
              "      <td>2023-06-16T09:26:22.000Z</td>\n",
              "    </tr>\n",
              "    <tr>\n",
              "      <th>2</th>\n",
              "      <td>3</td>\n",
              "      <td>a73n89sa-18w8-4c89-8003-43330b1a99o3</td>\n",
              "      <td>21</td>\n",
              "      <td>2</td>\n",
              "      <td>Lorem ipsum dolor sit amet</td>\n",
              "      <td>2023-06-16T09:26:22.000Z</td>\n",
              "      <td>2023-06-16T09:26:22.000Z</td>\n",
              "    </tr>\n",
              "    <tr>\n",
              "      <th>3</th>\n",
              "      <td>4</td>\n",
              "      <td>a73naa79-18w8-4c89-8003-43330b1a99o3</td>\n",
              "      <td>14</td>\n",
              "      <td>1</td>\n",
              "      <td>Lorem ipsum dolor sit amet</td>\n",
              "      <td>2023-06-16T09:26:22.000Z</td>\n",
              "      <td>2023-06-16T09:26:22.000Z</td>\n",
              "    </tr>\n",
              "    <tr>\n",
              "      <th>4</th>\n",
              "      <td>5</td>\n",
              "      <td>bd4faa79-04b8-4c89-8003-43330b1a9fc2</td>\n",
              "      <td>8</td>\n",
              "      <td>0</td>\n",
              "      <td>Lorem ipsum dolor sit amet</td>\n",
              "      <td>2023-06-16T09:26:22.000Z</td>\n",
              "      <td>2023-06-16T09:26:22.000Z</td>\n",
              "    </tr>\n",
              "    <tr>\n",
              "      <th>...</th>\n",
              "      <td>...</td>\n",
              "      <td>...</td>\n",
              "      <td>...</td>\n",
              "      <td>...</td>\n",
              "      <td>...</td>\n",
              "      <td>...</td>\n",
              "      <td>...</td>\n",
              "    </tr>\n",
              "    <tr>\n",
              "      <th>4996</th>\n",
              "      <td>4997</td>\n",
              "      <td>a73naa79-18w8-4c89-8003-71yhs88293e3</td>\n",
              "      <td>11</td>\n",
              "      <td>0</td>\n",
              "      <td>Lorem ipsum dolor sit amet</td>\n",
              "      <td>2023-06-16T09:26:22.000Z</td>\n",
              "      <td>2023-06-16T09:26:22.000Z</td>\n",
              "    </tr>\n",
              "    <tr>\n",
              "      <th>4997</th>\n",
              "      <td>4998</td>\n",
              "      <td>bd4faa79-04b8-4c89-8003-43330b1a9fc2</td>\n",
              "      <td>31</td>\n",
              "      <td>0</td>\n",
              "      <td>Lorem ipsum dolor sit amet</td>\n",
              "      <td>2023-06-16T09:26:22.000Z</td>\n",
              "      <td>2023-06-16T09:26:22.000Z</td>\n",
              "    </tr>\n",
              "    <tr>\n",
              "      <th>4998</th>\n",
              "      <td>4999</td>\n",
              "      <td>bd4faa79-04b8-4c89-8003-772ujhu27717</td>\n",
              "      <td>33</td>\n",
              "      <td>0</td>\n",
              "      <td>Lorem ipsum dolor sit amet</td>\n",
              "      <td>2023-06-16T09:26:22.000Z</td>\n",
              "      <td>2023-06-16T09:26:22.000Z</td>\n",
              "    </tr>\n",
              "    <tr>\n",
              "      <th>4999</th>\n",
              "      <td>5000</td>\n",
              "      <td>a73naa79-18w8-4c89-8003-71yhs88293e3</td>\n",
              "      <td>9</td>\n",
              "      <td>2</td>\n",
              "      <td>Lorem ipsum dolor sit amet</td>\n",
              "      <td>2023-06-16T09:26:22.000Z</td>\n",
              "      <td>2023-06-16T09:26:22.000Z</td>\n",
              "    </tr>\n",
              "    <tr>\n",
              "      <th>5000</th>\n",
              "      <td>5001</td>\n",
              "      <td>bd4faa79-04b8-1827-8003-28817b1a9fc2</td>\n",
              "      <td>25</td>\n",
              "      <td>1</td>\n",
              "      <td>Lorem ipsum dolor sit amet</td>\n",
              "      <td>2023-06-16T09:26:22.000Z</td>\n",
              "      <td>2023-06-16T09:26:22.000Z</td>\n",
              "    </tr>\n",
              "  </tbody>\n",
              "</table>\n",
              "<p>5001 rows × 7 columns</p>\n",
              "</div>\n",
              "      <button class=\"colab-df-convert\" onclick=\"convertToInteractive('df-da48421c-f8f4-4d49-bbcc-3f8314413285')\"\n",
              "              title=\"Convert this dataframe to an interactive table.\"\n",
              "              style=\"display:none;\">\n",
              "        \n",
              "  <svg xmlns=\"http://www.w3.org/2000/svg\" height=\"24px\"viewBox=\"0 0 24 24\"\n",
              "       width=\"24px\">\n",
              "    <path d=\"M0 0h24v24H0V0z\" fill=\"none\"/>\n",
              "    <path d=\"M18.56 5.44l.94 2.06.94-2.06 2.06-.94-2.06-.94-.94-2.06-.94 2.06-2.06.94zm-11 1L8.5 8.5l.94-2.06 2.06-.94-2.06-.94L8.5 2.5l-.94 2.06-2.06.94zm10 10l.94 2.06.94-2.06 2.06-.94-2.06-.94-.94-2.06-.94 2.06-2.06.94z\"/><path d=\"M17.41 7.96l-1.37-1.37c-.4-.4-.92-.59-1.43-.59-.52 0-1.04.2-1.43.59L10.3 9.45l-7.72 7.72c-.78.78-.78 2.05 0 2.83L4 21.41c.39.39.9.59 1.41.59.51 0 1.02-.2 1.41-.59l7.78-7.78 2.81-2.81c.8-.78.8-2.07 0-2.86zM5.41 20L4 18.59l7.72-7.72 1.47 1.35L5.41 20z\"/>\n",
              "  </svg>\n",
              "      </button>\n",
              "      \n",
              "  <style>\n",
              "    .colab-df-container {\n",
              "      display:flex;\n",
              "      flex-wrap:wrap;\n",
              "      gap: 12px;\n",
              "    }\n",
              "\n",
              "    .colab-df-convert {\n",
              "      background-color: #E8F0FE;\n",
              "      border: none;\n",
              "      border-radius: 50%;\n",
              "      cursor: pointer;\n",
              "      display: none;\n",
              "      fill: #1967D2;\n",
              "      height: 32px;\n",
              "      padding: 0 0 0 0;\n",
              "      width: 32px;\n",
              "    }\n",
              "\n",
              "    .colab-df-convert:hover {\n",
              "      background-color: #E2EBFA;\n",
              "      box-shadow: 0px 1px 2px rgba(60, 64, 67, 0.3), 0px 1px 3px 1px rgba(60, 64, 67, 0.15);\n",
              "      fill: #174EA6;\n",
              "    }\n",
              "\n",
              "    [theme=dark] .colab-df-convert {\n",
              "      background-color: #3B4455;\n",
              "      fill: #D2E3FC;\n",
              "    }\n",
              "\n",
              "    [theme=dark] .colab-df-convert:hover {\n",
              "      background-color: #434B5C;\n",
              "      box-shadow: 0px 1px 3px 1px rgba(0, 0, 0, 0.15);\n",
              "      filter: drop-shadow(0px 1px 2px rgba(0, 0, 0, 0.3));\n",
              "      fill: #FFFFFF;\n",
              "    }\n",
              "  </style>\n",
              "\n",
              "      <script>\n",
              "        const buttonEl =\n",
              "          document.querySelector('#df-da48421c-f8f4-4d49-bbcc-3f8314413285 button.colab-df-convert');\n",
              "        buttonEl.style.display =\n",
              "          google.colab.kernel.accessAllowed ? 'block' : 'none';\n",
              "\n",
              "        async function convertToInteractive(key) {\n",
              "          const element = document.querySelector('#df-da48421c-f8f4-4d49-bbcc-3f8314413285');\n",
              "          const dataTable =\n",
              "            await google.colab.kernel.invokeFunction('convertToInteractive',\n",
              "                                                     [key], {});\n",
              "          if (!dataTable) return;\n",
              "\n",
              "          const docLinkHtml = 'Like what you see? Visit the ' +\n",
              "            '<a target=\"_blank\" href=https://colab.research.google.com/notebooks/data_table.ipynb>data table notebook</a>'\n",
              "            + ' to learn more about interactive tables.';\n",
              "          element.innerHTML = '';\n",
              "          dataTable['output_type'] = 'display_data';\n",
              "          await google.colab.output.renderOutput(dataTable, element);\n",
              "          const docLink = document.createElement('div');\n",
              "          docLink.innerHTML = docLinkHtml;\n",
              "          element.appendChild(docLink);\n",
              "        }\n",
              "      </script>\n",
              "    </div>\n",
              "  </div>\n",
              "  "
            ]
          },
          "metadata": {},
          "execution_count": 18
        }
      ],
      "source": [
        "#Copy filtered data to another dataset\n",
        "df = filtered_data.copy()\n",
        "df"
      ]
    },
    {
      "cell_type": "markdown",
      "metadata": {
        "id": "EeSPY4CQQs58"
      },
      "source": [
        "Doing the Encoding Dataset"
      ]
    },
    {
      "cell_type": "code",
      "execution_count": 19,
      "metadata": {
        "colab": {
          "base_uri": "https://localhost:8080/"
        },
        "id": "lBwUW2ljQvrm",
        "outputId": "fae4f27d-e67f-4e18-f468-123d65ebdf9b"
      },
      "outputs": [
        {
          "output_type": "stream",
          "name": "stdout",
          "text": [
            "list User_id:  ['a73naa79-18w8-4c89-8003-43330b1a99o3', 'bd4faa79-04b8-4c89-8003-43330b1a9fc2', 'a73n89sa-18w8-4c89-8003-43330b1a99o3', 'bd4faa79-04b8-1827-8003-28817b1a9fc2', 'bd4faa79-04b8-4c89-8003-772ujhu27717', 'a73naa79-18w8-4c89-8003-71yhs88293e3']\n",
            "encoded user_id:  {'a73naa79-18w8-4c89-8003-43330b1a99o3': 0, 'bd4faa79-04b8-4c89-8003-43330b1a9fc2': 1, 'a73n89sa-18w8-4c89-8003-43330b1a99o3': 2, 'bd4faa79-04b8-1827-8003-28817b1a9fc2': 3, 'bd4faa79-04b8-4c89-8003-772ujhu27717': 4, 'a73naa79-18w8-4c89-8003-71yhs88293e3': 5}\n",
            "encoded value to User_Id:  {0: 'a73naa79-18w8-4c89-8003-43330b1a99o3', 1: 'bd4faa79-04b8-4c89-8003-43330b1a9fc2', 2: 'a73n89sa-18w8-4c89-8003-43330b1a99o3', 3: 'bd4faa79-04b8-1827-8003-28817b1a9fc2', 4: 'bd4faa79-04b8-4c89-8003-772ujhu27717', 5: 'a73naa79-18w8-4c89-8003-71yhs88293e3'}\n"
          ]
        }
      ],
      "source": [
        "#Preprocessing to change the User_ID without the same value\n",
        "user_ids = df['user_id'].unique().tolist()\n",
        "print('list User_id: ', user_ids)\n",
        "\n",
        "#Encoding User_Id\n",
        "user_to_user_encoded = {x: i for i, x in enumerate(user_ids)}\n",
        "print('encoded user_id: ', user_to_user_encoded)\n",
        "\n",
        "#Encoding value to User_Id\n",
        "user_encoded_to_user = {i: x for i, x in enumerate(user_ids)}\n",
        "print('encoded value to User_Id: ', user_encoded_to_user)\n"
      ]
    },
    {
      "cell_type": "code",
      "execution_count": 20,
      "metadata": {
        "colab": {
          "base_uri": "https://localhost:8080/"
        },
        "id": "mLAz9hLBR7YA",
        "outputId": "68c74675-e509-44b0-ce28-58613fb2db8b"
      },
      "outputs": [
        {
          "output_type": "stream",
          "name": "stdout",
          "text": [
            "list place_id:  [18, 5, 21, 14, 8, 6, 30, 11, 27, 33, 10, 16, 29, 15, 2, 36, 35, 23, 3, 7, 12, 13, 25, 9, 31, 28, 22, 34, 20, 24, 4, 26, 17, 32, 1, 19]\n",
            "encoded place_id:  {18: 0, 5: 1, 21: 2, 14: 3, 8: 4, 6: 5, 30: 6, 11: 7, 27: 8, 33: 9, 10: 10, 16: 11, 29: 12, 15: 13, 2: 14, 36: 15, 35: 16, 23: 17, 3: 18, 7: 19, 12: 20, 13: 21, 25: 22, 9: 23, 31: 24, 28: 25, 22: 26, 34: 27, 20: 28, 24: 29, 4: 30, 26: 31, 17: 32, 32: 33, 1: 34, 19: 35}\n",
            "encoded value to place_id:  {0: 18, 1: 5, 2: 21, 3: 14, 4: 8, 5: 6, 6: 30, 7: 11, 8: 27, 9: 33, 10: 10, 11: 16, 12: 29, 13: 15, 14: 2, 15: 36, 16: 35, 17: 23, 18: 3, 19: 7, 20: 12, 21: 13, 22: 25, 23: 9, 24: 31, 25: 28, 26: 22, 27: 34, 28: 20, 29: 24, 30: 4, 31: 26, 32: 17, 33: 32, 34: 1, 35: 19}\n"
          ]
        }
      ],
      "source": [
        "#Changing the \"Place_Id\" to List without the same value\n",
        "place_ids = df['tourist_destination_id'].unique().tolist()\n",
        "print('list place_id: ', place_ids)\n",
        "\n",
        "#Encoding \"Place_Id\"\n",
        "place_to_place_encoded = {x: i for i, x in enumerate(place_ids)}\n",
        "print('encoded place_id: ', place_to_place_encoded)\n",
        "\n",
        "#Encoding value to \"Place_Id\"\n",
        "place_encoded_to_place = {i: x for i, x in enumerate(place_ids)}\n",
        "print('encoded value to place_id: ', place_encoded_to_place )"
      ]
    },
    {
      "cell_type": "code",
      "execution_count": 21,
      "metadata": {
        "id": "OeQJynpHSvhT"
      },
      "outputs": [],
      "source": [
        "#Mapping User_Id to dataframe\n",
        "df['user'] =df['user_id'].map(user_to_user_encoded)\n",
        "\n",
        "#Mapping Place_Id to dataframe\n",
        "df['place']=df['tourist_destination_id'].map(place_to_place_encoded)"
      ]
    },
    {
      "cell_type": "code",
      "execution_count": 22,
      "metadata": {
        "colab": {
          "base_uri": "https://localhost:8080/"
        },
        "id": "3wnngZ3XS-mY",
        "outputId": "2b1c1fa1-d738-4d89-b5a5-766a6c04c774"
      },
      "outputs": [
        {
          "output_type": "stream",
          "name": "stdout",
          "text": [
            "6 36 0 5\n"
          ]
        }
      ],
      "source": [
        "num_users = len(user_to_user_encoded)\n",
        "num_places = len(place_to_place_encoded)\n",
        "min_rating = min(df['score'])\n",
        "max_rating = max(df['score'])\n",
        "\n",
        "df['score'] = df['score'].values.astype(np.float32)\n",
        "\n",
        "print(num_users, num_places, min_rating, max_rating)"
      ]
    },
    {
      "cell_type": "code",
      "execution_count": 23,
      "metadata": {
        "colab": {
          "base_uri": "https://localhost:8080/",
          "height": 424
        },
        "id": "NSO9LmIxTd10",
        "outputId": "7de2eafa-e680-4d32-ca32-2dcdf2b4674a"
      },
      "outputs": [
        {
          "output_type": "execute_result",
          "data": {
            "text/plain": [
              "        id                               user_id  tourist_destination_id  \\\n",
              "1501  1502  a73naa79-18w8-4c89-8003-71yhs88293e3                      22   \n",
              "2586  2587  a73n89sa-18w8-4c89-8003-43330b1a99o3                      36   \n",
              "2653  2654  a73n89sa-18w8-4c89-8003-43330b1a99o3                      17   \n",
              "1055  1056  a73naa79-18w8-4c89-8003-71yhs88293e3                      35   \n",
              "705    706  bd4faa79-04b8-4c89-8003-43330b1a9fc2                       1   \n",
              "...    ...                                   ...                     ...   \n",
              "4712  4713  bd4faa79-04b8-4c89-8003-43330b1a9fc2                       9   \n",
              "2313  2314  a73n89sa-18w8-4c89-8003-43330b1a99o3                      28   \n",
              "3214  3215  bd4faa79-04b8-4c89-8003-772ujhu27717                      22   \n",
              "2732  2733  bd4faa79-04b8-4c89-8003-772ujhu27717                      30   \n",
              "1926  1927  a73n89sa-18w8-4c89-8003-43330b1a99o3                       9   \n",
              "\n",
              "      score                      review                 createdAt  \\\n",
              "1501    0.0  Lorem ipsum dolor sit amet  2023-06-16T09:26:22.000Z   \n",
              "2586    5.0  Lorem ipsum dolor sit amet  2023-06-16T09:26:22.000Z   \n",
              "2653    0.0  Lorem ipsum dolor sit amet  2023-06-16T09:26:22.000Z   \n",
              "1055    0.0  Lorem ipsum dolor sit amet  2023-06-16T09:26:22.000Z   \n",
              "705     2.0  Lorem ipsum dolor sit amet  2023-06-16T09:26:22.000Z   \n",
              "...     ...                         ...                       ...   \n",
              "4712    2.0  Lorem ipsum dolor sit amet  2023-06-16T09:26:22.000Z   \n",
              "2313    1.0  Lorem ipsum dolor sit amet  2023-06-16T09:26:22.000Z   \n",
              "3214    5.0  Lorem ipsum dolor sit amet  2023-06-16T09:26:22.000Z   \n",
              "2732    1.0  Lorem ipsum dolor sit amet  2023-06-16T09:26:22.000Z   \n",
              "1926    1.0  Lorem ipsum dolor sit amet  2023-06-16T09:26:22.000Z   \n",
              "\n",
              "                     updatedAt  user  place  \n",
              "1501  2023-06-16T09:26:22.000Z     5     26  \n",
              "2586  2023-06-16T09:26:22.000Z     2     15  \n",
              "2653  2023-06-16T09:26:22.000Z     2     32  \n",
              "1055  2023-06-16T09:26:22.000Z     5     16  \n",
              "705   2023-06-16T09:26:22.000Z     1     34  \n",
              "...                        ...   ...    ...  \n",
              "4712  2023-06-16T09:26:22.000Z     1     23  \n",
              "2313  2023-06-16T09:26:22.000Z     2     25  \n",
              "3214  2023-06-16T09:26:22.000Z     4     26  \n",
              "2732  2023-06-16T09:26:22.000Z     4      6  \n",
              "1926  2023-06-16T09:26:22.000Z     2     23  \n",
              "\n",
              "[1000 rows x 9 columns]"
            ],
            "text/html": [
              "\n",
              "  <div id=\"df-e5d81548-15cd-4f43-b7cc-39c6f068e65d\">\n",
              "    <div class=\"colab-df-container\">\n",
              "      <div>\n",
              "<style scoped>\n",
              "    .dataframe tbody tr th:only-of-type {\n",
              "        vertical-align: middle;\n",
              "    }\n",
              "\n",
              "    .dataframe tbody tr th {\n",
              "        vertical-align: top;\n",
              "    }\n",
              "\n",
              "    .dataframe thead th {\n",
              "        text-align: right;\n",
              "    }\n",
              "</style>\n",
              "<table border=\"1\" class=\"dataframe\">\n",
              "  <thead>\n",
              "    <tr style=\"text-align: right;\">\n",
              "      <th></th>\n",
              "      <th>id</th>\n",
              "      <th>user_id</th>\n",
              "      <th>tourist_destination_id</th>\n",
              "      <th>score</th>\n",
              "      <th>review</th>\n",
              "      <th>createdAt</th>\n",
              "      <th>updatedAt</th>\n",
              "      <th>user</th>\n",
              "      <th>place</th>\n",
              "    </tr>\n",
              "  </thead>\n",
              "  <tbody>\n",
              "    <tr>\n",
              "      <th>1501</th>\n",
              "      <td>1502</td>\n",
              "      <td>a73naa79-18w8-4c89-8003-71yhs88293e3</td>\n",
              "      <td>22</td>\n",
              "      <td>0.0</td>\n",
              "      <td>Lorem ipsum dolor sit amet</td>\n",
              "      <td>2023-06-16T09:26:22.000Z</td>\n",
              "      <td>2023-06-16T09:26:22.000Z</td>\n",
              "      <td>5</td>\n",
              "      <td>26</td>\n",
              "    </tr>\n",
              "    <tr>\n",
              "      <th>2586</th>\n",
              "      <td>2587</td>\n",
              "      <td>a73n89sa-18w8-4c89-8003-43330b1a99o3</td>\n",
              "      <td>36</td>\n",
              "      <td>5.0</td>\n",
              "      <td>Lorem ipsum dolor sit amet</td>\n",
              "      <td>2023-06-16T09:26:22.000Z</td>\n",
              "      <td>2023-06-16T09:26:22.000Z</td>\n",
              "      <td>2</td>\n",
              "      <td>15</td>\n",
              "    </tr>\n",
              "    <tr>\n",
              "      <th>2653</th>\n",
              "      <td>2654</td>\n",
              "      <td>a73n89sa-18w8-4c89-8003-43330b1a99o3</td>\n",
              "      <td>17</td>\n",
              "      <td>0.0</td>\n",
              "      <td>Lorem ipsum dolor sit amet</td>\n",
              "      <td>2023-06-16T09:26:22.000Z</td>\n",
              "      <td>2023-06-16T09:26:22.000Z</td>\n",
              "      <td>2</td>\n",
              "      <td>32</td>\n",
              "    </tr>\n",
              "    <tr>\n",
              "      <th>1055</th>\n",
              "      <td>1056</td>\n",
              "      <td>a73naa79-18w8-4c89-8003-71yhs88293e3</td>\n",
              "      <td>35</td>\n",
              "      <td>0.0</td>\n",
              "      <td>Lorem ipsum dolor sit amet</td>\n",
              "      <td>2023-06-16T09:26:22.000Z</td>\n",
              "      <td>2023-06-16T09:26:22.000Z</td>\n",
              "      <td>5</td>\n",
              "      <td>16</td>\n",
              "    </tr>\n",
              "    <tr>\n",
              "      <th>705</th>\n",
              "      <td>706</td>\n",
              "      <td>bd4faa79-04b8-4c89-8003-43330b1a9fc2</td>\n",
              "      <td>1</td>\n",
              "      <td>2.0</td>\n",
              "      <td>Lorem ipsum dolor sit amet</td>\n",
              "      <td>2023-06-16T09:26:22.000Z</td>\n",
              "      <td>2023-06-16T09:26:22.000Z</td>\n",
              "      <td>1</td>\n",
              "      <td>34</td>\n",
              "    </tr>\n",
              "    <tr>\n",
              "      <th>...</th>\n",
              "      <td>...</td>\n",
              "      <td>...</td>\n",
              "      <td>...</td>\n",
              "      <td>...</td>\n",
              "      <td>...</td>\n",
              "      <td>...</td>\n",
              "      <td>...</td>\n",
              "      <td>...</td>\n",
              "      <td>...</td>\n",
              "    </tr>\n",
              "    <tr>\n",
              "      <th>4712</th>\n",
              "      <td>4713</td>\n",
              "      <td>bd4faa79-04b8-4c89-8003-43330b1a9fc2</td>\n",
              "      <td>9</td>\n",
              "      <td>2.0</td>\n",
              "      <td>Lorem ipsum dolor sit amet</td>\n",
              "      <td>2023-06-16T09:26:22.000Z</td>\n",
              "      <td>2023-06-16T09:26:22.000Z</td>\n",
              "      <td>1</td>\n",
              "      <td>23</td>\n",
              "    </tr>\n",
              "    <tr>\n",
              "      <th>2313</th>\n",
              "      <td>2314</td>\n",
              "      <td>a73n89sa-18w8-4c89-8003-43330b1a99o3</td>\n",
              "      <td>28</td>\n",
              "      <td>1.0</td>\n",
              "      <td>Lorem ipsum dolor sit amet</td>\n",
              "      <td>2023-06-16T09:26:22.000Z</td>\n",
              "      <td>2023-06-16T09:26:22.000Z</td>\n",
              "      <td>2</td>\n",
              "      <td>25</td>\n",
              "    </tr>\n",
              "    <tr>\n",
              "      <th>3214</th>\n",
              "      <td>3215</td>\n",
              "      <td>bd4faa79-04b8-4c89-8003-772ujhu27717</td>\n",
              "      <td>22</td>\n",
              "      <td>5.0</td>\n",
              "      <td>Lorem ipsum dolor sit amet</td>\n",
              "      <td>2023-06-16T09:26:22.000Z</td>\n",
              "      <td>2023-06-16T09:26:22.000Z</td>\n",
              "      <td>4</td>\n",
              "      <td>26</td>\n",
              "    </tr>\n",
              "    <tr>\n",
              "      <th>2732</th>\n",
              "      <td>2733</td>\n",
              "      <td>bd4faa79-04b8-4c89-8003-772ujhu27717</td>\n",
              "      <td>30</td>\n",
              "      <td>1.0</td>\n",
              "      <td>Lorem ipsum dolor sit amet</td>\n",
              "      <td>2023-06-16T09:26:22.000Z</td>\n",
              "      <td>2023-06-16T09:26:22.000Z</td>\n",
              "      <td>4</td>\n",
              "      <td>6</td>\n",
              "    </tr>\n",
              "    <tr>\n",
              "      <th>1926</th>\n",
              "      <td>1927</td>\n",
              "      <td>a73n89sa-18w8-4c89-8003-43330b1a99o3</td>\n",
              "      <td>9</td>\n",
              "      <td>1.0</td>\n",
              "      <td>Lorem ipsum dolor sit amet</td>\n",
              "      <td>2023-06-16T09:26:22.000Z</td>\n",
              "      <td>2023-06-16T09:26:22.000Z</td>\n",
              "      <td>2</td>\n",
              "      <td>23</td>\n",
              "    </tr>\n",
              "  </tbody>\n",
              "</table>\n",
              "<p>1000 rows × 9 columns</p>\n",
              "</div>\n",
              "      <button class=\"colab-df-convert\" onclick=\"convertToInteractive('df-e5d81548-15cd-4f43-b7cc-39c6f068e65d')\"\n",
              "              title=\"Convert this dataframe to an interactive table.\"\n",
              "              style=\"display:none;\">\n",
              "        \n",
              "  <svg xmlns=\"http://www.w3.org/2000/svg\" height=\"24px\"viewBox=\"0 0 24 24\"\n",
              "       width=\"24px\">\n",
              "    <path d=\"M0 0h24v24H0V0z\" fill=\"none\"/>\n",
              "    <path d=\"M18.56 5.44l.94 2.06.94-2.06 2.06-.94-2.06-.94-.94-2.06-.94 2.06-2.06.94zm-11 1L8.5 8.5l.94-2.06 2.06-.94-2.06-.94L8.5 2.5l-.94 2.06-2.06.94zm10 10l.94 2.06.94-2.06 2.06-.94-2.06-.94-.94-2.06-.94 2.06-2.06.94z\"/><path d=\"M17.41 7.96l-1.37-1.37c-.4-.4-.92-.59-1.43-.59-.52 0-1.04.2-1.43.59L10.3 9.45l-7.72 7.72c-.78.78-.78 2.05 0 2.83L4 21.41c.39.39.9.59 1.41.59.51 0 1.02-.2 1.41-.59l7.78-7.78 2.81-2.81c.8-.78.8-2.07 0-2.86zM5.41 20L4 18.59l7.72-7.72 1.47 1.35L5.41 20z\"/>\n",
              "  </svg>\n",
              "      </button>\n",
              "      \n",
              "  <style>\n",
              "    .colab-df-container {\n",
              "      display:flex;\n",
              "      flex-wrap:wrap;\n",
              "      gap: 12px;\n",
              "    }\n",
              "\n",
              "    .colab-df-convert {\n",
              "      background-color: #E8F0FE;\n",
              "      border: none;\n",
              "      border-radius: 50%;\n",
              "      cursor: pointer;\n",
              "      display: none;\n",
              "      fill: #1967D2;\n",
              "      height: 32px;\n",
              "      padding: 0 0 0 0;\n",
              "      width: 32px;\n",
              "    }\n",
              "\n",
              "    .colab-df-convert:hover {\n",
              "      background-color: #E2EBFA;\n",
              "      box-shadow: 0px 1px 2px rgba(60, 64, 67, 0.3), 0px 1px 3px 1px rgba(60, 64, 67, 0.15);\n",
              "      fill: #174EA6;\n",
              "    }\n",
              "\n",
              "    [theme=dark] .colab-df-convert {\n",
              "      background-color: #3B4455;\n",
              "      fill: #D2E3FC;\n",
              "    }\n",
              "\n",
              "    [theme=dark] .colab-df-convert:hover {\n",
              "      background-color: #434B5C;\n",
              "      box-shadow: 0px 1px 3px 1px rgba(0, 0, 0, 0.15);\n",
              "      filter: drop-shadow(0px 1px 2px rgba(0, 0, 0, 0.3));\n",
              "      fill: #FFFFFF;\n",
              "    }\n",
              "  </style>\n",
              "\n",
              "      <script>\n",
              "        const buttonEl =\n",
              "          document.querySelector('#df-e5d81548-15cd-4f43-b7cc-39c6f068e65d button.colab-df-convert');\n",
              "        buttonEl.style.display =\n",
              "          google.colab.kernel.accessAllowed ? 'block' : 'none';\n",
              "\n",
              "        async function convertToInteractive(key) {\n",
              "          const element = document.querySelector('#df-e5d81548-15cd-4f43-b7cc-39c6f068e65d');\n",
              "          const dataTable =\n",
              "            await google.colab.kernel.invokeFunction('convertToInteractive',\n",
              "                                                     [key], {});\n",
              "          if (!dataTable) return;\n",
              "\n",
              "          const docLinkHtml = 'Like what you see? Visit the ' +\n",
              "            '<a target=\"_blank\" href=https://colab.research.google.com/notebooks/data_table.ipynb>data table notebook</a>'\n",
              "            + ' to learn more about interactive tables.';\n",
              "          element.innerHTML = '';\n",
              "          dataTable['output_type'] = 'display_data';\n",
              "          await google.colab.output.renderOutput(dataTable, element);\n",
              "          const docLink = document.createElement('div');\n",
              "          docLink.innerHTML = docLinkHtml;\n",
              "          element.appendChild(docLink);\n",
              "        }\n",
              "      </script>\n",
              "    </div>\n",
              "  </div>\n",
              "  "
            ]
          },
          "metadata": {},
          "execution_count": 23
        }
      ],
      "source": [
        "df=df.sample(frac=1, random_state=42).iloc[:1000,:]\n",
        "df"
      ]
    },
    {
      "cell_type": "code",
      "execution_count": 24,
      "metadata": {
        "id": "-5N3jBb8x1lv"
      },
      "outputs": [],
      "source": [
        "#Splitting data train and test\n",
        "x = df[['user','place']].values\n",
        "y=df['score'].apply(lambda x:(x-min_rating)/(max_rating-min_rating)).values\n",
        "\n",
        "from sklearn.model_selection import train_test_split\n",
        "\n",
        "x_train, x_test, y_train, y_test = train_test_split(x,y, train_size=0.8, random_state=42)"
      ]
    },
    {
      "cell_type": "code",
      "execution_count": 25,
      "metadata": {
        "colab": {
          "base_uri": "https://localhost:8080/"
        },
        "id": "-obvDwKLx1lv",
        "outputId": "22068b90-04a0-46d7-ca43-0ee1780232fb"
      },
      "outputs": [
        {
          "output_type": "stream",
          "name": "stdout",
          "text": [
            "(800, 2)\n",
            "(200, 2)\n",
            "(800,)\n",
            "(200,)\n"
          ]
        }
      ],
      "source": [
        "print(x_train.shape)\n",
        "print(x_test.shape)\n",
        "print(y_train.shape)\n",
        "print(y_test.shape)"
      ]
    },
    {
      "cell_type": "code",
      "execution_count": 26,
      "metadata": {
        "id": "r6JGs27sx1lv"
      },
      "outputs": [],
      "source": [
        "user_id_input = tf.keras.layers.Input(shape=[1], name=\"user_id_input\")\n",
        "place_id_input = tf.keras.layers.Input(shape=[1], name=\"place_id_input\")\n",
        "\n",
        "user_embedding = tf.keras.layers.Embedding(output_dim = 10,\n",
        "                                           input_dim=num_users+1,\n",
        "                                           input_length = 1,\n",
        "                                           name = \"user_embedding\")(user_id_input)\n",
        "place_embedding = tf.keras.layers.Embedding(output_dim = 20,\n",
        "                                            input_dim = num_places+1,\n",
        "                                            input_length = 1,\n",
        "                                           name = \"place_embedding\")(place_id_input)\n",
        "\n",
        "user_vec = tf.keras.layers.Flatten(name =\"flatten-user\")(user_embedding)\n",
        "place_vec = tf.keras.layers.Flatten(name =\"flatten-place\")(place_embedding)"
      ]
    },
    {
      "cell_type": "code",
      "execution_count": 27,
      "metadata": {
        "colab": {
          "base_uri": "https://localhost:8080/"
        },
        "id": "z3C816kux1lv",
        "outputId": "8557530f-8e0a-4cef-fb70-7f70cdebba8d"
      },
      "outputs": [
        {
          "output_type": "stream",
          "name": "stdout",
          "text": [
            "Epoch 1/100\n",
            "25/25 [==============================] - 2s 29ms/step - loss: 0.2468 - root_mean_squared_error: 0.4968 - val_loss: 0.1343 - val_root_mean_squared_error: 0.3664\n",
            "Epoch 2/100\n",
            "25/25 [==============================] - 0s 9ms/step - loss: 0.1201 - root_mean_squared_error: 0.3465 - val_loss: 0.1139 - val_root_mean_squared_error: 0.3375\n",
            "Epoch 3/100\n",
            "25/25 [==============================] - 0s 8ms/step - loss: 0.1193 - root_mean_squared_error: 0.3454 - val_loss: 0.1132 - val_root_mean_squared_error: 0.3365\n",
            "Epoch 4/100\n",
            "25/25 [==============================] - 0s 8ms/step - loss: 0.1184 - root_mean_squared_error: 0.3441 - val_loss: 0.1134 - val_root_mean_squared_error: 0.3368\n",
            "Epoch 5/100\n",
            "25/25 [==============================] - 0s 6ms/step - loss: 0.1182 - root_mean_squared_error: 0.3438 - val_loss: 0.1134 - val_root_mean_squared_error: 0.3367\n",
            "Epoch 6/100\n",
            "25/25 [==============================] - 0s 6ms/step - loss: 0.1180 - root_mean_squared_error: 0.3436 - val_loss: 0.1134 - val_root_mean_squared_error: 0.3367\n",
            "Epoch 7/100\n",
            "25/25 [==============================] - 0s 7ms/step - loss: 0.1180 - root_mean_squared_error: 0.3436 - val_loss: 0.1135 - val_root_mean_squared_error: 0.3368\n",
            "Epoch 8/100\n",
            "25/25 [==============================] - 0s 7ms/step - loss: 0.1180 - root_mean_squared_error: 0.3435 - val_loss: 0.1135 - val_root_mean_squared_error: 0.3369\n",
            "Epoch 9/100\n",
            "25/25 [==============================] - 0s 5ms/step - loss: 0.1182 - root_mean_squared_error: 0.3438 - val_loss: 0.1134 - val_root_mean_squared_error: 0.3367\n",
            "Epoch 10/100\n",
            "25/25 [==============================] - 0s 7ms/step - loss: 0.1178 - root_mean_squared_error: 0.3433 - val_loss: 0.1135 - val_root_mean_squared_error: 0.3369\n",
            "Epoch 11/100\n",
            "25/25 [==============================] - 0s 7ms/step - loss: 0.1177 - root_mean_squared_error: 0.3431 - val_loss: 0.1137 - val_root_mean_squared_error: 0.3372\n",
            "Epoch 12/100\n",
            "25/25 [==============================] - 0s 9ms/step - loss: 0.1176 - root_mean_squared_error: 0.3429 - val_loss: 0.1135 - val_root_mean_squared_error: 0.3369\n",
            "Epoch 13/100\n",
            "25/25 [==============================] - 0s 10ms/step - loss: 0.1176 - root_mean_squared_error: 0.3430 - val_loss: 0.1136 - val_root_mean_squared_error: 0.3370\n",
            "Epoch 14/100\n",
            "25/25 [==============================] - 0s 8ms/step - loss: 0.1175 - root_mean_squared_error: 0.3428 - val_loss: 0.1137 - val_root_mean_squared_error: 0.3371\n",
            "Epoch 15/100\n",
            "25/25 [==============================] - 0s 7ms/step - loss: 0.1174 - root_mean_squared_error: 0.3427 - val_loss: 0.1136 - val_root_mean_squared_error: 0.3371\n",
            "Epoch 16/100\n",
            "25/25 [==============================] - 0s 8ms/step - loss: 0.1176 - root_mean_squared_error: 0.3430 - val_loss: 0.1136 - val_root_mean_squared_error: 0.3371\n",
            "Epoch 17/100\n",
            "25/25 [==============================] - 0s 10ms/step - loss: 0.1184 - root_mean_squared_error: 0.3440 - val_loss: 0.1139 - val_root_mean_squared_error: 0.3375\n",
            "Epoch 18/100\n",
            "25/25 [==============================] - 0s 12ms/step - loss: 0.1174 - root_mean_squared_error: 0.3427 - val_loss: 0.1137 - val_root_mean_squared_error: 0.3371\n",
            "Epoch 19/100\n",
            "25/25 [==============================] - 0s 15ms/step - loss: 0.1172 - root_mean_squared_error: 0.3423 - val_loss: 0.1137 - val_root_mean_squared_error: 0.3373\n",
            "Epoch 20/100\n",
            "25/25 [==============================] - 0s 11ms/step - loss: 0.1172 - root_mean_squared_error: 0.3423 - val_loss: 0.1138 - val_root_mean_squared_error: 0.3373\n",
            "Epoch 21/100\n",
            "25/25 [==============================] - 0s 14ms/step - loss: 0.1171 - root_mean_squared_error: 0.3422 - val_loss: 0.1139 - val_root_mean_squared_error: 0.3374\n",
            "Epoch 22/100\n",
            "25/25 [==============================] - 0s 14ms/step - loss: 0.1172 - root_mean_squared_error: 0.3423 - val_loss: 0.1138 - val_root_mean_squared_error: 0.3373\n",
            "Epoch 23/100\n",
            "25/25 [==============================] - 0s 11ms/step - loss: 0.1170 - root_mean_squared_error: 0.3421 - val_loss: 0.1140 - val_root_mean_squared_error: 0.3377\n",
            "Epoch 24/100\n",
            "25/25 [==============================] - 0s 8ms/step - loss: 0.1169 - root_mean_squared_error: 0.3419 - val_loss: 0.1139 - val_root_mean_squared_error: 0.3375\n",
            "Epoch 25/100\n",
            "25/25 [==============================] - 0s 8ms/step - loss: 0.1169 - root_mean_squared_error: 0.3419 - val_loss: 0.1139 - val_root_mean_squared_error: 0.3374\n",
            "Epoch 26/100\n",
            "25/25 [==============================] - 0s 7ms/step - loss: 0.1170 - root_mean_squared_error: 0.3420 - val_loss: 0.1139 - val_root_mean_squared_error: 0.3375\n",
            "Epoch 27/100\n",
            "25/25 [==============================] - 0s 12ms/step - loss: 0.1169 - root_mean_squared_error: 0.3419 - val_loss: 0.1140 - val_root_mean_squared_error: 0.3376\n",
            "Epoch 28/100\n",
            "25/25 [==============================] - 0s 8ms/step - loss: 0.1168 - root_mean_squared_error: 0.3417 - val_loss: 0.1139 - val_root_mean_squared_error: 0.3375\n",
            "Epoch 29/100\n",
            "25/25 [==============================] - 0s 12ms/step - loss: 0.1167 - root_mean_squared_error: 0.3416 - val_loss: 0.1141 - val_root_mean_squared_error: 0.3377\n",
            "Epoch 30/100\n",
            "25/25 [==============================] - 0s 16ms/step - loss: 0.1167 - root_mean_squared_error: 0.3416 - val_loss: 0.1144 - val_root_mean_squared_error: 0.3382\n",
            "Epoch 31/100\n",
            "25/25 [==============================] - 0s 15ms/step - loss: 0.1166 - root_mean_squared_error: 0.3414 - val_loss: 0.1140 - val_root_mean_squared_error: 0.3377\n",
            "Epoch 32/100\n",
            "25/25 [==============================] - 0s 17ms/step - loss: 0.1166 - root_mean_squared_error: 0.3415 - val_loss: 0.1141 - val_root_mean_squared_error: 0.3378\n",
            "Epoch 33/100\n",
            "25/25 [==============================] - 0s 15ms/step - loss: 0.1167 - root_mean_squared_error: 0.3416 - val_loss: 0.1141 - val_root_mean_squared_error: 0.3377\n",
            "Epoch 34/100\n",
            "25/25 [==============================] - 0s 14ms/step - loss: 0.1168 - root_mean_squared_error: 0.3418 - val_loss: 0.1144 - val_root_mean_squared_error: 0.3382\n",
            "Epoch 35/100\n",
            "25/25 [==============================] - 0s 13ms/step - loss: 0.1165 - root_mean_squared_error: 0.3414 - val_loss: 0.1141 - val_root_mean_squared_error: 0.3378\n",
            "Epoch 36/100\n",
            "25/25 [==============================] - 0s 13ms/step - loss: 0.1164 - root_mean_squared_error: 0.3412 - val_loss: 0.1143 - val_root_mean_squared_error: 0.3381\n",
            "Epoch 37/100\n",
            "25/25 [==============================] - 0s 13ms/step - loss: 0.1163 - root_mean_squared_error: 0.3411 - val_loss: 0.1143 - val_root_mean_squared_error: 0.3380\n",
            "Epoch 38/100\n",
            "25/25 [==============================] - 0s 6ms/step - loss: 0.1163 - root_mean_squared_error: 0.3411 - val_loss: 0.1143 - val_root_mean_squared_error: 0.3381\n",
            "Epoch 39/100\n",
            "25/25 [==============================] - 0s 9ms/step - loss: 0.1162 - root_mean_squared_error: 0.3409 - val_loss: 0.1143 - val_root_mean_squared_error: 0.3381\n",
            "Epoch 40/100\n",
            "25/25 [==============================] - 0s 7ms/step - loss: 0.1163 - root_mean_squared_error: 0.3410 - val_loss: 0.1143 - val_root_mean_squared_error: 0.3381\n",
            "Epoch 41/100\n",
            "25/25 [==============================] - 0s 6ms/step - loss: 0.1161 - root_mean_squared_error: 0.3407 - val_loss: 0.1144 - val_root_mean_squared_error: 0.3383\n",
            "Epoch 42/100\n",
            "25/25 [==============================] - 0s 6ms/step - loss: 0.1162 - root_mean_squared_error: 0.3409 - val_loss: 0.1144 - val_root_mean_squared_error: 0.3383\n",
            "Epoch 43/100\n",
            "25/25 [==============================] - 0s 10ms/step - loss: 0.1161 - root_mean_squared_error: 0.3407 - val_loss: 0.1145 - val_root_mean_squared_error: 0.3383\n",
            "Epoch 44/100\n",
            "25/25 [==============================] - 0s 8ms/step - loss: 0.1160 - root_mean_squared_error: 0.3406 - val_loss: 0.1145 - val_root_mean_squared_error: 0.3383\n",
            "Epoch 45/100\n",
            "25/25 [==============================] - 0s 11ms/step - loss: 0.1160 - root_mean_squared_error: 0.3405 - val_loss: 0.1146 - val_root_mean_squared_error: 0.3385\n",
            "Epoch 46/100\n",
            "25/25 [==============================] - 0s 8ms/step - loss: 0.1159 - root_mean_squared_error: 0.3404 - val_loss: 0.1145 - val_root_mean_squared_error: 0.3383\n",
            "Epoch 47/100\n",
            "25/25 [==============================] - 0s 12ms/step - loss: 0.1160 - root_mean_squared_error: 0.3406 - val_loss: 0.1145 - val_root_mean_squared_error: 0.3384\n",
            "Epoch 48/100\n",
            "25/25 [==============================] - 0s 8ms/step - loss: 0.1161 - root_mean_squared_error: 0.3407 - val_loss: 0.1147 - val_root_mean_squared_error: 0.3386\n",
            "Epoch 49/100\n",
            "25/25 [==============================] - 0s 7ms/step - loss: 0.1157 - root_mean_squared_error: 0.3401 - val_loss: 0.1146 - val_root_mean_squared_error: 0.3385\n",
            "Epoch 50/100\n",
            "25/25 [==============================] - 0s 6ms/step - loss: 0.1158 - root_mean_squared_error: 0.3403 - val_loss: 0.1146 - val_root_mean_squared_error: 0.3386\n",
            "Epoch 51/100\n",
            "25/25 [==============================] - 0s 6ms/step - loss: 0.1158 - root_mean_squared_error: 0.3402 - val_loss: 0.1148 - val_root_mean_squared_error: 0.3388\n",
            "Epoch 52/100\n",
            "25/25 [==============================] - 0s 6ms/step - loss: 0.1156 - root_mean_squared_error: 0.3400 - val_loss: 0.1147 - val_root_mean_squared_error: 0.3386\n",
            "Epoch 53/100\n",
            "25/25 [==============================] - 0s 7ms/step - loss: 0.1155 - root_mean_squared_error: 0.3399 - val_loss: 0.1148 - val_root_mean_squared_error: 0.3389\n",
            "Epoch 54/100\n",
            "25/25 [==============================] - 0s 8ms/step - loss: 0.1158 - root_mean_squared_error: 0.3403 - val_loss: 0.1147 - val_root_mean_squared_error: 0.3387\n",
            "Epoch 55/100\n",
            "25/25 [==============================] - 0s 7ms/step - loss: 0.1156 - root_mean_squared_error: 0.3401 - val_loss: 0.1150 - val_root_mean_squared_error: 0.3391\n",
            "Epoch 56/100\n",
            "25/25 [==============================] - 0s 11ms/step - loss: 0.1155 - root_mean_squared_error: 0.3398 - val_loss: 0.1148 - val_root_mean_squared_error: 0.3389\n",
            "Epoch 57/100\n",
            "25/25 [==============================] - 0s 8ms/step - loss: 0.1155 - root_mean_squared_error: 0.3398 - val_loss: 0.1149 - val_root_mean_squared_error: 0.3389\n",
            "Epoch 58/100\n",
            "25/25 [==============================] - 0s 8ms/step - loss: 0.1153 - root_mean_squared_error: 0.3396 - val_loss: 0.1150 - val_root_mean_squared_error: 0.3392\n",
            "Epoch 59/100\n",
            "25/25 [==============================] - 0s 12ms/step - loss: 0.1154 - root_mean_squared_error: 0.3398 - val_loss: 0.1150 - val_root_mean_squared_error: 0.3391\n",
            "Epoch 60/100\n",
            "25/25 [==============================] - 0s 12ms/step - loss: 0.1154 - root_mean_squared_error: 0.3397 - val_loss: 0.1150 - val_root_mean_squared_error: 0.3391\n",
            "Epoch 61/100\n",
            "25/25 [==============================] - 0s 9ms/step - loss: 0.1153 - root_mean_squared_error: 0.3395 - val_loss: 0.1151 - val_root_mean_squared_error: 0.3392\n",
            "Epoch 62/100\n",
            "25/25 [==============================] - 0s 12ms/step - loss: 0.1152 - root_mean_squared_error: 0.3395 - val_loss: 0.1151 - val_root_mean_squared_error: 0.3392\n",
            "Epoch 63/100\n",
            "25/25 [==============================] - 0s 9ms/step - loss: 0.1152 - root_mean_squared_error: 0.3393 - val_loss: 0.1154 - val_root_mean_squared_error: 0.3397\n",
            "Epoch 64/100\n",
            "25/25 [==============================] - 0s 13ms/step - loss: 0.1152 - root_mean_squared_error: 0.3395 - val_loss: 0.1151 - val_root_mean_squared_error: 0.3393\n",
            "Epoch 65/100\n",
            "25/25 [==============================] - 0s 10ms/step - loss: 0.1150 - root_mean_squared_error: 0.3392 - val_loss: 0.1154 - val_root_mean_squared_error: 0.3397\n",
            "Epoch 66/100\n",
            "25/25 [==============================] - 0s 10ms/step - loss: 0.1151 - root_mean_squared_error: 0.3392 - val_loss: 0.1154 - val_root_mean_squared_error: 0.3396\n",
            "Epoch 67/100\n",
            "25/25 [==============================] - 0s 10ms/step - loss: 0.1149 - root_mean_squared_error: 0.3390 - val_loss: 0.1154 - val_root_mean_squared_error: 0.3397\n",
            "Epoch 68/100\n",
            "25/25 [==============================] - 0s 9ms/step - loss: 0.1151 - root_mean_squared_error: 0.3392 - val_loss: 0.1156 - val_root_mean_squared_error: 0.3400\n",
            "Epoch 69/100\n",
            "25/25 [==============================] - 0s 6ms/step - loss: 0.1149 - root_mean_squared_error: 0.3390 - val_loss: 0.1154 - val_root_mean_squared_error: 0.3397\n",
            "Epoch 70/100\n",
            "25/25 [==============================] - 0s 8ms/step - loss: 0.1152 - root_mean_squared_error: 0.3394 - val_loss: 0.1157 - val_root_mean_squared_error: 0.3401\n",
            "Epoch 71/100\n",
            "25/25 [==============================] - 0s 5ms/step - loss: 0.1150 - root_mean_squared_error: 0.3391 - val_loss: 0.1155 - val_root_mean_squared_error: 0.3398\n",
            "Epoch 72/100\n",
            "25/25 [==============================] - 0s 7ms/step - loss: 0.1148 - root_mean_squared_error: 0.3388 - val_loss: 0.1155 - val_root_mean_squared_error: 0.3399\n",
            "Epoch 73/100\n",
            "25/25 [==============================] - 0s 6ms/step - loss: 0.1148 - root_mean_squared_error: 0.3388 - val_loss: 0.1156 - val_root_mean_squared_error: 0.3401\n",
            "Epoch 74/100\n",
            "25/25 [==============================] - 0s 6ms/step - loss: 0.1149 - root_mean_squared_error: 0.3389 - val_loss: 0.1157 - val_root_mean_squared_error: 0.3401\n",
            "Epoch 75/100\n",
            "25/25 [==============================] - 0s 7ms/step - loss: 0.1147 - root_mean_squared_error: 0.3387 - val_loss: 0.1157 - val_root_mean_squared_error: 0.3401\n",
            "Epoch 76/100\n",
            "25/25 [==============================] - 0s 6ms/step - loss: 0.1146 - root_mean_squared_error: 0.3386 - val_loss: 0.1157 - val_root_mean_squared_error: 0.3401\n",
            "Epoch 77/100\n",
            "25/25 [==============================] - 0s 8ms/step - loss: 0.1146 - root_mean_squared_error: 0.3385 - val_loss: 0.1158 - val_root_mean_squared_error: 0.3402\n",
            "Epoch 78/100\n",
            "25/25 [==============================] - 0s 6ms/step - loss: 0.1145 - root_mean_squared_error: 0.3383 - val_loss: 0.1160 - val_root_mean_squared_error: 0.3406\n",
            "Epoch 79/100\n",
            "25/25 [==============================] - 0s 9ms/step - loss: 0.1146 - root_mean_squared_error: 0.3385 - val_loss: 0.1159 - val_root_mean_squared_error: 0.3404\n",
            "Epoch 80/100\n",
            "25/25 [==============================] - 0s 6ms/step - loss: 0.1144 - root_mean_squared_error: 0.3382 - val_loss: 0.1160 - val_root_mean_squared_error: 0.3406\n",
            "Epoch 81/100\n",
            "25/25 [==============================] - 0s 6ms/step - loss: 0.1143 - root_mean_squared_error: 0.3381 - val_loss: 0.1160 - val_root_mean_squared_error: 0.3405\n",
            "Epoch 82/100\n",
            "25/25 [==============================] - 0s 9ms/step - loss: 0.1145 - root_mean_squared_error: 0.3384 - val_loss: 0.1159 - val_root_mean_squared_error: 0.3405\n",
            "Epoch 83/100\n",
            "25/25 [==============================] - 0s 10ms/step - loss: 0.1145 - root_mean_squared_error: 0.3384 - val_loss: 0.1161 - val_root_mean_squared_error: 0.3407\n",
            "Epoch 84/100\n",
            "25/25 [==============================] - 0s 12ms/step - loss: 0.1145 - root_mean_squared_error: 0.3384 - val_loss: 0.1162 - val_root_mean_squared_error: 0.3410\n",
            "Epoch 85/100\n",
            "25/25 [==============================] - 0s 11ms/step - loss: 0.1142 - root_mean_squared_error: 0.3380 - val_loss: 0.1161 - val_root_mean_squared_error: 0.3408\n",
            "Epoch 86/100\n",
            "25/25 [==============================] - 0s 11ms/step - loss: 0.1142 - root_mean_squared_error: 0.3379 - val_loss: 0.1162 - val_root_mean_squared_error: 0.3409\n",
            "Epoch 87/100\n",
            "25/25 [==============================] - 0s 18ms/step - loss: 0.1141 - root_mean_squared_error: 0.3378 - val_loss: 0.1162 - val_root_mean_squared_error: 0.3409\n",
            "Epoch 88/100\n",
            "25/25 [==============================] - 1s 31ms/step - loss: 0.1140 - root_mean_squared_error: 0.3377 - val_loss: 0.1163 - val_root_mean_squared_error: 0.3410\n",
            "Epoch 89/100\n",
            "25/25 [==============================] - 1s 26ms/step - loss: 0.1140 - root_mean_squared_error: 0.3377 - val_loss: 0.1163 - val_root_mean_squared_error: 0.3410\n",
            "Epoch 90/100\n",
            "25/25 [==============================] - 0s 12ms/step - loss: 0.1141 - root_mean_squared_error: 0.3377 - val_loss: 0.1163 - val_root_mean_squared_error: 0.3410\n",
            "Epoch 91/100\n",
            "25/25 [==============================] - 0s 14ms/step - loss: 0.1139 - root_mean_squared_error: 0.3375 - val_loss: 0.1165 - val_root_mean_squared_error: 0.3413\n",
            "Epoch 92/100\n",
            "25/25 [==============================] - 0s 8ms/step - loss: 0.1138 - root_mean_squared_error: 0.3374 - val_loss: 0.1165 - val_root_mean_squared_error: 0.3414\n",
            "Epoch 93/100\n",
            "25/25 [==============================] - 0s 8ms/step - loss: 0.1139 - root_mean_squared_error: 0.3374 - val_loss: 0.1165 - val_root_mean_squared_error: 0.3412\n",
            "Epoch 94/100\n",
            "25/25 [==============================] - 0s 10ms/step - loss: 0.1139 - root_mean_squared_error: 0.3375 - val_loss: 0.1167 - val_root_mean_squared_error: 0.3416\n",
            "Epoch 95/100\n",
            "25/25 [==============================] - 0s 7ms/step - loss: 0.1138 - root_mean_squared_error: 0.3373 - val_loss: 0.1166 - val_root_mean_squared_error: 0.3415\n",
            "Epoch 96/100\n",
            "25/25 [==============================] - 0s 8ms/step - loss: 0.1138 - root_mean_squared_error: 0.3373 - val_loss: 0.1166 - val_root_mean_squared_error: 0.3415\n",
            "Epoch 97/100\n",
            "25/25 [==============================] - 0s 8ms/step - loss: 0.1137 - root_mean_squared_error: 0.3372 - val_loss: 0.1167 - val_root_mean_squared_error: 0.3416\n",
            "Epoch 98/100\n",
            "25/25 [==============================] - 0s 6ms/step - loss: 0.1138 - root_mean_squared_error: 0.3373 - val_loss: 0.1167 - val_root_mean_squared_error: 0.3416\n",
            "Epoch 99/100\n",
            "25/25 [==============================] - 0s 6ms/step - loss: 0.1137 - root_mean_squared_error: 0.3372 - val_loss: 0.1168 - val_root_mean_squared_error: 0.3418\n",
            "Epoch 100/100\n",
            "25/25 [==============================] - 0s 7ms/step - loss: 0.1136 - root_mean_squared_error: 0.3371 - val_loss: 0.1168 - val_root_mean_squared_error: 0.3418\n"
          ]
        }
      ],
      "source": [
        "#Model\n",
        "concat = tf.keras.layers.Concatenate()([user_vec, place_vec])\n",
        "\n",
        "fc1 = tf.keras.layers.Dense(128, activation='relu')(concat)\n",
        "fc2 = tf.keras.layers.Dense(64, activation='relu')(fc1)\n",
        "fc3 = tf.keras.layers.Dense(16, activation='relu')(fc2)\n",
        "y = tf.keras.layers.Dense(1)(fc3)\n",
        "\n",
        "model = tf.keras.models.Model(inputs=[user_id_input, place_id_input], outputs=y)\n",
        "\n",
        "model.compile(optimizer = tf.keras.optimizers.SGD(learning_rate=0.001, momentum = 0.9),\n",
        "              loss = tf.losses.mean_squared_error,\n",
        "              metrics =[tf.keras.metrics.RootMeanSquaredError()]\n",
        ")\n",
        "\n",
        "history = model.fit(x = [x_train[:,0], x_train[:,1]],\n",
        "                    y = y_train,\n",
        "                    validation_data =([x_test[:,0], x_test[:,1]], y_test),\n",
        "                    epochs = 100,\n",
        "                    verbose=1)"
      ]
    },
    {
      "cell_type": "code",
      "source": [
        "model.summary()"
      ],
      "metadata": {
        "id": "tq734c9JsuPF",
        "outputId": "2d240963-c5de-4db1-cd92-d01b4fdf9792",
        "colab": {
          "base_uri": "https://localhost:8080/"
        }
      },
      "execution_count": 28,
      "outputs": [
        {
          "output_type": "stream",
          "name": "stdout",
          "text": [
            "Model: \"model\"\n",
            "__________________________________________________________________________________________________\n",
            " Layer (type)                   Output Shape         Param #     Connected to                     \n",
            "==================================================================================================\n",
            " user_id_input (InputLayer)     [(None, 1)]          0           []                               \n",
            "                                                                                                  \n",
            " place_id_input (InputLayer)    [(None, 1)]          0           []                               \n",
            "                                                                                                  \n",
            " user_embedding (Embedding)     (None, 1, 10)        70          ['user_id_input[0][0]']          \n",
            "                                                                                                  \n",
            " place_embedding (Embedding)    (None, 1, 20)        740         ['place_id_input[0][0]']         \n",
            "                                                                                                  \n",
            " flatten-user (Flatten)         (None, 10)           0           ['user_embedding[0][0]']         \n",
            "                                                                                                  \n",
            " flatten-place (Flatten)        (None, 20)           0           ['place_embedding[0][0]']        \n",
            "                                                                                                  \n",
            " concatenate (Concatenate)      (None, 30)           0           ['flatten-user[0][0]',           \n",
            "                                                                  'flatten-place[0][0]']          \n",
            "                                                                                                  \n",
            " dense (Dense)                  (None, 128)          3968        ['concatenate[0][0]']            \n",
            "                                                                                                  \n",
            " dense_1 (Dense)                (None, 64)           8256        ['dense[0][0]']                  \n",
            "                                                                                                  \n",
            " dense_2 (Dense)                (None, 16)           1040        ['dense_1[0][0]']                \n",
            "                                                                                                  \n",
            " dense_3 (Dense)                (None, 1)            17          ['dense_2[0][0]']                \n",
            "                                                                                                  \n",
            "==================================================================================================\n",
            "Total params: 14,091\n",
            "Trainable params: 14,091\n",
            "Non-trainable params: 0\n",
            "__________________________________________________________________________________________________\n"
          ]
        }
      ]
    },
    {
      "cell_type": "code",
      "execution_count": 29,
      "metadata": {
        "id": "ZlHpPB58x1lw"
      },
      "outputs": [],
      "source": [
        "import tensorflow as tf\n",
        "from sklearn.metrics import mean_squared_error"
      ]
    },
    {
      "cell_type": "code",
      "execution_count": 30,
      "metadata": {
        "colab": {
          "base_uri": "https://localhost:8080/",
          "height": 490
        },
        "id": "Nw8QzK04x1lw",
        "outputId": "83454af0-3465-4729-c1d8-5fe3b121e8e9"
      },
      "outputs": [
        {
          "output_type": "execute_result",
          "data": {
            "text/plain": [
              "<function matplotlib.pyplot.show(close=None, block=None)>"
            ]
          },
          "metadata": {},
          "execution_count": 30
        },
        {
          "output_type": "display_data",
          "data": {
            "text/plain": [
              "<Figure size 640x480 with 1 Axes>"
            ],
            "image/png": "[encoded data removed]"
          },
          "metadata": {}
        }
      ],
      "source": [
        "#showing the plot of residual\n",
        "plt.plot(history.history['root_mean_squared_error'])\n",
        "plt.plot(history.history['val_root_mean_squared_error'])\n",
        "plt.title('metrics of model')\n",
        "plt.ylabel('root_mean_squared_error')\n",
        "plt.xlabel('epoch')\n",
        "plt.ylim(ymin=0, ymax=1)\n",
        "plt.legend(['train','test'], loc='center left')\n",
        "plt.show"
      ]
    },
    {
      "cell_type": "code",
      "execution_count": 31,
      "metadata": {
        "id": "QuuycOwox1lw"
      },
      "outputs": [],
      "source": [
        "place_df = place[['id', 'name','tour_category_id', 'rating_score', 'price']]\n",
        "place_df.columns = ['id','place_name','category','rating','price']\n",
        "df=filtered_data.copy()\n",
        "\n",
        "user_id = df.user_id.sample(1).iloc[0]\n",
        "place_visited_by_user = df[df.user_id == user_id]\n",
        "\n",
        "place_not_visited = place_df[~place_df['id'].isin(place_visited_by_user.tourist_destination_id.values)]['id']\n",
        "\n",
        "\n"
      ]
    },
    {
      "cell_type": "code",
      "source": [
        "place_not_visited"
      ],
      "metadata": {
        "colab": {
          "base_uri": "https://localhost:8080/"
        },
        "id": "9clUzGfwt3_3",
        "outputId": "6aa75d9c-6eb8-41b2-e46c-a52238a040c9"
      },
      "execution_count": 32,
      "outputs": [
        {
          "output_type": "execute_result",
          "data": {
            "text/plain": [
              "Series([], Name: id, dtype: int64)"
            ]
          },
          "metadata": {},
          "execution_count": 32
        }
      ]
    },
    {
      "cell_type": "code",
      "source": [
        "if len(place_not_visited)==0 :\n",
        "        place_not_visited = place_df[place_df['id'].isin(place_visited_by_user.tourist_destination_id.values)]['id']"
      ],
      "metadata": {
        "id": "RZKH6o8Et6FO"
      },
      "execution_count": 33,
      "outputs": []
    },
    {
      "cell_type": "code",
      "source": [
        "place_not_visited = list(\n",
        "    set(place_not_visited)\n",
        "    .intersection(set(place_to_place_encoded.keys()))\n",
        ")\n",
        "\n",
        "place_not_visited = [[place_to_place_encoded.get(x)] for x in place_not_visited]\n",
        "\n",
        "user_encoder = user_to_user_encoded.get(user_id)\n",
        "user_place_array = np.hstack(\n",
        "    ([[user_encoder]] * len(place_not_visited), place_not_visited)\n",
        ")\n",
        "\n",
        "print(user_place_array.shape)\n",
        "ratings= model.predict([user_place_array[:,0], user_place_array[:,1]]).flatten()"
      ],
      "metadata": {
        "colab": {
          "base_uri": "https://localhost:8080/"
        },
        "id": "EFQh1bBctxaV",
        "outputId": "b2bf44ec-1577-4c65-d56e-9403ed0a4d19"
      },
      "execution_count": 34,
      "outputs": [
        {
          "output_type": "stream",
          "name": "stdout",
          "text": [
            "(36, 2)\n",
            "2/2 [==============================] - 0s 6ms/step\n"
          ]
        }
      ]
    },
    {
      "cell_type": "code",
      "execution_count": 35,
      "metadata": {
        "colab": {
          "base_uri": "https://localhost:8080/"
        },
        "id": "3lo6OnlCx1lw",
        "outputId": "e9e9cf52-1ad6-4ee0-b841-c84182a857d2"
      },
      "outputs": [
        {
          "output_type": "stream",
          "name": "stdout",
          "text": [
            "[23, 34, 6, 18, 5, 16, 21, 36, 8, 2, 30]\n"
          ]
        }
      ],
      "source": [
        "top_ratings_indices = ratings.argsort()[-11:][::-1]\n",
        "recommended_place_ids = [\n",
        "    place_encoded_to_place.get(place_not_visited[x][0]) for x in top_ratings_indices\n",
        "]\n",
        "recommended_place_ids = list(recommended_place_ids)\n",
        "print(recommended_place_ids)"
      ]
    },
    {
      "cell_type": "code",
      "execution_count": 36,
      "metadata": {
        "colab": {
          "base_uri": "https://localhost:8080/"
        },
        "id": "2HV8Cr0ux1lw",
        "outputId": "74a006d6-0316-420e-d26d-d5b3c890b97a"
      },
      "outputs": [
        {
          "output_type": "stream",
          "name": "stdout",
          "text": [
            "Daftar rekomendasi untuk: User a73naa79-18w8-4c89-8003-71yhs88293e3\n",
            "============================================= \n",
            "\n",
            "------------------------------------------------------------\n",
            "Tempat dengan rating wisata paling tinggi dari user\n",
            "------------------------------------------------------------\n",
            "Taman Harmoni Keputih : e13348f5-233e-44df-9c55-a821cd969b52\n",
            "Museum Kesehatan Dr. Adhyatma : 568024bb-641d-41a3-9791-37f42baed746\n",
            "Patung Buddha Empat Rupa : e13348f5-233e-44df-9c55-a821cd969b52\n",
            "Taman Prestasi : 568024bb-641d-41a3-9791-37f42baed746\n",
            "Taman Ekspresi Dan Perpustakaan : e1004438-0b73-4c9e-8b64-5f36285c711c\n",
            "\n",
            "------------------------------------------------------------\n",
            "Top 10 place recommendation\n",
            "------------------------------------------------------------\n",
            "1 . Taman Hiburan Rakyat \n",
            "     e13348f5-233e-44df-9c55-a821cd969b52 , Harga Tiket Masuk  5000 , Rating Wisata  5 \n",
            "\n",
            "2 . Balai Kota Surabaya \n",
            "     e13348f5-233e-44df-9c55-a821cd969b52 , Harga Tiket Masuk  0 , Rating Wisata  1 \n",
            "\n",
            "3 . Monumen Jalesveva Jayamahe \n",
            "     7890e53f-bece-438f-a82a-32a067faf8fb , Harga Tiket Masuk  0 , Rating Wisata  2 \n",
            "\n",
            "4 . Taman Bungkul \n",
            "     8c359fa2-d576-44f4-a2d3-ed9e6574bc63 , Harga Tiket Masuk  0 , Rating Wisata  0 \n",
            "\n",
            "5 . Taman Buah Surabaya \n",
            "     7890e53f-bece-438f-a82a-32a067faf8fb , Harga Tiket Masuk  0 , Rating Wisata  0 \n",
            "\n",
            "6 . Jembatan Merah \n",
            "     8c359fa2-d576-44f4-a2d3-ed9e6574bc63 , Harga Tiket Masuk  0 , Rating Wisata  2 \n",
            "\n",
            "7 . Monumen Kapal Selam \n",
            "     8a3d49eb-a9ca-43ac-87cb-cdbe959cdaf9 , Harga Tiket Masuk  15000 , Rating Wisata  2 \n",
            "\n",
            "8 . Museum De Javasche Bank \n",
            "     e13348f5-233e-44df-9c55-a821cd969b52 , Harga Tiket Masuk  5000 , Rating Wisata  3 \n",
            "\n",
            "9 . Taman Ekspresi Dan Perpustakaan \n",
            "     e1004438-0b73-4c9e-8b64-5f36285c711c , Harga Tiket Masuk  0 , Rating Wisata  2 \n",
            "\n",
            "10 . Taman Barunawati \n",
            "     8a3d49eb-a9ca-43ac-87cb-cdbe959cdaf9 , Harga Tiket Masuk  0 , Rating Wisata  1 \n",
            "\n",
            "=============================================\n",
            "{\n",
            "    \"data\": [\n",
            "        {\n",
            "            \"nama\": \"Taman Hiburan Rakyat\",\n",
            "            \"harga\": \"5000\",\n",
            "            \"rating\": 5\n",
            "        },\n",
            "        {\n",
            "            \"nama\": \"Balai Kota Surabaya\",\n",
            "            \"harga\": \"0\",\n",
            "            \"rating\": 1\n",
            "        },\n",
            "        {\n",
            "            \"nama\": \"Monumen Jalesveva Jayamahe\",\n",
            "            \"harga\": \"0\",\n",
            "            \"rating\": 2\n",
            "        },\n",
            "        {\n",
            "            \"nama\": \"Taman Bungkul\",\n",
            "            \"harga\": \"0\",\n",
            "            \"rating\": 0\n",
            "        },\n",
            "        {\n",
            "            \"nama\": \"Taman Buah Surabaya\",\n",
            "            \"harga\": \"0\",\n",
            "            \"rating\": 0\n",
            "        },\n",
            "        {\n",
            "            \"nama\": \"Jembatan Merah\",\n",
            "            \"harga\": \"0\",\n",
            "            \"rating\": 2\n",
            "        },\n",
            "        {\n",
            "            \"nama\": \"Monumen Kapal Selam\",\n",
            "            \"harga\": \"15000\",\n",
            "            \"rating\": 2\n",
            "        },\n",
            "        {\n",
            "            \"nama\": \"Museum De Javasche Bank\",\n",
            "            \"harga\": \"5000\",\n",
            "            \"rating\": 3\n",
            "        },\n",
            "        {\n",
            "            \"nama\": \"Taman Ekspresi Dan Perpustakaan\",\n",
            "            \"harga\": \"0\",\n",
            "            \"rating\": 2\n",
            "        },\n",
            "        {\n",
            "            \"nama\": \"Taman Barunawati\",\n",
            "            \"harga\": \"0\",\n",
            "            \"rating\": 1\n",
            "        }\n",
            "    ]\n",
            "}\n"
          ]
        }
      ],
      "source": [
        "print('Daftar rekomendasi untuk: {}'.format('User ' + str(user_id)))\n",
        "print('===' * 15,'\\n')\n",
        "print('----' * 15)\n",
        "print('Tempat dengan rating wisata paling tinggi dari user')\n",
        "print('----' * 15)\n",
        "\n",
        "top_place_user = (\n",
        "    place_visited_by_user.sort_values(\n",
        "        by = 'score',\n",
        "        ascending=False\n",
        "    )\n",
        "    .head(5)\n",
        "    .tourist_destination_id.values\n",
        ")\n",
        "\n",
        "place_df_rows = place_df[place_df['id'].isin(top_place_user)]\n",
        "for row in place_df_rows.itertuples():\n",
        "    print(row.place_name, ':', row.category)\n",
        "\n",
        "print('')\n",
        "print('----' * 15)\n",
        "print('Top 10 place recommendation')\n",
        "print('----' * 15)\n",
        "\n",
        "recommended_place = place_df[place_df['id'].isin(recommended_place_ids)]\n",
        "for row, i in zip(recommended_place.itertuples(), range(1,11)):\n",
        "    print(i,'.', row.place_name, '\\n    ', row.category, ',', 'Harga Tiket Masuk ', row.price, ',', 'Rating Wisata ', row.rating,'\\n')\n",
        "\n",
        "print('==='*15)\n",
        "\n",
        "jsonData = []\n",
        "for row, i in zip(recommended_place.itertuples(), range(1,11)):\n",
        "  jsonData.append({\n",
        "      \"nama\": row.place_name,\n",
        "      \"harga\": row.price,\n",
        "      \"rating\": row.rating\n",
        "  })\n",
        "\n",
        "finalJsonData = {\n",
        "    \"data\": jsonData\n",
        "}\n",
        "y = json.dumps(finalJsonData, indent=4)\n",
        "print(y)\n"
      ]
    },
    {
      "cell_type": "code",
      "execution_count": 37,
      "metadata": {
        "id": "-nQ-bL66L9rD"
      },
      "outputs": [],
      "source": [
        "#Deploy"
      ]
    },
    {
      "cell_type": "code",
      "execution_count": 38,
      "metadata": {
        "id": "GCRKjxEML9rE",
        "colab": {
          "base_uri": "https://localhost:8080/"
        },
        "outputId": "d8fb163c-1f9a-43f6-a288-9d0665511785"
      },
      "outputs": [
        {
          "output_type": "stream",
          "name": "stderr",
          "text": [
            "WARNING:absl:Found untraced functions such as _update_step_xla while saving (showing 1 of 1). These functions will not be directly callable after loading.\n"
          ]
        }
      ],
      "source": [
        "saved_model='saved_model/1'\n",
        "tf.saved_model.save(model, export_dir=saved_model)"
      ]
    },
    {
      "cell_type": "code",
      "execution_count": 39,
      "metadata": {
        "id": "RLo6Fo97L9rE"
      },
      "outputs": [],
      "source": [
        "#Select mode of optimization\n",
        "mode=\"Speed\"\n",
        "if mode == 'Storage':\n",
        "    optimization = tf.lite.Optimize.OPTIMIZE_FOR_SIZE\n",
        "else:\n",
        "    optimization = tf.lite.Optimize.DEFAULT"
      ]
    },
    {
      "cell_type": "code",
      "execution_count": 40,
      "metadata": {
        "id": "oqUKn8cIL9rE"
      },
      "outputs": [],
      "source": [
        "converter = tf.lite.TFLiteConverter.from_saved_model(saved_model)\n",
        "converter.optimizations=[optimization]\n",
        "tflite_model=converter.convert();"
      ]
    },
    {
      "cell_type": "code",
      "execution_count": 41,
      "metadata": {
        "id": "ZGuxDGO0L9rE"
      },
      "outputs": [],
      "source": [
        "import pathlib"
      ]
    },
    {
      "cell_type": "code",
      "execution_count": 42,
      "metadata": {
        "id": "cO2E7AM-L9rE",
        "colab": {
          "base_uri": "https://localhost:8080/"
        },
        "outputId": "4a66a0be-9479-4402-ee3e-2e46348c56ad"
      },
      "outputs": [
        {
          "output_type": "execute_result",
          "data": {
            "text/plain": [
              "21336"
            ]
          },
          "metadata": {},
          "execution_count": 42
        }
      ],
      "source": [
        "tflite_model_file = pathlib.Path('./model.tflite')\n",
        "tflite_model_file.write_bytes(tflite_model)\n"
      ]
    },
    {
      "cell_type": "code",
      "source": [
        "import joblib\n",
        "\n",
        "joblib.dump(modelc, \"model.joblib\")\n"
      ],
      "metadata": {
        "id": "Jlh2mVhnMXAT",
        "colab": {
          "base_uri": "https://localhost:8080/"
        },
        "outputId": "223adf3f-eded-4a45-b495-b5b817bfeae5"
      },
      "execution_count": 43,
      "outputs": [
        {
          "output_type": "execute_result",
          "data": {
            "text/plain": [
              "['model.joblib']"
            ]
          },
          "metadata": {},
          "execution_count": 43
        }
      ]
    },
    {
      "cell_type": "code",
      "source": [
        "saved_model_path = \"./my_model.h5\"\n",
        "model.save(saved_model_path)\n",
        "!tensorflowjs_converter --input_format=keras {saved_model_path} ./"
      ],
      "metadata": {
        "id": "_jGjb5dEL9oo",
        "colab": {
          "base_uri": "https://localhost:8080/"
        },
        "outputId": "5b6ddda1-5a4c-49cd-9061-2e61c36c4d5c"
      },
      "execution_count": 44,
      "outputs": [
        {
          "output_type": "stream",
          "name": "stdout",
          "text": [
            "/bin/bash: tensorflowjs_converter: command not found\n"
          ]
        }
      ]
    }
  ],
  "metadata": {
    "colab": {
      "provenance": []
    },
    "kernelspec": {
      "display_name": "Python 3 (ipykernel)",
      "language": "python",
      "name": "python3"
    },
    "language_info": {
      "codemirror_mode": {
        "name": "ipython",
        "version": 3
      },
      "file_extension": ".py",
      "mimetype": "text/x-python",
      "name": "python",
      "nbconvert_exporter": "python",
      "pygments_lexer": "ipython3",
      "version": "3.10.9"
    }
  },
  "nbformat": 4,
  "nbformat_minor": 0
}